{
 "cells": [
  {
   "cell_type": "code",
   "execution_count": 42,
   "outputs": [
    {
     "name": "stdout",
     "output_type": "stream",
     "text": [
      "2.0.0+cu118\n"
     ]
    }
   ],
   "source": [
    "import torch\n",
    "print(torch.__version__)\n",
    "torch.cuda.empty_cache()"
   ],
   "metadata": {
    "collapsed": false
   }
  },
  {
   "cell_type": "code",
   "execution_count": 43,
   "outputs": [
    {
     "name": "stdout",
     "output_type": "stream",
     "text": [
      "cuda\n"
     ]
    }
   ],
   "source": [
    "device = torch.device('cuda' if torch.cuda.is_available() else 'cpu')\n",
    "print(device)\n",
    "\n"
   ],
   "metadata": {
    "collapsed": false
   }
  },
  {
   "cell_type": "code",
   "execution_count": 82,
   "metadata": {
    "collapsed": true
   },
   "outputs": [
    {
     "name": "stderr",
     "output_type": "stream",
     "text": [
      "Reusing dataset imdb (C:\\Users\\zeyu song\\.cache\\huggingface\\datasets\\imdb\\plain_text\\1.0.0\\2fdd8b9bcadd6e7055e742a706876ba43f19faee861df134affd7a3f60fc38a1)\n"
     ]
    },
    {
     "data": {
      "text/plain": "HBox(children=(FloatProgress(value=0.0, max=3.0), HTML(value='')))",
      "application/vnd.jupyter.widget-view+json": {
       "version_major": 2,
       "version_minor": 0,
       "model_id": "12f8dd99aed64c3daf14fddfec4ef988"
      }
     },
     "metadata": {},
     "output_type": "display_data"
    },
    {
     "name": "stderr",
     "output_type": "stream",
     "text": [
      "textattack: Loading \u001B[94mdatasets\u001B[0m dataset \u001B[94mimdb\u001B[0m, split \u001B[94mtest\u001B[0m.\n"
     ]
    },
    {
     "name": "stdout",
     "output_type": "stream",
     "text": [
      "\n"
     ]
    },
    {
     "name": "stderr",
     "output_type": "stream",
     "text": [
      "Reusing dataset imdb (C:\\Users\\zeyu song\\.cache\\huggingface\\datasets\\imdb\\plain_text\\1.0.0\\2fdd8b9bcadd6e7055e742a706876ba43f19faee861df134affd7a3f60fc38a1)\n"
     ]
    },
    {
     "data": {
      "text/plain": "HBox(children=(FloatProgress(value=0.0, max=3.0), HTML(value='')))",
      "application/vnd.jupyter.widget-view+json": {
       "version_major": 2,
       "version_minor": 0,
       "model_id": "1ada0b45440140819991a66e811a221f"
      }
     },
     "metadata": {},
     "output_type": "display_data"
    },
    {
     "name": "stderr",
     "output_type": "stream",
     "text": [
      "textattack: Loading \u001B[94mdatasets\u001B[0m dataset \u001B[94mimdb\u001B[0m, split \u001B[94mtest\u001B[0m.\n",
      "textattack: Unknown if model of class <class 'transformers.models.bert.modeling_bert.BertForSequenceClassification'> compatible with goal function <class 'textattack.goal_functions.classification.untargeted_classification.UntargetedClassification'>.\n",
      "textattack: Logging to CSV at path log_combined.csv\n",
      "\n",
      "  0%|          | 0/100 [00:00<?, ?it/s]\u001B[A"
     ]
    },
    {
     "name": "stdout",
     "output_type": "stream",
     "text": [
      "\n",
      "Attack(\n",
      "  (search_method): GreedyWordSwapWIR(\n",
      "    (wir_method):  delete\n",
      "  )\n",
      "  (goal_function):  UntargetedClassification\n",
      "  (transformation):  WordSwapEmbedding(\n",
      "    (max_candidates):  50\n",
      "    (embedding):  WordEmbedding\n",
      "  )\n",
      "  (constraints): \n",
      "    (0): WordEmbeddingDistance(\n",
      "        (embedding):  WordEmbedding\n",
      "        (min_cos_sim):  0.5\n",
      "        (cased):  False\n",
      "        (include_unknown_words):  True\n",
      "        (compare_against_original):  True\n",
      "      )\n",
      "    (1): PartOfSpeech(\n",
      "        (tagger_type):  nltk\n",
      "        (tagset):  universal\n",
      "        (allow_verb_noun_swap):  True\n",
      "        (compare_against_original):  True\n",
      "      )\n",
      "    (2): UniversalSentenceEncoder(\n",
      "        (metric):  angular\n",
      "        (threshold):  0.840845057\n",
      "        (window_size):  15\n",
      "        (skip_text_shorter_than_window):  True\n",
      "        (compare_against_original):  False\n",
      "      )\n",
      "    (3): RepeatModification\n",
      "    (4): MaxModificationRate(\n",
      "        (max_rate):  0.5\n",
      "        (min_threshold):  10\n",
      "      )\n",
      "    (5): InputColumnModification(\n",
      "        (matching_column_labels):  ['premise', 'hypothesis']\n",
      "        (columns_to_ignore):  {'premise'}\n",
      "      )\n",
      "  (is_black_box):  True\n",
      ") \n",
      "\n"
     ]
    },
    {
     "name": "stderr",
     "output_type": "stream",
     "text": [
      "\n",
      "  1%|          | 1/100 [00:20<34:26, 20.87s/it]\u001B[A\n",
      "[Succeeded / Failed / Skipped / Total] 1 / 0 / 0 / 1:   1%|          | 1/100 [00:20<34:27, 20.89s/it]\u001B[A"
     ]
    },
    {
     "name": "stdout",
     "output_type": "stream",
     "text": [
      "--------------------------------------------- Result 1 ---------------------------------------------\n",
      "[[Negative (100%)]] --> [[Positive (56%)]]\n",
      "\n",
      "[[I]] [[love]] sci-fi and [[am]] [[willing]] to put [[up]] [[with]] [[a]] lot. Sci-fi [[movies]]/TV are usually underfunded, under-appreciated and misunderstood. I [[tried]] to like this, I [[really]] did, but it [[is]] to [[good]] TV sci-fi as Babylon 5 [[is]] to Star Trek (the original). [[Silly]] [[prosthetics]], cheap cardboard sets, stilted dialogues, [[CG]] that doesn't match the background, [[and]] [[painfully]] one-dimensional characters [[cannot]] be overcome [[with]] a 'sci-fi' setting. (I'm sure there are those of you [[out]] there [[who]] think Babylon 5 is good sci-fi TV. It's not. It's clichéd and uninspiring.) [[While]] US viewers might like emotion and character development, sci-fi is a [[genre]] that does [[not]] [[take]] itself seriously (cf. Star Trek). It may treat important issues, yet not as a serious philosophy. It's really difficult to care about the characters here as they are not simply foolish, just missing a spark of life. Their actions and [[reactions]] are wooden and [[predictable]], [[often]] [[painful]] to watch. The [[makers]] of Earth [[KNOW]] it's rubbish as they have to always say \"Gene Roddenberry's Earth...\" otherwise people would not continue watching. Roddenberry's ashes must [[be]] turning in their [[orbit]] [[as]] this dull, cheap, poorly edited (watching it without advert breaks really brings this home) trudging Trabant of a show lumbers into space. Spoiler. So, kill off a main character. And then bring him back as another actor. Jeeez! Dallas all over again.\n",
      "\n",
      "[[me]] [[enjoyed]] sci-fi and [[feel]] [[wish]] to put [[upstairs]] [[into]] [[another]] lot. Sci-fi [[musicals]]/TV are usually underfunded, under-appreciated and misunderstood. I [[judged]] to like this, I [[indeed]] did, but it [[provides]] to [[nice]] TV sci-fi as Babylon 5 [[ai]] to Star Trek (the original). [[Punchy]] [[surgeon]], cheap cardboard sets, stilted dialogues, [[MC]] that doesn't match the background, [[nor]] [[terrifically]] one-dimensional characters [[pronounced]] be overcome [[of]] a 'sci-fi' setting. (I'm sure there are those of you [[outside]] there [[whoever]] think Babylon 5 is good sci-fi TV. It's not. It's clichéd and uninspiring.) [[During]] US viewers might like emotion and character development, sci-fi is a [[sorting]] that does [[never]] [[assuming]] itself seriously (cf. Star Trek). It may treat important issues, yet not as a serious philosophy. It's really difficult to care about the characters here as they are not simply foolish, just missing a spark of life. Their actions and [[reply]] are wooden and [[foretold]], [[generally]] [[poignant]] to watch. The [[setters]] of Earth [[APPRECIATE]] it's rubbish as they have to always say \"Gene Roddenberry's Earth...\" otherwise people would not continue watching. Roddenberry's ashes must [[have]] turning in their [[orbiting]] [[oj]] this dull, cheap, poorly edited (watching it without advert breaks really brings this home) trudging Trabant of a show lumbers into space. Spoiler. So, kill off a main character. And then bring him back as another actor. Jeeez! Dallas all over again.\n",
      "\n",
      "\n"
     ]
    },
    {
     "name": "stderr",
     "output_type": "stream",
     "text": [
      "\n",
      "[Succeeded / Failed / Skipped / Total] 1 / 0 / 0 / 1:   2%|▏         | 2/100 [00:24<20:12, 12.38s/it]\u001B[A\n",
      "[Succeeded / Failed / Skipped / Total] 2 / 0 / 0 / 2:   2%|▏         | 2/100 [00:24<20:13, 12.39s/it]\u001B[A"
     ]
    },
    {
     "name": "stdout",
     "output_type": "stream",
     "text": [
      "--------------------------------------------- Result 2 ---------------------------------------------\n",
      "[[Negative (100%)]] --> [[Positive (57%)]]\n",
      "\n",
      "Worth the entertainment value of a rental, especially if you like action movies. This one features the usual car chases, fights with the great Van Damme kick style, shooting battles with the 40 shell load shotgun, and even terrorist style bombs. All of this is entertaining and competently handled but there is nothing that really blows you away if you've seen your share before.<br /><br />The plot is made interesting by the inclusion of a rabbit, which is clever but [[hardly]] profound. Many of the characters are heavily stereotyped -- the angry veterans, the terrified illegal aliens, the crooked cops, the indifferent feds, the bitchy tough lady station head, the crooked politician, the fat federale who looks like he was typecast as the Mexican in a Hollywood movie from the 1940s. All passably acted but again nothing special.<br /><br />I thought the main villains were pretty well done and fairly well acted. By the end of the movie you certainly knew who the good guys were and weren't. There was an emotional lift as the really bad ones got their just deserts. Very simplistic, but then you weren't expecting Hamlet, right? The only thing I found really annoying was the constant cuts to VDs daughter during the last fight scene.<br /><br />Not bad. [[Not]] good. Passable 4.\n",
      "\n",
      "Worth the entertainment value of a rental, especially if you like action movies. This one features the usual car chases, fights with the great Van Damme kick style, shooting battles with the 40 shell load shotgun, and even terrorist style bombs. All of this is entertaining and competently handled but there is nothing that really blows you away if you've seen your share before.<br /><br />The plot is made interesting by the inclusion of a rabbit, which is clever but [[merely]] profound. Many of the characters are heavily stereotyped -- the angry veterans, the terrified illegal aliens, the crooked cops, the indifferent feds, the bitchy tough lady station head, the crooked politician, the fat federale who looks like he was typecast as the Mexican in a Hollywood movie from the 1940s. All passably acted but again nothing special.<br /><br />I thought the main villains were pretty well done and fairly well acted. By the end of the movie you certainly knew who the good guys were and weren't. There was an emotional lift as the really bad ones got their just deserts. Very simplistic, but then you weren't expecting Hamlet, right? The only thing I found really annoying was the constant cuts to VDs daughter during the last fight scene.<br /><br />Not bad. [[Either]] good. Passable 4.\n",
      "\n",
      "\n"
     ]
    },
    {
     "name": "stderr",
     "output_type": "stream",
     "text": [
      "\n",
      "[Succeeded / Failed / Skipped / Total] 2 / 0 / 0 / 2:   3%|▎         | 3/100 [00:27<14:38,  9.06s/it]\u001B[A\n",
      "[Succeeded / Failed / Skipped / Total] 3 / 0 / 0 / 3:   3%|▎         | 3/100 [00:27<14:39,  9.06s/it]\u001B[A"
     ]
    },
    {
     "name": "stdout",
     "output_type": "stream",
     "text": [
      "--------------------------------------------- Result 3 ---------------------------------------------\n",
      "[[Negative (100%)]] --> [[Negative (52%)]]\n",
      "\n",
      "its a totally average film with a few semi-alright action sequences that make the plot seem a little better and remind the viewer of the classic van dam films. parts of the plot don't make sense and seem to be added in to use up time. the end plot is that of a very basic type that doesn't leave the viewer guessing and any twists are obvious from the beginning. the end scene with the flask backs don't make sense as they are added in and seem to have little relevance to the history of van dam's character. not really [[worth]] watching again, bit disappointed in the end production, even though it is apparent it was shot on a low budget certain shots and sections in the film are of poor directed quality\n",
      "\n",
      "its a totally average film with a few semi-alright action sequences that make the plot seem a little better and remind the viewer of the classic van dam films. parts of the plot don't make sense and seem to be added in to use up time. the end plot is that of a very basic type that doesn't leave the viewer guessing and any twists are obvious from the beginning. the end scene with the flask backs don't make sense as they are added in and seem to have little relevance to the history of van dam's character. not really [[meritorious]] watching again, bit disappointed in the end production, even though it is apparent it was shot on a low budget certain shots and sections in the film are of poor directed quality\n",
      "\n",
      "\n"
     ]
    },
    {
     "name": "stderr",
     "output_type": "stream",
     "text": [
      "\n",
      "[Succeeded / Failed / Skipped / Total] 3 / 0 / 0 / 3:   4%|▍         | 4/100 [00:45<18:08, 11.34s/it]\u001B[A\n",
      "[Succeeded / Failed / Skipped / Total] 4 / 0 / 0 / 4:   4%|▍         | 4/100 [00:45<18:08, 11.34s/it]\u001B[A\n",
      "[Succeeded / Failed / Skipped / Total] 4 / 0 / 1 / 5:   5%|▌         | 5/100 [00:45<14:22,  9.08s/it]\u001B[Atextattack: Saving checkpoint under \"checkpoints\\1682476062460.ta.chkpt\" at 2023-04-25 22:27:42 after 5 attacks.\n"
     ]
    },
    {
     "name": "stdout",
     "output_type": "stream",
     "text": [
      "--------------------------------------------- Result 4 ---------------------------------------------\n",
      "[[Negative (100%)]] --> [[Negative (60%)]]\n",
      "\n",
      "[[STAR]] [[RATING]]: ***** Saturday Night **** Friday Night *** Friday Morning ** Sunday Night * Monday Morning <br /><br />Former New Orleans homicide cop Jack Robideaux (Jean Claude Van Damme) is re-assigned to Columbus, a small but violent town in Mexico to help the police there with their efforts to stop a major heroin smuggling operation into their town. The culprits turn out to be ex-military, lead by former commander Benjamin Meyers (Stephen Lord, otherwise known as Jase from East Enders) who is using a special method he learned in Afghanistan to fight off his opponents. But Jack has a more personal [[reason]] for taking him down, that draws the two men into an explosive final showdown where only one will walk away alive.<br /><br />After Until Death, Van Damme [[appeared]] to [[be]] on a high, showing he [[could]] make the best straight to [[video]] films in the action market. While that was a far more drama oriented film, with The Shepherd he has returned to the high-kicking, no brainer [[action]] that first made him famous and has sadly produced his worst film since Derailed. It's nowhere near as [[bad]] as that film, but what I said still stands.<br /><br />A dull, predictable film, [[with]] very little in the way of any exciting action. What little there is mainly [[consists]] of some limp fight scenes, trying to look cool and trendy with some cheap slo-mo/sped up effects added to them that sadly instead make them look more desperate. Being a Mexican set film, [[director]] Isaac Florentine has tried to give the film a Robert Rodriguez/Desperado sort of feel, but this [[only]] adds to the desperation.<br /><br />VD gives a particularly [[uninspired]] performance and given he's never been a Robert De Niro sort of actor, that can't be good. As the villain, [[Lord]] shouldn't expect to leave the beeb anytime soon. [[He]] [[gets]] little [[dialogue]] at the [[beginning]] as [[he]] struggles to muster an American accent but gets mysteriously better towards the end. All the supporting cast are equally [[bland]], and do nothing to raise the films spirits at all.<br /><br />This is one shepherd that's [[strayed]] right from the flock. *\n",
      "\n",
      "[[STARLIGHT]] [[SYMBOL]]: ***** Saturday Night **** Friday Night *** Friday Morning ** Sunday Night * Monday Morning <br /><br />Former New Orleans homicide cop Jack Robideaux (Jean Claude Van Damme) is re-assigned to Columbus, a small but violent town in Mexico to help the police there with their efforts to stop a major heroin smuggling operation into their town. The culprits turn out to be ex-military, lead by former commander Benjamin Meyers (Stephen Lord, otherwise known as Jase from East Enders) who is using a special method he learned in Afghanistan to fight off his opponents. But Jack has a more personal [[motifs]] for taking him down, that draws the two men into an explosive final showdown where only one will walk away alive.<br /><br />After Until Death, Van Damme [[talked]] to [[got]] on a high, showing he [[does]] make the best straight to [[filmmaking]] films in the action market. While that was a far more drama oriented film, with The Shepherd he has returned to the high-kicking, no brainer [[operation]] that first made him famous and has sadly produced his worst film since Derailed. It's nowhere near as [[nefarious]] as that film, but what I said still stands.<br /><br />A dull, predictable film, [[through]] very little in the way of any exciting action. What little there is mainly [[presupposes]] of some limp fight scenes, trying to look cool and trendy with some cheap slo-mo/sped up effects added to them that sadly instead make them look more desperate. Being a Mexican set film, [[directors]] Isaac Florentine has tried to give the film a Robert Rodriguez/Desperado sort of feel, but this [[singularly]] adds to the desperation.<br /><br />VD gives a particularly [[uninspiring]] performance and given he's never been a Robert De Niro sort of actor, that can't be good. As the villain, [[Liege]] shouldn't expect to leave the beeb anytime soon. [[His]] [[gotten]] little [[discussing]] at the [[infancy]] as [[his]] struggles to muster an American accent but gets mysteriously better towards the end. All the supporting cast are equally [[uninspiring]], and do nothing to raise the films spirits at all.<br /><br />This is one shepherd that's [[journeyed]] right from the flock. *\n",
      "\n",
      "\n",
      "--------------------------------------------- Result 5 ---------------------------------------------\n",
      "[[Positive (100%)]] --> [[[SKIPPED]]]\n",
      "\n",
      "First off let me say, If you haven't enjoyed a Van Damme movie since bloodsport, you probably will not like this movie. Most of these movies may not have the best plots or best actors but I enjoy these kinds of movies for what they are. This movie is much better than any of the movies the other action guys (Segal and Dolph) have thought about putting out the past few years. Van Damme is good in the movie, the movie is only worth watching to Van Damme fans. It is not as good as Wake of Death (which i highly recommend to anyone of likes Van Damme) or In hell but, in my opinion it's worth watching. It has the same type of feel to it as Nowhere to Run. Good fun stuff!\n",
      "\n",
      "\n",
      "\n",
      "\n",
      "=============================================================================================================================\n",
      "=============================================================================================================================\n",
      "\n"
     ]
    },
    {
     "name": "stderr",
     "output_type": "stream",
     "text": [
      "\n",
      "[Succeeded / Failed / Skipped / Total] 4 / 0 / 1 / 5:   6%|▌         | 6/100 [00:52<13:34,  8.67s/it]\u001B[A\n",
      "[Succeeded / Failed / Skipped / Total] 5 / 0 / 1 / 6:   6%|▌         | 6/100 [00:52<13:35,  8.67s/it]\u001B[A"
     ]
    },
    {
     "name": "stdout",
     "output_type": "stream",
     "text": [
      "--------------------------------------------- Result 6 ---------------------------------------------\n",
      "[[Negative (100%)]] --> [[Negative (67%)]]\n",
      "\n",
      "[[I]] had high [[hopes]] for this one until they changed the name to 'The Shepherd : Border Patrol, the lamest movie name ever, what was wrong with just 'The Shepherd'. This is a by the numbers action flick that tips its [[hat]] at many classic Van Damme films. There is a nice bit of action in a [[bar]] which reminded me of hard target and universal soldier but directed with [[no]] intensity or flair which is a shame. There is one great line about 'being p*ss drunk and carrying a rabbit' and some OK action scenes [[let]] down by the cheapness of it all. A lot of the times the dialogue doesn't match the characters mouth and the stunt men fall down dead a split second before even being shot. [[The]] end fight is one of the better Van Damme fights except the Director tries to go a bit too John Woo and fails also introducing flashbacks which no one really cares about just gets in the way of the action which is the whole point of a van Damme film.<br /><br />Not good, not bad, [[just]] average generic [[action]].\n",
      "\n",
      "[[me]] had high [[prospects]] for this one until they changed the name to 'The Shepherd : Border Patrol, the lamest movie name ever, what was wrong with just 'The Shepherd'. This is a by the numbers action flick that tips its [[chapeau]] at many classic Van Damme films. There is a nice bit of action in a [[barre]] which reminded me of hard target and universal soldier but directed with [[either]] intensity or flair which is a shame. There is one great line about 'being p*ss drunk and carrying a rabbit' and some OK action scenes [[licensed]] down by the cheapness of it all. A lot of the times the dialogue doesn't match the characters mouth and the stunt men fall down dead a split second before even being shot. [[Both]] end fight is one of the better Van Damme fights except the Director tries to go a bit too John Woo and fails also introducing flashbacks which no one really cares about just gets in the way of the action which is the whole point of a van Damme film.<br /><br />Not good, not bad, [[individually]] average generic [[actions]].\n",
      "\n",
      "\n"
     ]
    },
    {
     "name": "stderr",
     "output_type": "stream",
     "text": [
      "\n",
      "[Succeeded / Failed / Skipped / Total] 6 / 0 / 1 / 7:   7%|▋         | 7/100 [00:59<13:04,  8.43s/it]\u001B[A"
     ]
    },
    {
     "name": "stdout",
     "output_type": "stream",
     "text": [
      "--------------------------------------------- Result 7 ---------------------------------------------\n",
      "[[Negative (100%)]] --> [[Negative (63%)]]\n",
      "\n",
      "Isaac Florentine has made some of the best western Martial Arts action movies ever produced. In particular US Seals 2, Cold Harvest, Special Forces and Undisputed 2 are all action classics. You can tell Isaac has a real passion for the genre and his films are always eventful, creative and sharp affairs, with some of the best fight sequences an action fan could hope for. In particular he has found a muse with Scott Adkins, as talented an actor and action performer as you could hope for. This is borne out with Special Forces and Undisputed 2, but unfortunately The Shepherd just doesn't live [[up]] to their abilities.<br /><br />There is no doubt that JCVD looks better here fight-wise than he has done in years, especially in the fight he has (for pretty much no reason) in a prison cell, and in the final showdown with Scott, but look in his eyes. JCVD seems to be dead inside. There's nothing in his eyes at all. It's like he just doesn't [[care]] about anything throughout the whole film. And this is the leading man.<br /><br />There are other dodgy [[aspects]] to the film, script-wise and visually, but the main problem is that you are utterly unable to empathise with the hero of the film. A genuine shame as I know we all wanted this film to be as special [[as]] it genuinely [[could]] have been. There are some good bits, mostly the action scenes themselves. This film [[had]] a terrific director and action choreographer, and an awesome opponent for JCVD to face down. This could have been the one to bring the veteran action star back up to scratch in the balls-out action movie stakes.<br /><br />Sincerely a shame that this didn't happen.\n",
      "\n",
      "Isaac Florentine has made some of the best western Martial Arts action movies ever produced. In particular US Seals 2, Cold Harvest, Special Forces and Undisputed 2 are all action classics. You can tell Isaac has a real passion for the genre and his films are always eventful, creative and sharp affairs, with some of the best fight sequences an action fan could hope for. In particular he has found a muse with Scott Adkins, as talented an actor and action performer as you could hope for. This is borne out with Special Forces and Undisputed 2, but unfortunately The Shepherd just doesn't live [[aloft]] to their abilities.<br /><br />There is no doubt that JCVD looks better here fight-wise than he has done in years, especially in the fight he has (for pretty much no reason) in a prison cell, and in the final showdown with Scott, but look in his eyes. JCVD seems to be dead inside. There's nothing in his eyes at all. It's like he just doesn't [[zorg]] about anything throughout the whole film. And this is the leading man.<br /><br />There are other dodgy [[respects]] to the film, script-wise and visually, but the main problem is that you are utterly unable to empathise with the hero of the film. A genuine shame as I know we all wanted this film to be as special [[already]] it genuinely [[have]] have been. There are some good bits, mostly the action scenes themselves. This film [[holds]] a terrific director and action choreographer, and an awesome opponent for JCVD to face down. This could have been the one to bring the veteran action star back up to scratch in the balls-out action movie stakes.<br /><br />Sincerely a shame that this didn't happen.\n",
      "\n",
      "\n"
     ]
    },
    {
     "name": "stderr",
     "output_type": "stream",
     "text": [
      "\n",
      "[Succeeded / Failed / Skipped / Total] 6 / 0 / 1 / 7:   7%|▋         | 7/100 [01:06<14:41,  9.48s/it]\u001B[A\n",
      "[Succeeded / Failed / Skipped / Total] 6 / 0 / 1 / 7:   8%|▊         | 8/100 [01:21<15:32, 10.13s/it]\u001B[A\n",
      "[Succeeded / Failed / Skipped / Total] 7 / 0 / 1 / 8:   8%|▊         | 8/100 [01:21<15:32, 10.14s/it]\u001B[A"
     ]
    },
    {
     "name": "stdout",
     "output_type": "stream",
     "text": [
      "--------------------------------------------- Result 8 ---------------------------------------------\n",
      "[[Negative (100%)]] --> [[Negative (54%)]]\n",
      "\n",
      "It actually pains me to say it, but this movie was horrible on every [[level]]. The blame does not lie entirely with Van Damme as you can see he tried his best, but let's face it, he's almost [[fifty]], how much more can you ask of him? I find it so hard to believe that the same people who put together Undisputed 2; arguably the best ([[western]]) martial arts movie in [[years]], [[created]] this. Everything from the plot, to the dialog, to the editing, to the overall acting [[was]] [[just]] [[horribly]] [[put]] together and in many [[cases]] outright [[boring]] [[and]] [[nonsensical]]. Scott [[Adkins]] who's fight scenes [[seemed]] more like a [[demo]] reel, was also terribly underused [[and]] [[not]] even [[the]] main villain [[which]] [[is]] such a shame because 1) [[He]] [[is]] more than [[capable]] [[of]] playing that [[role]] and 2) The actual [[main]] villain [[was]] [[not]] [[only]] [[not]] [[intimidating]] [[at]] all but [[also]] [[quite]] annoying. [[Again]], [[not]] [[blaming]] [[Van]] Damme. [[I]] [[will]] always [[be]] a [[fan]], but [[avoid]] this one.\n",
      "\n",
      "It actually pains me to say it, but this movie was horrible on every [[ladder]]. The blame does not lie entirely with Van Damme as you can see he tried his best, but let's face it, he's almost [[fortieth]], how much more can you ask of him? I find it so hard to believe that the same people who put together Undisputed 2; arguably the best ([[ouest]]) martial arts movie in [[aging]], [[engender]] this. Everything from the plot, to the dialog, to the editing, to the overall acting [[becomes]] [[exactly]] [[terrifically]] [[bringing]] together and in many [[trial]] outright [[blunt]] [[nor]] [[wanton]]. Scott [[Mcgee]] who's fight scenes [[considered]] more like a [[show]] reel, was also terribly underused [[nor]] [[never]] even [[both]] main villain [[that]] [[constitute]] such a shame because 1) [[It]] [[gets]] more than [[able]] [[with]] playing that [[roles]] and 2) The actual [[critical]] villain [[lasted]] [[non]] [[narrowly]] [[never]] [[intimidated]] [[onto]] all but [[however]] [[very]] annoying. [[Till]], [[never]] [[alleging]] [[Trucking]] Damme. [[me]] [[dedication]] always [[is]] a [[fans]], but [[bypassing]] this one.\n",
      "\n",
      "\n"
     ]
    },
    {
     "name": "stderr",
     "output_type": "stream",
     "text": [
      "\n",
      "[Succeeded / Failed / Skipped / Total] 7 / 0 / 1 / 8:   9%|▉         | 9/100 [01:28<14:55,  9.84s/it]\u001B[A\n",
      "[Succeeded / Failed / Skipped / Total] 8 / 0 / 1 / 9:   9%|▉         | 9/100 [01:28<14:55,  9.84s/it]\u001B[A"
     ]
    },
    {
     "name": "stdout",
     "output_type": "stream",
     "text": [
      "--------------------------------------------- Result 9 ---------------------------------------------\n",
      "[[Negative (100%)]] --> [[Positive (57%)]]\n",
      "\n",
      "Technically I'am a Van Damme Fan, or I was. this movie is so [[bad]] that I hated myself [[for]] [[wasting]] those 90 [[minutes]]. Do not [[let]] the name Isaac Florentine (Undisputed II) fool you, [[I]] had big [[hopes]] for this one, depending on what I saw in (Undisputed II), man.. was I wrong ??! all action fans [[wanted]] a big comeback for the classic action hero, but i guess [[we]] wont be able to see that soon, as our hero keep coming with those (going -to-a-border - far-away-town-and -kill -the-bad-guys- than-comeback- home) movies I mean for God's sake, we are in 2008, and they insist on doing those [[disappointing]] movies on every [[level]]. Why ??!!! Do your self a [[favor]], [[skip]] it.. seriously.\n",
      "\n",
      "Technically I'am a Van Damme Fan, or I was. this movie is so [[wicked]] that I hated myself [[per]] [[lose]] those 90 [[moments]]. Do not [[abandoning]] the name Isaac Florentine (Undisputed II) fool you, [[me]] had big [[desires]] for this one, depending on what I saw in (Undisputed II), man.. was I wrong ??! all action fans [[gonna]] a big comeback for the classic action hero, but i guess [[them]] wont be able to see that soon, as our hero keep coming with those (going -to-a-border - far-away-town-and -kill -the-bad-guys- than-comeback- home) movies I mean for God's sake, we are in 2008, and they insist on doing those [[regretful]] movies on every [[class]]. Why ??!!! Do your self a [[prefers]], [[leaps]] it.. seriously.\n",
      "\n",
      "\n"
     ]
    },
    {
     "name": "stderr",
     "output_type": "stream",
     "text": [
      "\n",
      "[Succeeded / Failed / Skipped / Total] 8 / 0 / 1 / 9:  10%|█         | 10/100 [01:56<17:26, 11.62s/it]\u001B[A\n",
      "[Succeeded / Failed / Skipped / Total] 9 / 0 / 1 / 10:  10%|█         | 10/100 [01:56<17:26, 11.63s/it]\u001B[Atextattack: Saving checkpoint under \"checkpoints\\1682476133343.ta.chkpt\" at 2023-04-25 22:28:53 after 10 attacks.\n"
     ]
    },
    {
     "name": "stdout",
     "output_type": "stream",
     "text": [
      "--------------------------------------------- Result 10 ---------------------------------------------\n",
      "[[Negative (100%)]] --> [[Negative (60%)]]\n",
      "\n",
      "Honestly awful film, [[bad]] [[editing]], [[awful]] lighting, dire dialog [[and]] [[scrappy]] screenplay.<br /><br />The lighting at is so [[bad]] there's [[moments]] you can't even [[see]] what's [[going]] [[on]], [[I]] even [[tried]] to [[playing]] [[with]] [[the]] [[contrast]] [[and]] brightness so I could see [[something]] but that didn't [[help]].<br /><br />They must have [[found]] the script [[in]] a bin, [[the]] character [[development]] [[is]] just [[as]] awful and [[while]] you hardly expect much from a Jean-Claude Van Damme [[film]] this one manages to [[hit]] an all time low. You can't even laugh at the cheesy'ness.<br /><br />[[The]] directing [[and]] [[editing]] are also [[terrible]], the [[whole]] [[film]] follows an extremely tired [[routine]] [[and]] [[fails]] [[at]] every [[turn]] as it bumbles [[through]] the [[plot]] [[that]] [[is]] so [[weak]] it's just [[unreal]].<br /><br />There's [[not]] a lot else to [[say]] [[other]] [[than]] it's really bad and [[nothing]] like Jean-Claude Van Damme's earlier work which you could [[enjoy]].<br /><br />Avoid like the plaque, frankly [[words]] fail me [[in]] condemning this \"film\".\n",
      "\n",
      "Honestly awful film, [[negative]] [[editor]], [[nasty]] lighting, dire dialog [[nor]] [[nervy]] screenplay.<br /><br />The lighting at is so [[naughty]] there's [[days]] you can't even [[listen]] what's [[gonna]] [[at]], [[me]] even [[prosecuted]] to [[plays]] [[de]] [[both]] [[deviation]] [[either]] brightness so I could see [[anything]] but that didn't [[supported]].<br /><br />They must have [[watched]] the script [[into]] a bin, [[both]] character [[advancements]] [[got]] just [[already]] awful and [[except]] you hardly expect much from a Jean-Claude Van Damme [[photographed]] this one manages to [[beating]] an all time low. You can't even laugh at the cheesy'ness.<br /><br />[[Both]] directing [[nor]] [[editor]] are also [[frightful]], the [[complete]] [[theatre]] follows an extremely tired [[standard]] [[nor]] [[forgot]] [[by]] every [[converted]] as it bumbles [[at]] the [[plots]] [[this]] [[does]] so [[weakened]] it's just [[awesome]].<br /><br />There's [[never]] a lot else to [[declare]] [[several]] [[if]] it's really bad and [[none]] like Jean-Claude Van Damme's earlier work which you could [[receive]].<br /><br />Avoid like the plaque, frankly [[mots]] fail me [[for]] condemning this \"film\".\n",
      "\n",
      "\n",
      "\n",
      "\n",
      "=============================================================================================================================\n",
      "=============================================================================================================================\n",
      "\n"
     ]
    },
    {
     "name": "stderr",
     "output_type": "stream",
     "text": [
      "\n",
      "[Succeeded / Failed / Skipped / Total] 9 / 0 / 1 / 10:  11%|█         | 11/100 [02:16<18:25, 12.42s/it]\u001B[A\n",
      "[Succeeded / Failed / Skipped / Total] 10 / 0 / 1 / 11:  11%|█         | 11/100 [02:16<18:25, 12.42s/it]\u001B[A"
     ]
    },
    {
     "name": "stdout",
     "output_type": "stream",
     "text": [
      "--------------------------------------------- Result 11 ---------------------------------------------\n",
      "[[Negative (100%)]] --> [[Negative (69%)]]\n",
      "\n",
      "This [[flick]] [[is]] a [[waste]] of time.I [[expect]] [[from]] an [[action]] [[movie]] to have [[more]] [[than]] 2 explosions and some shooting.[[Van]] Damme's [[acting]] [[is]] awful. He never was [[much]] [[of]] an actor, but [[here]] it is [[worse]].[[He]] was definitely better [[in]] his [[earlier]] movies. [[His]] screenplay part for the whole movie [[was]] probably [[not]] more than one page of stupid [[nonsense]] one liners.The whole dialog in the [[film]] [[is]] a [[disaster]], same as the plot.The title \"The [[Shepherd]]\" makes no sense. Why didn't they just [[call]] it \"[[Border]] patrol\"? [[The]] fighting scenes [[could]] have been [[better]], but [[either]] they weren't able to afford it, or the fighting choreographer [[was]] [[suffering]] [[from]] lack of [[ideas]].[[This]] is a [[cheap]] low type of [[action]] cinema.\n",
      "\n",
      "This [[movie]] [[comes]] a [[losing]] of time.I [[expecting]] [[with]] an [[acts]] [[theatres]] to have [[grandest]] [[if]] 2 explosions and some shooting.[[Suv]] Damme's [[behaved]] [[gets]] awful. He never was [[immeasurably]] [[with]] an actor, but [[now]] it is [[greatest]].[[It]] was definitely better [[within]] his [[yesteryear]] movies. [[He]] screenplay part for the whole movie [[had]] probably [[pas]] more than one page of stupid [[foolish]] one liners.The whole dialog in the [[cinema]] [[got]] a [[calamity]], same as the plot.The title \"The [[Berger]]\" makes no sense. Why didn't they just [[contacting]] it \"[[Restrains]] patrol\"? [[Both]] fighting scenes [[should]] have been [[brighter]], but [[neither]] they weren't able to afford it, or the fighting choreographer [[stood]] [[distressed]] [[at]] lack of [[view]].[[That]] is a [[cheep]] low type of [[interventions]] cinema.\n",
      "\n",
      "\n"
     ]
    },
    {
     "name": "stderr",
     "output_type": "stream",
     "text": [
      "\n",
      "[Succeeded / Failed / Skipped / Total] 10 / 0 / 1 / 11:  12%|█▏        | 12/100 [02:20<17:09, 11.70s/it]\u001B[A\n",
      "[Succeeded / Failed / Skipped / Total] 11 / 0 / 1 / 12:  12%|█▏        | 12/100 [02:20<17:09, 11.70s/it]\u001B[A"
     ]
    },
    {
     "name": "stdout",
     "output_type": "stream",
     "text": [
      "--------------------------------------------- Result 12 ---------------------------------------------\n",
      "[[Negative (99%)]] --> [[Negative (56%)]]\n",
      "\n",
      "Blind Date (Columbia Pictures, 1934), was a decent film, but I have a few issues with this film. First of all, I don't fault the actors in this film at all, but more or less, I have a [[problem]] with the script. Also, I understand that this film was made in the 1930's and people were looking to escape reality, but the script made Ann Sothern's character look weak. She kept going back and forth between suitors and I felt as though she should have stayed with Paul Kelly's character in the end. He truly did care about her and her family and would have done anything for her and he did by giving her up in the end to fickle Neil Hamilton who in my opinion was only out for a good time. Paul Kelly's character, although a workaholic was [[a]] man of integrity and truly loved Kitty (Ann Sothern) as opposed to Neil Hamilton, while he did like her a lot, I didn't see the depth of love that he had for her character. The production values were great, but the script could have used a little work.\n",
      "\n",
      "Blind Date (Columbia Pictures, 1934), was a decent film, but I have a few issues with this film. First of all, I don't fault the actors in this film at all, but more or less, I have a [[challenging]] with the script. Also, I understand that this film was made in the 1930's and people were looking to escape reality, but the script made Ann Sothern's character look weak. She kept going back and forth between suitors and I felt as though she should have stayed with Paul Kelly's character in the end. He truly did care about her and her family and would have done anything for her and he did by giving her up in the end to fickle Neil Hamilton who in my opinion was only out for a good time. Paul Kelly's character, although a workaholic was [[another]] man of integrity and truly loved Kitty (Ann Sothern) as opposed to Neil Hamilton, while he did like her a lot, I didn't see the depth of love that he had for her character. The production values were great, but the script could have used a little work.\n",
      "\n",
      "\n"
     ]
    },
    {
     "name": "stderr",
     "output_type": "stream",
     "text": [
      "\n",
      "[Succeeded / Failed / Skipped / Total] 11 / 0 / 1 / 12:  13%|█▎        | 13/100 [02:42<18:05, 12.48s/it]\u001B[A\n",
      "[Succeeded / Failed / Skipped / Total] 12 / 0 / 1 / 13:  13%|█▎        | 13/100 [02:42<18:05, 12.48s/it]\u001B[A"
     ]
    },
    {
     "name": "stdout",
     "output_type": "stream",
     "text": [
      "--------------------------------------------- Result 13 ---------------------------------------------\n",
      "[[Negative (100%)]] --> [[Negative (70%)]]\n",
      "\n",
      "I [[first]] watched this movie back in the [[mid]]/late 80's, [[when]] I [[was]] [[a]] [[kid]]. We couldn't [[even]] get all the way through it. The dialog, [[the]] acting, [[everything]] about it [[was]] [[just]] beyond [[lame]].<br /><br />[[Here]] are a [[few]] [[examples]]... [[imagine]] [[these]] spoken [[real]] [[dramatically]], [[way]] over-acted: \"Oreegon? You're [[going]] to Oreegon? Why [[would]] [[anyone]] [[want]] to [[go]] to Oreegon?\"<br /><br />\"Survivalists? [[Nobody]] [[ever]] [[told]] [[us]] [[about]] [[any]] survivalists!\"<br /><br />[[This]] movie was SO bad, my [[sister]] and [[I]] rented it [[again]] [[for]] [[her]] 16th birthday [[party]], just [[so]] our [[friends]] [[could]] [[sit]] [[around]] and [[laugh]] [[at]] how awful [[it]] [[was]]. I don't [[think]] [[we]] [[were]] able to [[finish]] it then either!\n",
      "\n",
      "I [[originally]] watched this movie back in the [[averages]]/late 80's, [[where]] I [[walked]] [[another]] [[kiddies]]. We couldn't [[again]] get all the way through it. The dialog, [[both]] acting, [[toute]] about it [[are]] [[uniquely]] beyond [[sad]].<br /><br />[[Now]] are a [[limited]] [[instance]]... [[devine]] [[this]] spoken [[true]] [[exceedingly]], [[track]] over-acted: \"Oreegon? You're [[let]] to Oreegon? Why [[wanna]] [[nobody]] [[did]] to [[gonna]] to Oreegon?\"<br /><br />\"Survivalists? [[Nothing]] [[currently]] [[proclaims]] [[our]] [[on]] [[no]] survivalists!\"<br /><br />[[These]] movie was SO bad, my [[sis]] and [[me]] rented it [[ever]] [[around]] [[he]] 16th birthday [[sections]], just [[where]] our [[folks]] [[get]] [[sittin]] [[to]] and [[giggled]] [[via]] how awful [[his]] [[got]]. I don't [[feel]] [[myself]] [[been]] able to [[finished]] it then either!\n",
      "\n",
      "\n"
     ]
    },
    {
     "name": "stderr",
     "output_type": "stream",
     "text": [
      "\n",
      "[Succeeded / Failed / Skipped / Total] 12 / 0 / 1 / 13:  14%|█▍        | 14/100 [02:51<17:33, 12.25s/it]\u001B[A\n",
      "[Succeeded / Failed / Skipped / Total] 13 / 0 / 1 / 14:  14%|█▍        | 14/100 [02:51<17:33, 12.25s/it]\u001B[A"
     ]
    },
    {
     "name": "stdout",
     "output_type": "stream",
     "text": [
      "--------------------------------------------- Result 14 ---------------------------------------------\n",
      "[[Negative (100%)]] --> [[Negative (61%)]]\n",
      "\n",
      "I saw the Mogul Video VHS of this. That's another one of those old 1980s distributors whose catalog I wish I had!<br /><br />This movie was [[pretty]] [[poor]]. Though retitled \"Don't Look in the Attic,\" the main admonition that is repeated in this is \"Don't go to the villa.\" Just getting on the grounds of the villa is a [[bad]] idea. A character doesn't go into the attic until an hour into the movie, and actually should have done it earlier because of what is learned there.<br /><br />The movie starts in Turin, Italy in the 1950s. Two men are fighting, and a woman is telling them the villa is making them do it. One man kills the other, then regrets it, and the woman pulls out the knife and stabs him with it. She flees the villa, and after she's left a chair moves by itself (what's the point of that?), but when in the garden a hand comes up through the ground and drags he into the earth.<br /><br />From there, it's the present day, thirty years later. There's a séance that appears suddenly and doesn't appear to have anything to do with the movie. The children of the woman from the prologue are inheriting the house. The main daughter is played by the same actress who played her mother. At least one of the two men from the prologue seems to reoccur as another character too. She's haunted by some warnings not to go to the villa, but they all do, since if they do not use it, they forfeit it. People die. A lawyer who has won all his cases tries to investigate a little. The ending is pretty poor. Why was the family cursed? An unfortunately boring movie.<br /><br />There's an amusing small-print disclaimer on the back of the video box that reads \"The scenes depicted on this packaging may be an artist's impression and may not necessarily represent actual scenes from the film.\" In this case, the cover of the box is an illustration that does more or less accurately depict the aforementioned woman dragged underground scene, although there are two hands, and the woman is different. It's true, sometimes the cover art has nothing to do with the movie. I also recall seeing a reviewer who had a bad movie predictor scale, in which movies with illustrations on the cover instead of photos got at least one point for that.\n",
      "\n",
      "I saw the Mogul Video VHS of this. That's another one of those old 1980s distributors whose catalog I wish I had!<br /><br />This movie was [[lovely]] [[imperfect]]. Though retitled \"Don't Look in the Attic,\" the main admonition that is repeated in this is \"Don't go to the villa.\" Just getting on the grounds of the villa is a [[inauspicious]] idea. A character doesn't go into the attic until an hour into the movie, and actually should have done it earlier because of what is learned there.<br /><br />The movie starts in Turin, Italy in the 1950s. Two men are fighting, and a woman is telling them the villa is making them do it. One man kills the other, then regrets it, and the woman pulls out the knife and stabs him with it. She flees the villa, and after she's left a chair moves by itself (what's the point of that?), but when in the garden a hand comes up through the ground and drags he into the earth.<br /><br />From there, it's the present day, thirty years later. There's a séance that appears suddenly and doesn't appear to have anything to do with the movie. The children of the woman from the prologue are inheriting the house. The main daughter is played by the same actress who played her mother. At least one of the two men from the prologue seems to reoccur as another character too. She's haunted by some warnings not to go to the villa, but they all do, since if they do not use it, they forfeit it. People die. A lawyer who has won all his cases tries to investigate a little. The ending is pretty poor. Why was the family cursed? An unfortunately boring movie.<br /><br />There's an amusing small-print disclaimer on the back of the video box that reads \"The scenes depicted on this packaging may be an artist's impression and may not necessarily represent actual scenes from the film.\" In this case, the cover of the box is an illustration that does more or less accurately depict the aforementioned woman dragged underground scene, although there are two hands, and the woman is different. It's true, sometimes the cover art has nothing to do with the movie. I also recall seeing a reviewer who had a bad movie predictor scale, in which movies with illustrations on the cover instead of photos got at least one point for that.\n",
      "\n",
      "\n"
     ]
    },
    {
     "name": "stderr",
     "output_type": "stream",
     "text": [
      "\n",
      "[Succeeded / Failed / Skipped / Total] 13 / 0 / 1 / 14:  15%|█▌        | 15/100 [02:57<16:46, 11.84s/it]\u001B[A\n",
      "[Succeeded / Failed / Skipped / Total] 14 / 0 / 1 / 15:  15%|█▌        | 15/100 [02:57<16:46, 11.84s/it]\u001B[Atextattack: Saving checkpoint under \"checkpoints\\1682476194688.ta.chkpt\" at 2023-04-25 22:29:54 after 15 attacks.\n"
     ]
    },
    {
     "name": "stdout",
     "output_type": "stream",
     "text": [
      "--------------------------------------------- Result 15 ---------------------------------------------\n",
      "[[Negative (100%)]] --> [[Positive (54%)]]\n",
      "\n",
      "A group of heirs to a mysterious old mansion find out that they have to live in it as part of a clause in the will or be [[disinherited]], but they soon find out of its history of everybody whom had lived there before them having either died in weird accidents or having had killed each other.<br /><br />You've seen it all before, and this one is [[too]] low-budget and slow paced to [[be]] [[scary]], and doesn't have any real surprises in the [[climax]]. No special effects or gore to speak of, in fact the [[only]] really [[amusing]] thing about the whole film is the [[quality]] of the English dubbing, which at times is as bad as a cheap martial arts movie.<br /><br />3 out of 10, pretty low in the pecking order of 80's [[haunted]] [[house]] movies.\n",
      "\n",
      "A group of heirs to a mysterious old mansion find out that they have to live in it as part of a clause in the will or be [[disenfranchised]], but they soon find out of its history of everybody whom had lived there before them having either died in weird accidents or having had killed each other.<br /><br />You've seen it all before, and this one is [[rather]] low-budget and slow paced to [[exists]] [[fear]], and doesn't have any real surprises in the [[completion]]. No special effects or gore to speak of, in fact the [[unique]] really [[funniest]] thing about the whole film is the [[qualification]] of the English dubbing, which at times is as bad as a cheap martial arts movie.<br /><br />3 out of 10, pretty low in the pecking order of 80's [[disturbed]] [[chambre]] movies.\n",
      "\n",
      "\n",
      "\n",
      "\n",
      "=============================================================================================================================\n",
      "=============================================================================================================================\n",
      "\n"
     ]
    },
    {
     "name": "stderr",
     "output_type": "stream",
     "text": [
      "\n",
      "[Succeeded / Failed / Skipped / Total] 14 / 0 / 1 / 15:  16%|█▌        | 16/100 [03:02<15:57, 11.40s/it]\u001B[A\n",
      "[Succeeded / Failed / Skipped / Total] 15 / 0 / 1 / 16:  16%|█▌        | 16/100 [03:02<15:57, 11.40s/it]\u001B[A"
     ]
    },
    {
     "name": "stdout",
     "output_type": "stream",
     "text": [
      "--------------------------------------------- Result 16 ---------------------------------------------\n",
      "[[Negative (100%)]] --> [[Negative (69%)]]\n",
      "\n",
      "Now, I LOVE Italian horror films. The cheesier they are, the [[better]]. However, this is not cheesy Italian. This is week-old spaghetti sauce with rotting meatballs. It is [[amateur]] hour on every [[level]]. There is [[no]] [[suspense]], [[no]] horror, with just a few drops of blood scattered around to remind you that you are in fact watching a horror film. The \"special effects\" consist of the lights changing to red whenever the ghost (or whatever it was supposed to be) is around, and a string pulling bed sheets up and down. Oooh, can you feel the chills? The DVD quality is that of a VHS transfer (which actually helps the film more than hurts it). The dubbing is below even the lowest \"bad Italian movie\" standards and I gave it one star just [[because]] the dialogue is so hilarious! And what do we discover when she finally DOES look in the attic (in a scene that is daytime one minute and night the next)...well, I won't spoil it for anyone who really wants to see, but let's just say that it isn't very \"novel\"!\n",
      "\n",
      "Now, I LOVE Italian horror films. The cheesier they are, the [[exemplary]]. However, this is not cheesy Italian. This is week-old spaghetti sauce with rotting meatballs. It is [[fond]] hour on every [[layers]]. There is [[any]] [[awaits]], [[any]] horror, with just a few drops of blood scattered around to remind you that you are in fact watching a horror film. The \"special effects\" consist of the lights changing to red whenever the ghost (or whatever it was supposed to be) is around, and a string pulling bed sheets up and down. Oooh, can you feel the chills? The DVD quality is that of a VHS transfer (which actually helps the film more than hurts it). The dubbing is below even the lowest \"bad Italian movie\" standards and I gave it one star just [[as]] the dialogue is so hilarious! And what do we discover when she finally DOES look in the attic (in a scene that is daytime one minute and night the next)...well, I won't spoil it for anyone who really wants to see, but let's just say that it isn't very \"novel\"!\n",
      "\n",
      "\n"
     ]
    },
    {
     "name": "stderr",
     "output_type": "stream",
     "text": [
      "\n",
      "[Succeeded / Failed / Skipped / Total] 15 / 0 / 1 / 16:  17%|█▋        | 17/100 [03:09<15:25, 11.15s/it]\u001B[A\n",
      "[Succeeded / Failed / Skipped / Total] 16 / 0 / 1 / 17:  17%|█▋        | 17/100 [03:09<15:25, 11.15s/it]\u001B[A"
     ]
    },
    {
     "name": "stdout",
     "output_type": "stream",
     "text": [
      "--------------------------------------------- Result 17 ---------------------------------------------\n",
      "[[Negative (100%)]] --> [[Negative (56%)]]\n",
      "\n",
      "[[This]] [[cheap]], grainy-filmed Italian [[flick]] is [[about]] a couple of inheritors of a manor in the Italian countryside who head up to the house to stay, and then find themselves getting killed off by ghosts of people killed in that house.<br /><br />I wasn't impressed by this. It wasn't really that scary, mostly just the way a [[cheap]] [[Italian]] [[film]] should be. A girl, her two cousins, and one cousin's girlfriend, head to this huge house for some reason (I couldn't figure out why) and are staying there, cleaning up and checking out the place. [[Characters]] come [[in]] and out of the film, and it's quite [[boring]] at points, and the majority of deaths are quite rushed. The girlfriend is hit by a car when fleeing the house after having a dream of her death, and the scene is quite good, but [[then]] things get slow again, until a confusing end, when the male cousins are killed together in some weird way, and this weirdo guy (I couldn't figure out who he was during the movie, or maybe I just don't remember) goes after this one girl, attacking her, until finally this other girl kills him off. Hate to give away the ending, but oh well. The female cousin decides to stay at the house and watch over it, and they show scenes of her living there years later. The end. You really aren't missing anything, and anyway, you probably won't find this anywhere, so lucky you.\n",
      "\n",
      "[[That]] [[affordable]], grainy-filmed Italian [[teatro]] is [[near]] a couple of inheritors of a manor in the Italian countryside who head up to the house to stay, and then find themselves getting killed off by ghosts of people killed in that house.<br /><br />I wasn't impressed by this. It wasn't really that scary, mostly just the way a [[cheep]] [[Sicilian]] [[cinematography]] should be. A girl, her two cousins, and one cousin's girlfriend, head to this huge house for some reason (I couldn't figure out why) and are staying there, cleaning up and checking out the place. [[Peculiarity]] come [[under]] and out of the film, and it's quite [[drudgery]] at points, and the majority of deaths are quite rushed. The girlfriend is hit by a car when fleeing the house after having a dream of her death, and the scene is quite good, but [[still]] things get slow again, until a confusing end, when the male cousins are killed together in some weird way, and this weirdo guy (I couldn't figure out who he was during the movie, or maybe I just don't remember) goes after this one girl, attacking her, until finally this other girl kills him off. Hate to give away the ending, but oh well. The female cousin decides to stay at the house and watch over it, and they show scenes of her living there years later. The end. You really aren't missing anything, and anyway, you probably won't find this anywhere, so lucky you.\n",
      "\n",
      "\n"
     ]
    },
    {
     "name": "stderr",
     "output_type": "stream",
     "text": [
      "\n",
      "[Succeeded / Failed / Skipped / Total] 16 / 0 / 1 / 17:  18%|█▊        | 18/100 [03:14<14:45, 10.80s/it]\u001B[A\n",
      "[Succeeded / Failed / Skipped / Total] 17 / 0 / 1 / 18:  18%|█▊        | 18/100 [03:14<14:45, 10.80s/it]\u001B[A\n",
      "[Succeeded / Failed / Skipped / Total] 17 / 0 / 2 / 19:  19%|█▉        | 19/100 [03:14<13:48, 10.23s/it]\u001B[A"
     ]
    },
    {
     "name": "stdout",
     "output_type": "stream",
     "text": [
      "--------------------------------------------- Result 18 ---------------------------------------------\n",
      "[[Negative (100%)]] --> [[Negative (65%)]]\n",
      "\n",
      "I just finished watching this movie and am disappointed to say that I didn't enjoy it a bit. It is so [[slow]] [[Slow]] and [[uninteresting]]. This kid from Harry Potter plays a shy teenager with an rude mother, and then one day the rude mother tells the kid to find a job so that they could accommodate an old guy apparently having no place to live has started to live with his family and therefore the kid goes to work for a old lady. And this old lady who is living all alone teaches him about girls, driving car and life! I couldn't get how an 18 year old guy enjoy spending time with an awful lady in her 80s. Sorry if my comments on this movie has bothered people who might have enjoyed it, I could be wrong as I am not British and may not understand the social and their family structure and way of life. Mostly the movie [[is]] made for the British [[audience]].\n",
      "\n",
      "I just finished watching this movie and am disappointed to say that I didn't enjoy it a bit. It is so [[slower]] [[Slower]] and [[humdrum]]. This kid from Harry Potter plays a shy teenager with an rude mother, and then one day the rude mother tells the kid to find a job so that they could accommodate an old guy apparently having no place to live has started to live with his family and therefore the kid goes to work for a old lady. And this old lady who is living all alone teaches him about girls, driving car and life! I couldn't get how an 18 year old guy enjoy spending time with an awful lady in her 80s. Sorry if my comments on this movie has bothered people who might have enjoyed it, I could be wrong as I am not British and may not understand the social and their family structure and way of life. Mostly the movie [[become]] made for the British [[listeners]].\n",
      "\n",
      "\n",
      "--------------------------------------------- Result 19 ---------------------------------------------\n",
      "[[Positive (100%)]] --> [[[SKIPPED]]]\n",
      "\n",
      "Ben, (Rupert Grint), is a deeply unhappy adolescent, the son of his unhappily married parents. His father, (Nicholas Farrell), is a vicar and his mother, (Laura Linney), is ... well, let's just say she's a somewhat hypocritical soldier in Jesus' army. It's only when he takes a summer job as an assistant to a foul-mouthed, eccentric, once-famous and now-forgotten actress Evie Walton, (Julie Walters), that he finally finds himself in true 'Harold and Maude' fashion. Of course, Evie is deeply unhappy herself and it's only when these two sad sacks find each other that they can put their mutual misery aside and hit the road to happiness.<br /><br />Of course it's corny and sentimental and very predictable but it has a hard side to it, too and Walters, who could sleep-walk her way through this sort of thing if she wanted, is excellent. It's when she puts the craziness to one side and finds the pathos in the character, (like hitting the bottle and throwing up in the sink), that she's at her best. The problem is she's the only interesting character in the film (and it's not because of the script which doesn't do anybody any favours). Grint, on the other hand, isn't just unhappy; he's a bit of a bore as well while Linney's starched bitch is completely one-dimensional. (Still, she's got the English accent off pat). The best that can be said for it is that it's mildly enjoyable - with the emphasis on the mildly.\n",
      "\n",
      "\n"
     ]
    },
    {
     "name": "stderr",
     "output_type": "stream",
     "text": [
      "\n",
      "[Succeeded / Failed / Skipped / Total] 17 / 0 / 2 / 19:  20%|██        | 20/100 [03:22<13:28, 10.11s/it]\u001B[A\n",
      "[Succeeded / Failed / Skipped / Total] 18 / 0 / 2 / 20:  20%|██        | 20/100 [03:22<13:28, 10.11s/it]\u001B[Atextattack: Saving checkpoint under \"checkpoints\\1682476219194.ta.chkpt\" at 2023-04-25 22:30:19 after 20 attacks.\n"
     ]
    },
    {
     "name": "stdout",
     "output_type": "stream",
     "text": [
      "--------------------------------------------- Result 20 ---------------------------------------------\n",
      "[[Negative (100%)]] --> [[Negative (69%)]]\n",
      "\n",
      "Every movie I have PPV'd because [[Leonard]] Maltin praised it to the skies has blown chunks! Every single one! When will I ever learn?<br /><br />Evie is a raving Old Bag who thinks nothing of saying she's dying of breast cancer to get her way! Laura is an insufferable Medusa filled with The Holy Spirit (and her hubby's protégé)! Caught between these [[harpies]] is Medusa's dumb-as-a-rock boy who has been pressed into weed-pulling servitude by The Old Bag!<br /><br />As I said, when will I ever learn?<br /><br />I was temporarily lifted out of my malaise when The Old Bag stuck her head in a sink, but, unfortunately, she did not [[die]]. I was temporarily lifted out of my malaise again when Medusa got mowed down, but, unfortunately, she did not die. It should be a capital offense to torture audiences like [[this]]!<br /><br />Without Harry Potter to kick him around, Rupert Grint is [[just]] a pair of big blue eyes that practically bulge out of its sockets. Julie Walters's scenery-chewing (especially the scene when she \"plays\" God) is even more [[shameless]] than her [[character]].<br /><br />[[At]] least [[this]] Harold bangs some [[bimbo]] instead of [[Maude]]. For that, I am truly grateful. And if you're reading this [[Mr]]. Maltin, you owe me $3.99!\n",
      "\n",
      "Every movie I have PPV'd because [[Horvath]] Maltin praised it to the skies has blown chunks! Every single one! When will I ever learn?<br /><br />Evie is a raving Old Bag who thinks nothing of saying she's dying of breast cancer to get her way! Laura is an insufferable Medusa filled with The Holy Spirit (and her hubby's protégé)! Caught between these [[fiends]] is Medusa's dumb-as-a-rock boy who has been pressed into weed-pulling servitude by The Old Bag!<br /><br />As I said, when will I ever learn?<br /><br />I was temporarily lifted out of my malaise when The Old Bag stuck her head in a sink, but, unfortunately, she did not [[lives]]. I was temporarily lifted out of my malaise again when Medusa got mowed down, but, unfortunately, she did not die. It should be a capital offense to torture audiences like [[that]]!<br /><br />Without Harry Potter to kick him around, Rupert Grint is [[lonely]] a pair of big blue eyes that practically bulge out of its sockets. Julie Walters's scenery-chewing (especially the scene when she \"plays\" God) is even more [[crass]] than her [[idiosyncrasies]].<br /><br />[[During]] least [[these]] Harold bangs some [[bitchy]] instead of [[Dorothy]]. For that, I am truly grateful. And if you're reading this [[Yannick]]. Maltin, you owe me $3.99!\n",
      "\n",
      "\n",
      "\n",
      "\n",
      "=============================================================================================================================\n",
      "=============================================================================================================================\n",
      "\n"
     ]
    },
    {
     "name": "stderr",
     "output_type": "stream",
     "text": [
      "\n",
      "[Succeeded / Failed / Skipped / Total] 18 / 0 / 3 / 21:  21%|██        | 21/100 [03:22<12:40,  9.63s/it]\u001B[A"
     ]
    },
    {
     "name": "stdout",
     "output_type": "stream",
     "text": [
      "--------------------------------------------- Result 21 ---------------------------------------------\n",
      "[[Positive (100%)]] --> [[[SKIPPED]]]\n",
      "\n",
      "Low budget horror movie. If you don't raise your expectations too high, you'll probably enjoy this little flick. Beginning and end are pretty good, middle drags at times and seems to go nowhere for long periods as we watch the goings on of the insane that add atmosphere but do not advance the plot. Quite a bit of gore. I enjoyed Bill McGhee's performance which he made quite believable for such a low budget picture, he managed to carry the movie at times when nothing much seemed to be happening. Nurse Charlotte Beale, played by Jesse Lee, played her character well so be prepared to want to slap her toward the end! She makes some really stupid mistakes but then, that's what makes these low budget movies so good! I would have been out of that place and five states away long before she even considered that it might be a good idea to leave! If you enjoy this movie, try Committed from 1988 which is basically a rip off of this movie.\n",
      "\n",
      "\n"
     ]
    },
    {
     "name": "stderr",
     "output_type": "stream",
     "text": [
      "\n",
      "[Succeeded / Failed / Skipped / Total] 18 / 0 / 3 / 21:  22%|██▏       | 22/100 [03:33<12:36,  9.70s/it]\u001B[A\n",
      "[Succeeded / Failed / Skipped / Total] 19 / 0 / 3 / 22:  22%|██▏       | 22/100 [03:33<12:36,  9.70s/it]\u001B[A"
     ]
    },
    {
     "name": "stdout",
     "output_type": "stream",
     "text": [
      "--------------------------------------------- Result 22 ---------------------------------------------\n",
      "[[Negative (100%)]] --> [[Positive (59%)]]\n",
      "\n",
      "Dr Stephens (Micheal Harvey) runs a mental asylum. He has a different approach to the insane. He conducts unorthodox methods of treatment. He treats everyone like family, there are no locks on the patients doors and he lets some of the inmates act out their twisted fantasies. He lets Sergeant Jaffee (Hugh Feagin) dress and act as a soldier and Harriet (Camilla Carr) be a mother to a doll, including letting her put it to bed in a cot. Dr. Stevens is outside letting Judge Oliver W. Cameron (Gene Ross) chop a log up with an axe, it turns out to be a bad move as once Dr. Stevens back is turned the Judge plants the axe in his shoulder. Soon after Nurse Charlotte Beale (Rosie Holotik) arrives at the Sanitarium having arranged an interview with Dr. Stevens about a possible job. She is met by the head Nurse, Geraldine Masters (Annabelle Weenick as Anne McAdams) and is offered a trail position. She gets to know and becomes well liked among the patients. However things eventually start to turn sour, the phone lines are cut, an old lady named Mrs. Callingham (Rhea MacAdams) has her tongue cut out and she starts to get a strange feeling that things just aren't right somehow. Then, one night all the Sanitariums dark secrets are violently revealed. Produced and directed by S.f. Brownrigg this film has a great central [[idea]] which builds into a cool twist ending, but ultimately is a bit of a chore to sit through because of it's low budget restrictions and a rather slow script by Tim Pope. There are just too many long boring stretches of dialogue by the inmates, not a lot really happens until the final twenty odd minutes. The film has [[no]] real visual [[quality]] as it's set entirely in the Sanitarium and it's grounds which is basically just a big bland house in the middle of nowhere. There's no graphic gore in it, a few splashes of blood here and there and thats yer lot. There's a bit of nudity, but like the gore not much. The acting is pretty strong, especially Holotik [[and]] Weenick. The photography is flat and unexciting and I can't [[even]] remember what the music was like. [[The]] twist ending is great, but it [[just]] takes far too long to get to it. A film that had a lot of potential that was probably held back by it's budget. OK I guess, but I think it would have worked a lot better if the story had been turned into a half an hour 'Tales form the Crypt' episode.\n",
      "\n",
      "Dr Stephens (Micheal Harvey) runs a mental asylum. He has a different approach to the insane. He conducts unorthodox methods of treatment. He treats everyone like family, there are no locks on the patients doors and he lets some of the inmates act out their twisted fantasies. He lets Sergeant Jaffee (Hugh Feagin) dress and act as a soldier and Harriet (Camilla Carr) be a mother to a doll, including letting her put it to bed in a cot. Dr. Stevens is outside letting Judge Oliver W. Cameron (Gene Ross) chop a log up with an axe, it turns out to be a bad move as once Dr. Stevens back is turned the Judge plants the axe in his shoulder. Soon after Nurse Charlotte Beale (Rosie Holotik) arrives at the Sanitarium having arranged an interview with Dr. Stevens about a possible job. She is met by the head Nurse, Geraldine Masters (Annabelle Weenick as Anne McAdams) and is offered a trail position. She gets to know and becomes well liked among the patients. However things eventually start to turn sour, the phone lines are cut, an old lady named Mrs. Callingham (Rhea MacAdams) has her tongue cut out and she starts to get a strange feeling that things just aren't right somehow. Then, one night all the Sanitariums dark secrets are violently revealed. Produced and directed by S.f. Brownrigg this film has a great central [[contemplation]] which builds into a cool twist ending, but ultimately is a bit of a chore to sit through because of it's low budget restrictions and a rather slow script by Tim Pope. There are just too many long boring stretches of dialogue by the inmates, not a lot really happens until the final twenty odd minutes. The film has [[any]] real visual [[caliber]] as it's set entirely in the Sanitarium and it's grounds which is basically just a big bland house in the middle of nowhere. There's no graphic gore in it, a few splashes of blood here and there and thats yer lot. There's a bit of nudity, but like the gore not much. The acting is pretty strong, especially Holotik [[et]] Weenick. The photography is flat and unexciting and I can't [[incidentally]] remember what the music was like. [[Both]] twist ending is great, but it [[hardly]] takes far too long to get to it. A film that had a lot of potential that was probably held back by it's budget. OK I guess, but I think it would have worked a lot better if the story had been turned into a half an hour 'Tales form the Crypt' episode.\n",
      "\n",
      "\n"
     ]
    },
    {
     "name": "stderr",
     "output_type": "stream",
     "text": [
      "\n",
      "[Succeeded / Failed / Skipped / Total] 19 / 0 / 3 / 22:  23%|██▎       | 23/100 [03:38<12:11,  9.49s/it]\u001B[A\n",
      "[Succeeded / Failed / Skipped / Total] 20 / 0 / 3 / 23:  23%|██▎       | 23/100 [03:38<12:11,  9.50s/it]\u001B[A"
     ]
    },
    {
     "name": "stdout",
     "output_type": "stream",
     "text": [
      "--------------------------------------------- Result 23 ---------------------------------------------\n",
      "[[Negative (100%)]] --> [[Negative (67%)]]\n",
      "\n",
      "The Forgotten (AKA: Don't Look In The Basement) is a very cheaply [[made]] and very [[old]] [[looking]] horror movie.<br /><br />The story is very slow and [[never]] really reaches anything worth getting excited about.<br /><br />The patients at the asylum are embarrassingly funny especially Sam and the old woman who always quotes an old saying to everyone. (Look out for the bit when she gets close to the camera, tell me you can watch without laughing!).<br /><br />Now the gore is very [[poor]] looking, with the blood looking pink in many scenes so it doesn't really [[deserve]] its place on the video nasties list!.<br /><br />Overall if you aren't looking for a fantastic horror film and have some time to spare then it's worth a watch.\n",
      "\n",
      "The Forgotten (AKA: Don't Look In The Basement) is a very cheaply [[were]] and very [[oldest]] [[researching]] horror movie.<br /><br />The story is very slow and [[forever]] really reaches anything worth getting excited about.<br /><br />The patients at the asylum are embarrassingly funny especially Sam and the old woman who always quotes an old saying to everyone. (Look out for the bit when she gets close to the camera, tell me you can watch without laughing!).<br /><br />Now the gore is very [[indigent]] looking, with the blood looking pink in many scenes so it doesn't really [[merited]] its place on the video nasties list!.<br /><br />Overall if you aren't looking for a fantastic horror film and have some time to spare then it's worth a watch.\n",
      "\n",
      "\n"
     ]
    },
    {
     "name": "stderr",
     "output_type": "stream",
     "text": [
      "\n",
      "[Succeeded / Failed / Skipped / Total] 20 / 0 / 3 / 23:  24%|██▍       | 24/100 [04:01<12:46, 10.08s/it]\u001B[A\n",
      "[Succeeded / Failed / Skipped / Total] 21 / 0 / 3 / 24:  24%|██▍       | 24/100 [04:01<12:46, 10.08s/it]\u001B[A"
     ]
    },
    {
     "name": "stdout",
     "output_type": "stream",
     "text": [
      "--------------------------------------------- Result 24 ---------------------------------------------\n",
      "[[Negative (100%)]] --> [[Negative (70%)]]\n",
      "\n",
      "This movie had [[a]] very unique effect on me: it [[stalled]] my realization that this movie REALLY sucks! It is disguised as a \"thinker's film\" in the likes of Memento and other jewels like that, but at the end, and even after a few minutes, you come to realize that [[this]] [[is]] nothing but utter [[pretentious]] cr4p. Probably written by some collage student with friends to compassionate to tell him that his writing sucks. The whole idea [[is]]  I don't even know if it tried to scratch on the [[supernatural]], or they want us to believe that because someone fills your mind (a very weak one, btw) with stupid \"riddles\", the kind you learn on elementary school recess, you suddenly come to the \"one truth\" about everything, then you have to kill someone and confess. !!! What? How, what, why, WHY? Is just like saying that to make a cake, just throw a bunch of ingredients, and add water forgot about cooking it? I [[guess]] these guys forgot to, not explain, but present the mechanism of WHY was this happening? You have to do that when you present a [[story]] which normal, everyday acts (lie solving riddle rhymes) start to have an abnormal [[effect]] on people. [[Acting]] [[was]] horrible, [[with]] that girl always trying to look cute at the camera, and the guy from Highlanders, the series, acting up like the though heavy metal record store (yeah, they're all real though s-o-b's). The \"menacing\" atmosphere, with the \"oh-so-clever\" riddles ([[enter]] the 60's series of Batman and [[Robin]], with [[guest]] [[appearance]] [[of]] The Riddle) [[and]] the crazies who [[claim]] to [[have]] \"[[the]] [[knowledge]]\" [[behind]] that smirk [[on]] their [[faces]] just [[horrible]], HORRIBLE.<br /><br />I'm usually very partial about low [[budget]] movies, and tend to root for the underdog by giving them more praise than they may deserve, in lieu of their constrictions, you know, but this [[is]] [[just]] an ugly excuse for a movie that will keep you [[wanting]] to be good for an [[hour]] and a half, and [[at]] the end you will just [[lament]] that you fell for [[it]].\n",
      "\n",
      "This movie had [[another]] very unique effect on me: it [[discontinued]] my realization that this movie REALLY sucks! It is disguised as a \"thinker's film\" in the likes of Memento and other jewels like that, but at the end, and even after a few minutes, you come to realize that [[these]] [[belongs]] nothing but utter [[grandiose]] cr4p. Probably written by some collage student with friends to compassionate to tell him that his writing sucks. The whole idea [[represent]]  I don't even know if it tried to scratch on the [[inexplicable]], or they want us to believe that because someone fills your mind (a very weak one, btw) with stupid \"riddles\", the kind you learn on elementary school recess, you suddenly come to the \"one truth\" about everything, then you have to kill someone and confess. !!! What? How, what, why, WHY? Is just like saying that to make a cake, just throw a bunch of ingredients, and add water forgot about cooking it? I [[thought]] these guys forgot to, not explain, but present the mechanism of WHY was this happening? You have to do that when you present a [[lore]] which normal, everyday acts (lie solving riddle rhymes) start to have an abnormal [[incidence]] on people. [[Behaved]] [[are]] horrible, [[per]] that girl always trying to look cute at the camera, and the guy from Highlanders, the series, acting up like the though heavy metal record store (yeah, they're all real though s-o-b's). The \"menacing\" atmosphere, with the \"oh-so-clever\" riddles ([[entrance]] the 60's series of Batman and [[Chacon]], with [[asks]] [[emerge]] [[between]] The Riddle) [[both]] the crazies who [[arguing]] to [[received]] \"[[both]] [[acquaintances]]\" [[ago]] that smirk [[per]] their [[confronted]] just [[heinous]], HORRIBLE.<br /><br />I'm usually very partial about low [[priced]] movies, and tend to root for the underdog by giving them more praise than they may deserve, in lieu of their constrictions, you know, but this [[consists]] [[hardly]] an ugly excuse for a movie that will keep you [[strives]] to be good for an [[time]] and a half, and [[into]] the end you will just [[weep]] that you fell for [[he]].\n",
      "\n",
      "\n"
     ]
    },
    {
     "name": "stderr",
     "output_type": "stream",
     "text": [
      "\n",
      "[Succeeded / Failed / Skipped / Total] 21 / 0 / 3 / 24:  25%|██▌       | 25/100 [04:13<12:40, 10.14s/it]\u001B[A\n",
      "[Succeeded / Failed / Skipped / Total] 22 / 0 / 3 / 25:  25%|██▌       | 25/100 [04:13<12:40, 10.14s/it]\u001B[Atextattack: Saving checkpoint under \"checkpoints\\1682476270544.ta.chkpt\" at 2023-04-25 22:31:10 after 25 attacks.\n"
     ]
    },
    {
     "name": "stdout",
     "output_type": "stream",
     "text": [
      "--------------------------------------------- Result 25 ---------------------------------------------\n",
      "[[Negative (100%)]] --> [[Negative (69%)]]\n",
      "\n",
      "too [[bad]] this movie isn't. While \"[[Nemesis]] Game\" is [[mildly]] [[entertaining]], I found it hard to suspend my disbelief the whole length of the [[movie]], especially the situations that Sara was putting herself into. Are we supposed to believe that:<br /><br />1) this hot chick is going to go slumming unarmed around abandoned buildings and dark subway tunnels in the middle of the night just to solve some riddles?<br /><br />2) the protagonists are supposedly such experts that they play riddle games for [[fun]], but don't put the whole \"I Never Sinned\" riddle together until the very end...and then...and [[then]]...get this...she has to do the whole mirror thing to finally put the [[pieces]] together?? [[I]] know it was the filmmaker's device to show the [[audience]] what was [[going]] on, but do they really think we're that [[stupid]]?<br /><br />3) when Vern and Sara go to the Chez M to question the blonde, there is not ONE topless chick in the whole building. Nada. C'mon. I know it's Canada, but I would expect more from a country that gave us Shannon Tweed.<br /><br />And anyone else notice that when Vern was surfing the Web and found that riddlezone site, that when he moused over the link the cursor stayed an arrow, and didn't turn into a little hand (LIKE ALL CURSORS DO WHEN YOU CLICK ON A HYPERLINK)?!? I mean, if you're gonna have the internet play such a prominent role in your movie, at [[least]] get the little things right. [[Geez]].\n",
      "\n",
      "too [[dirty]] this movie isn't. While \"[[Foe]] Game\" is [[briskly]] [[goofy]], I found it hard to suspend my disbelief the whole length of the [[cinematographers]], especially the situations that Sara was putting herself into. Are we supposed to believe that:<br /><br />1) this hot chick is going to go slumming unarmed around abandoned buildings and dark subway tunnels in the middle of the night just to solve some riddles?<br /><br />2) the protagonists are supposedly such experts that they play riddle games for [[lighthearted]], but don't put the whole \"I Never Sinned\" riddle together until the very end...and then...and [[hence]]...get this...she has to do the whole mirror thing to finally put the [[piece]] together?? [[me]] know it was the filmmaker's device to show the [[onlookers]] what was [[went]] on, but do they really think we're that [[nonsensical]]?<br /><br />3) when Vern and Sara go to the Chez M to question the blonde, there is not ONE topless chick in the whole building. Nada. C'mon. I know it's Canada, but I would expect more from a country that gave us Shannon Tweed.<br /><br />And anyone else notice that when Vern was surfing the Web and found that riddlezone site, that when he moused over the link the cursor stayed an arrow, and didn't turn into a little hand (LIKE ALL CURSORS DO WHEN YOU CLICK ON A HYPERLINK)?!? I mean, if you're gonna have the internet play such a prominent role in your movie, at [[smaller]] get the little things right. [[Frak]].\n",
      "\n",
      "\n",
      "\n",
      "\n",
      "=============================================================================================================================\n",
      "=============================================================================================================================\n",
      "\n"
     ]
    },
    {
     "name": "stderr",
     "output_type": "stream",
     "text": [
      "\n",
      "[Succeeded / Failed / Skipped / Total] 22 / 0 / 3 / 25:  26%|██▌       | 26/100 [04:18<12:14,  9.93s/it]\u001B[A\n",
      "[Succeeded / Failed / Skipped / Total] 23 / 0 / 3 / 26:  26%|██▌       | 26/100 [04:18<12:14,  9.93s/it]\u001B[A"
     ]
    },
    {
     "name": "stdout",
     "output_type": "stream",
     "text": [
      "--------------------------------------------- Result 26 ---------------------------------------------\n",
      "[[Negative (100%)]] --> [[Negative (69%)]]\n",
      "\n",
      "I of course saw the previews for this at the beginning of some other Lion's Gate extravaganza, so of course it was only the best parts and therefore looked intriguing. And it is, to a point. A young college student (Sarah)is finding riddles all over the place and is becoming obsessed with answering them, and in doing so she's unwittingly becoming involved in some game. Now that's fairly [[intriguing]] right there but [[unfortunately]] it all gets rather muddled and becomes so complicated that the viewer (like myself) will most likely become frustrated. Characters appear with little introduction and you're not really sure who they are or why Sarah knows them or is hanging out with them. All of this has something to do with this woman who tried to drown a young boy years ago and her reason for that was that it's \"all part of the design\". In reality, it's all part of the \"very [[sketchy]] [[script]]\" and when the film is over you'll find yourself feeling that you've lost about an hour and a half of your life that you want back for more productive uses of your time, like cleaning the bathroom, for instance. 4 out of 10.\n",
      "\n",
      "I of course saw the previews for this at the beginning of some other Lion's Gate extravaganza, so of course it was only the best parts and therefore looked intriguing. And it is, to a point. A young college student (Sarah)is finding riddles all over the place and is becoming obsessed with answering them, and in doing so she's unwittingly becoming involved in some game. Now that's fairly [[mystifying]] right there but [[spectacularly]] it all gets rather muddled and becomes so complicated that the viewer (like myself) will most likely become frustrated. Characters appear with little introduction and you're not really sure who they are or why Sarah knows them or is hanging out with them. All of this has something to do with this woman who tried to drown a young boy years ago and her reason for that was that it's \"all part of the design\". In reality, it's all part of the \"very [[mysterious]] [[scripts]]\" and when the film is over you'll find yourself feeling that you've lost about an hour and a half of your life that you want back for more productive uses of your time, like cleaning the bathroom, for instance. 4 out of 10.\n",
      "\n",
      "\n"
     ]
    },
    {
     "name": "stderr",
     "output_type": "stream",
     "text": [
      "\n",
      "[Succeeded / Failed / Skipped / Total] 23 / 0 / 3 / 26:  27%|██▋       | 27/100 [04:25<11:57,  9.82s/it]\u001B[A\n",
      "[Succeeded / Failed / Skipped / Total] 24 / 0 / 3 / 27:  27%|██▋       | 27/100 [04:25<11:57,  9.82s/it]\u001B[A"
     ]
    },
    {
     "name": "stdout",
     "output_type": "stream",
     "text": [
      "--------------------------------------------- Result 27 ---------------------------------------------\n",
      "[[Negative (100%)]] --> [[Positive (61%)]]\n",
      "\n",
      "I gave this a 3 out of a possible 10 stars.<br /><br />Unless you like wasting your time watching an anorexic actress, in [[this]] film it's Carly Pope, [[behaving]] like a ditz, don't bother.<br /><br />Carly Pope plays Sara Novak, a young college student, who becomes intrigued with a game of riddles, that leads her down into subway tunnels underneath the city - a dangerous thing for even a well-armed man to go in alone.<br /><br />There are various intrigues in the film -- a weirdo classmate who is apparently stalking Sara, a cynical shopkeeper who runs some kind of offbeat hole-in-the-wall establishment that appears to be located in the back alley of a ghetto, a nerdish dim-wit that hangs around the cynic's shop, and a woman named Emily Gray, who is back in prison.<br /><br />Sara's father is a lawyer who is handling Emily Gray's case. <br /><br />A few years back, Emily Gray attempted to drown a 12 year old boy. Emily was put in a mental hospital for 5 years, and for some cockeyed reason they let her out again, even though it is obvious she is still dangerously deranged.<br /><br />The [[only]] explanation [[Emily]] has ever [[given]] for her crime is: I never sinned.<br /><br />It's all part of the design.<br /><br />[[Well]], my friend, don't expect to ever [[get]] any better explanation than that, because you won't.\n",
      "\n",
      "I gave this a 3 out of a possible 10 stars.<br /><br />Unless you like wasting your time watching an anorexic actress, in [[that]] film it's Carly Pope, [[behave]] like a ditz, don't bother.<br /><br />Carly Pope plays Sara Novak, a young college student, who becomes intrigued with a game of riddles, that leads her down into subway tunnels underneath the city - a dangerous thing for even a well-armed man to go in alone.<br /><br />There are various intrigues in the film -- a weirdo classmate who is apparently stalking Sara, a cynical shopkeeper who runs some kind of offbeat hole-in-the-wall establishment that appears to be located in the back alley of a ghetto, a nerdish dim-wit that hangs around the cynic's shop, and a woman named Emily Gray, who is back in prison.<br /><br />Sara's father is a lawyer who is handling Emily Gray's case. <br /><br />A few years back, Emily Gray attempted to drown a 12 year old boy. Emily was put in a mental hospital for 5 years, and for some cockeyed reason they let her out again, even though it is obvious she is still dangerously deranged.<br /><br />The [[unadulterated]] explanation [[Emilie]] has ever [[accorded]] for her crime is: I never sinned.<br /><br />It's all part of the design.<br /><br />[[Quite]], my friend, don't expect to ever [[ai]] any better explanation than that, because you won't.\n",
      "\n",
      "\n"
     ]
    },
    {
     "name": "stderr",
     "output_type": "stream",
     "text": [
      "\n",
      "[Succeeded / Failed / Skipped / Total] 24 / 0 / 3 / 27:  28%|██▊       | 28/100 [04:28<11:31,  9.60s/it]\u001B[A\n",
      "[Succeeded / Failed / Skipped / Total] 25 / 0 / 3 / 28:  28%|██▊       | 28/100 [04:28<11:31,  9.61s/it]\u001B[A"
     ]
    },
    {
     "name": "stdout",
     "output_type": "stream",
     "text": [
      "--------------------------------------------- Result 28 ---------------------------------------------\n",
      "[[Negative (100%)]] --> [[Positive (55%)]]\n",
      "\n",
      "I was looking forward to this movie. Trustworthy actors, interesting plot. Great atmosphere then ????? IF you are going to attempt something that is meant to encapsulate the meaning of life. First. Know it. OK I did not expect the directors or writers to actually know the meaning but I thought they may have offered crumbs to peck at and treats to add fuel to the fire-Which! they almost did. Things I didn't get. A woman wandering around in dark places and lonely car parks alone-oblivious to the consequences. Great riddles that fell by the wayside. The promise of the knowledge therein contained by the original so-called criminal. I had no problem with the budget and enjoyed the suspense. I understood and can wax [[lyrical]] about the fool and found Adrian Pauls role crucial and penetrating and [[then]] ????? Basically the story line and the script where good up to a point and that point was the last 10 minutes or so. What? Run out of ideas! Such a pity that this movie had to let us down so badly. It may not comprehend the meaning and I really did not expect the writers to understand it but I was hoping for an intellectual, if not spiritual ride and got a bump in the road\n",
      "\n",
      "I was looking forward to this movie. Trustworthy actors, interesting plot. Great atmosphere then ????? IF you are going to attempt something that is meant to encapsulate the meaning of life. First. Know it. OK I did not expect the directors or writers to actually know the meaning but I thought they may have offered crumbs to peck at and treats to add fuel to the fire-Which! they almost did. Things I didn't get. A woman wandering around in dark places and lonely car parks alone-oblivious to the consequences. Great riddles that fell by the wayside. The promise of the knowledge therein contained by the original so-called criminal. I had no problem with the budget and enjoyed the suspense. I understood and can wax [[melancholic]] about the fool and found Adrian Pauls role crucial and penetrating and [[even]] ????? Basically the story line and the script where good up to a point and that point was the last 10 minutes or so. What? Run out of ideas! Such a pity that this movie had to let us down so badly. It may not comprehend the meaning and I really did not expect the writers to understand it but I was hoping for an intellectual, if not spiritual ride and got a bump in the road\n",
      "\n",
      "\n"
     ]
    },
    {
     "name": "stderr",
     "output_type": "stream",
     "text": [
      "\n",
      "[Succeeded / Failed / Skipped / Total] 25 / 0 / 3 / 28:  29%|██▉       | 29/100 [04:39<11:23,  9.62s/it]\u001B[A\n",
      "[Succeeded / Failed / Skipped / Total] 26 / 0 / 3 / 29:  29%|██▉       | 29/100 [04:39<11:23,  9.62s/it]\u001B[A"
     ]
    },
    {
     "name": "stdout",
     "output_type": "stream",
     "text": [
      "--------------------------------------------- Result 29 ---------------------------------------------\n",
      "[[Negative (100%)]] --> [[Negative (51%)]]\n",
      "\n",
      "Four things intrigued me as to this film - firstly, it stars Carly Pope (of \"Popular\" fame), who is always a pleasure to watch. Secdonly, it features brilliant New Zealand actress Rena Owen. Thirdly, it is filmed in association with the New Zealand Film Commission. Fourthly, a [[friend]] [[recommended]] it to me. However, [[I]] was [[utterly]] disappointed. The whole storyline [[is]] [[absurd]] and [[complicated]], with very [[little]] [[resolution]]. Pope's [[acting]] [[is]] fine, but Owen [[is]] [[unfortunately]] under-used. The [[other]] actors and [[actresses]] [[are]] all okay, but I am [[unfamiliar]] with them all. [[Aside]] from the nice riddles which are littered throughout the movie (and Pope and Owen), this film isn't very good. So the moral of the story is...don't watch it unless you really want to.\n",
      "\n",
      "Four things intrigued me as to this film - firstly, it stars Carly Pope (of \"Popular\" fame), who is always a pleasure to watch. Secdonly, it features brilliant New Zealand actress Rena Owen. Thirdly, it is filmed in association with the New Zealand Film Commission. Fourthly, a [[amie]] [[commend]] it to me. However, [[me]] was [[critically]] disappointed. The whole storyline [[does]] [[comical]] and [[challenge]], with very [[kiddo]] [[solving]]. Pope's [[provisional]] [[has]] fine, but Owen [[implies]] [[sadly]] under-used. The [[respective]] actors and [[players]] [[fi]] all okay, but I am [[weird]] with them all. [[Additionally]] from the nice riddles which are littered throughout the movie (and Pope and Owen), this film isn't very good. So the moral of the story is...don't watch it unless you really want to.\n",
      "\n",
      "\n"
     ]
    },
    {
     "name": "stderr",
     "output_type": "stream",
     "text": [
      "\n",
      "[Succeeded / Failed / Skipped / Total] 26 / 0 / 3 / 29:  30%|███       | 30/100 [04:40<10:54,  9.35s/it]\u001B[A\n",
      "[Succeeded / Failed / Skipped / Total] 27 / 0 / 3 / 30:  30%|███       | 30/100 [04:40<10:54,  9.35s/it]\u001B[Atextattack: Saving checkpoint under \"checkpoints\\1682476297546.ta.chkpt\" at 2023-04-25 22:31:37 after 30 attacks.\n"
     ]
    },
    {
     "name": "stdout",
     "output_type": "stream",
     "text": [
      "--------------------------------------------- Result 30 ---------------------------------------------\n",
      "[[Negative (97%)]] --> [[Negative (66%)]]\n",
      "\n",
      "<br /><br />Never ever take a film just for its good looking title.<br /><br />Although it all starts well, the film suffers the same imperfections you see in B-films. Its like at a certain moment the writer does not any more how to end the film, so he ends it in a way nobody suspects it [[thinking]] this way he is ingenious.<br /><br />A film to be listed on top of the garbage list.<br /><br />\n",
      "\n",
      "<br /><br />Never ever take a film just for its good looking title.<br /><br />Although it all starts well, the film suffers the same imperfections you see in B-films. Its like at a certain moment the writer does not any more how to end the film, so he ends it in a way nobody suspects it [[believe]] this way he is ingenious.<br /><br />A film to be listed on top of the garbage list.<br /><br />\n",
      "\n",
      "\n",
      "\n",
      "\n",
      "=============================================================================================================================\n",
      "=============================================================================================================================\n",
      "\n"
     ]
    },
    {
     "name": "stderr",
     "output_type": "stream",
     "text": [
      "\n",
      "[Succeeded / Failed / Skipped / Total] 27 / 0 / 3 / 30:  31%|███       | 31/100 [04:47<10:40,  9.28s/it]\u001B[A\n",
      "[Succeeded / Failed / Skipped / Total] 28 / 0 / 3 / 31:  31%|███       | 31/100 [04:47<10:40,  9.28s/it]\u001B[A"
     ]
    },
    {
     "name": "stdout",
     "output_type": "stream",
     "text": [
      "--------------------------------------------- Result 31 ---------------------------------------------\n",
      "[[Negative (100%)]] --> [[Negative (70%)]]\n",
      "\n",
      "Lowe returns to the nest after, yet another, failed relationship, to find he's been assigned to jury duty. It's in the plans to, somehow, get out of it, when he realizes the defendant is the girl he's had a serious crush on since the first grade.<br /><br />Through living in the past by telling other people about his feelings towards this girl (played by Camp), Lowe remembers those feelings and does everything in his power to clear Camp of attempted murder, while staying away from the real bad guys at the same time, and succeeding in creating a successful film at the same time.<br /><br />I've heard that St Augustine is the oldest city in the US, and I also know it has some ties to Ponce de Leon, so the backdrop is a good place to start. Unfortunately, it's the [[only]] thing good about this movie. The local police are inept, the judge is an idiot, and the defense counsel does everything in her power to make herself look like Joanie Cunningham! I don't know whether to [[blame]] the director for poor direction, or for just letting the cast put in [[such]] a [[hapless]] effort.<br /><br />[[In]] short, this [[movie]] was [[so]] [[boring]], [[I]] could not [[even]] [[sleep]] through [[it]]! 1 out of 10 stars!\n",
      "\n",
      "Lowe returns to the nest after, yet another, failed relationship, to find he's been assigned to jury duty. It's in the plans to, somehow, get out of it, when he realizes the defendant is the girl he's had a serious crush on since the first grade.<br /><br />Through living in the past by telling other people about his feelings towards this girl (played by Camp), Lowe remembers those feelings and does everything in his power to clear Camp of attempted murder, while staying away from the real bad guys at the same time, and succeeding in creating a successful film at the same time.<br /><br />I've heard that St Augustine is the oldest city in the US, and I also know it has some ties to Ponce de Leon, so the backdrop is a good place to start. Unfortunately, it's the [[righteous]] thing good about this movie. The local police are inept, the judge is an idiot, and the defense counsel does everything in her power to make herself look like Joanie Cunningham! I don't know whether to [[blames]] the director for poor direction, or for just letting the cast put in [[comparable]] a [[sorrowful]] effort.<br /><br />[[About]] short, this [[films]] was [[well]] [[frustrating]], [[me]] could not [[already]] [[asleep]] through [[his]]! 1 out of 10 stars!\n",
      "\n",
      "\n"
     ]
    },
    {
     "name": "stderr",
     "output_type": "stream",
     "text": [
      "\n",
      "[Succeeded / Failed / Skipped / Total] 28 / 0 / 3 / 31:  32%|███▏      | 32/100 [04:59<10:35,  9.35s/it]\u001B[A\n",
      "[Succeeded / Failed / Skipped / Total] 29 / 0 / 3 / 32:  32%|███▏      | 32/100 [04:59<10:35,  9.35s/it]\u001B[A\n",
      "[Succeeded / Failed / Skipped / Total] 29 / 0 / 4 / 33:  33%|███▎      | 33/100 [04:59<10:07,  9.07s/it]\u001B[A"
     ]
    },
    {
     "name": "stdout",
     "output_type": "stream",
     "text": [
      "--------------------------------------------- Result 32 ---------------------------------------------\n",
      "[[Negative (100%)]] --> [[Negative (64%)]]\n",
      "\n",
      "Seriously, [[I]] can't [[imagine]] how anyone could find a single flattering thing to say about this movie, much less find it in themselves to write the glowing compliments contained in this comment section. How many methamphetamines was Bogdonovitch on during the filming of this movie? Was he giving a bonus to the actor that spat his lines out with the most speed and least inflection or thought? The dialogue is bad, the plot atrocious, even [[for]] a \"screwball\" [[comedy]], and claims that the movie is an homage to classic film comedy is about the most inane thing I've ever heard. The [[cinematography]] [[is]] [[below]] the quality and innovation of that exhibited by the worst made-for-TV movies, the acting is awful (although I get the feeling that the fault [[for]] that lies squarely in the lap of the director), and [[speaking]] of [[which]], did [[I]] mention the direction is so haphazard and inscrutable that it defies the definition of the word? The [[whole]] [[thing]] [[is]] a [[terribly]] [[unfunny]] (even in the much-beleaguered [[world]] of so-bad-it's-funny clunkers), soul-sucking, [[waste]] [[of]] two hours of your life that you'll [[never]] [[get]] [[back]]. Be [[afraid]], be very afraid...\n",
      "\n",
      "Seriously, [[me]] can't [[envisioned]] how anyone could find a single flattering thing to say about this movie, much less find it in themselves to write the glowing compliments contained in this comment section. How many methamphetamines was Bogdonovitch on during the filming of this movie? Was he giving a bonus to the actor that spat his lines out with the most speed and least inflection or thought? The dialogue is bad, the plot atrocious, even [[about]] a \"screwball\" [[comedies]], and claims that the movie is an homage to classic film comedy is about the most inane thing I've ever heard. The [[cinematographer]] [[gets]] [[afterwards]] the quality and innovation of that exhibited by the worst made-for-TV movies, the acting is awful (although I get the feeling that the fault [[by]] that lies squarely in the lap of the director), and [[interviews]] of [[that]], did [[me]] mention the direction is so haphazard and inscrutable that it defies the definition of the word? The [[collectively]] [[anything]] [[makes]] a [[terrifically]] [[hilarious]] (even in the much-beleaguered [[worlds]] of so-bad-it's-funny clunkers), soul-sucking, [[wastage]] [[de]] two hours of your life that you'll [[not]] [[learned]] [[ago]]. Be [[uneasy]], be very afraid...\n",
      "\n",
      "\n",
      "--------------------------------------------- Result 33 ---------------------------------------------\n",
      "[[Positive (88%)]] --> [[[SKIPPED]]]\n",
      "\n",
      "I'm the type of guy who loves hood movies from New Jack City to Baby Boy to Killa Season, from the b grade to the Hollywood. but this movie was something different. i am no hater and this movie was kinda enjoyable. but some bits were just weird. well the acting wasn't to good, compared to Silkk The Shockers performance in Hot Boyz (quite good) and Ice-T in new Jack and SVU (great). the scene where Corrupt (Ice-T) kills the wanna be Jamaican dude he says something and lights himself on fire burning both Ice-T and the other dude, this kills the Jamaican, however Ice-T is unharmed, very similar to Ice's other movie Urban Menace (which stars both of these actors) were Snoops character is supernatural, however after this there is nothing suggested that Corrupt is like a demon. When MJ (Silkk) gets stabbed at first he struggling but after that he fights normally and was stabbed in the thigh-WITH OUT BLOOD. and when MJ confesses killing a cop cos the cop was beating up his friend Benny was weird, Benny isn't introduced in this movie and the scene isn't in the film. it does hold weight to the fact why Corrupt wants to kill MJ but is still makes u scratch your head. wen Jody writes a letter to Miss Jones character explaining what happened to them afterwords doesn't mention what happen 2 other main characters MJ and Lisa. the film did show the horror and poverty of the ghetto-which plagues the lives of Latinos and Blacks word wide-was a good part of the film, even though the clip of the projects was re-used thousands of times. and the scene where Miles kills the Latino brother by crashing his bike at full speed (not wearing a helmet) and running into my Latino brothers car would of killed him. the movie was similar to the film Urban Menace and half the actors were in both of these movies as well as the production team. it was OK tho. but me being from poverty i love hood films, however if u don't love em like i do Don't WATCH IT. only thing saving me from walking out is it reminded me of the first movie i made which was made with 100 dollars, and my love of the genre.<br /><br />Nathaniel Purez\n",
      "\n",
      "\n"
     ]
    },
    {
     "name": "stderr",
     "output_type": "stream",
     "text": [
      "\n",
      "[Succeeded / Failed / Skipped / Total] 29 / 0 / 4 / 33:  34%|███▍      | 34/100 [05:02<09:47,  8.91s/it]\u001B[A\n",
      "[Succeeded / Failed / Skipped / Total] 30 / 0 / 4 / 34:  34%|███▍      | 34/100 [05:02<09:47,  8.91s/it]\u001B[A"
     ]
    },
    {
     "name": "stdout",
     "output_type": "stream",
     "text": [
      "--------------------------------------------- Result 34 ---------------------------------------------\n",
      "[[Negative (100%)]] --> [[Positive (76%)]]\n",
      "\n",
      "The most positive points in this film were the credits (text style) and some moments in Ice-T's acting. The story-line; two rival gangs having to fight it out, with the sub-plots of betrayal, power and change are well worn plots but in this case painful(very) to wade through. The [[decrepit]] [[scenery]], which added slight believability in places, [[and]] questionable [[lighting]], constantly [[distracted]] from any interest/identification with the characters (the shine off of the actress's forehead/nose was blinding, not to mention other scenes with the same problem.) Not even half way into the film I wanted to know more about how and why it came about as opposed to what was going on on screen. A disappointment if you have seen Ice-T in other roles. Kudos to other actors/actresses who seemed to get into their roles despite the weak direction; Corrupt's side kick and the other restaurant worker.\n",
      "\n",
      "The most positive points in this film were the credits (text style) and some moments in Ice-T's acting. The story-line; two rival gangs having to fight it out, with the sub-plots of betrayal, power and change are well worn plots but in this case painful(very) to wade through. The [[devastating]] [[picture]], which added slight believability in places, [[neither]] questionable [[headlights]], constantly [[entertain]] from any interest/identification with the characters (the shine off of the actress's forehead/nose was blinding, not to mention other scenes with the same problem.) Not even half way into the film I wanted to know more about how and why it came about as opposed to what was going on on screen. A disappointment if you have seen Ice-T in other roles. Kudos to other actors/actresses who seemed to get into their roles despite the weak direction; Corrupt's side kick and the other restaurant worker.\n",
      "\n",
      "\n"
     ]
    },
    {
     "name": "stderr",
     "output_type": "stream",
     "text": [
      "\n",
      "[Succeeded / Failed / Skipped / Total] 31 / 0 / 4 / 35:  35%|███▌      | 35/100 [05:08<09:33,  8.83s/it]\u001B[Atextattack: Saving checkpoint under \"checkpoints\\1682476326063.ta.chkpt\" at 2023-04-25 22:32:06 after 35 attacks.\n"
     ]
    },
    {
     "name": "stdout",
     "output_type": "stream",
     "text": [
      "--------------------------------------------- Result 35 ---------------------------------------------\n",
      "[[Negative (100%)]] --> [[Negative (69%)]]\n",
      "\n",
      "I quite [[enjoyed]] The Wrecking Crew (1999), which was the last of the three films in this series (the first being Urban Menace (1999) which I've yet to see). I know it was baaaaad, but the three leads did a pretty [[decent]] job, all things considered.<br /><br />This, [[however]], [[was]] [[truly]] [[atrocious]]. Ice-T was dreadful, and he's the [[producer]]! Can't say I've ever heard [[of]] Silkk The Shocker (who apparently never learnt how to spell), but his [[performance]] was one of the worst I've ever seen in a [[movie]].<br /><br />Miss Jones did pretty well in her small role, though she later went on to make some atrocious, racist \"jokes\" on her radio show after the SE Asian [[tsunami]] (plus other occasions sadly). Way to go, girl...<br /><br />No-one else comes out with any credit. Strangely, TJ Storm and Ernie Hudson (who are both pretty bad here) are far better [[in]] The Wrecking Crew, which was made, along with Urban Menace, at the same time as Corrupt. How that works, I don't know.<br /><br />I'm going to try the Ice-T commentary now, to see whether he apologises for the film, or tries to make us think it's a great piece of film-making.\n",
      "\n",
      "I quite [[enjoy]] The Wrecking Crew (1999), which was the last of the three films in this series (the first being Urban Menace (1999) which I've yet to see). I know it was baaaaad, but the three leads did a pretty [[worthwhile]] job, all things considered.<br /><br />This, [[incidentally]], [[would]] [[warmly]] [[frightful]]. Ice-T was dreadful, and he's the [[producers]]! Can't say I've ever heard [[at]] Silkk The Shocker (who apparently never learnt how to spell), but his [[executes]] was one of the worst I've ever seen in a [[photos]].<br /><br />Miss Jones did pretty well in her small role, though she later went on to make some atrocious, racist \"jokes\" on her radio show after the SE Asian [[typhoons]] (plus other occasions sadly). Way to go, girl...<br /><br />No-one else comes out with any credit. Strangely, TJ Storm and Ernie Hudson (who are both pretty bad here) are far better [[on]] The Wrecking Crew, which was made, along with Urban Menace, at the same time as Corrupt. How that works, I don't know.<br /><br />I'm going to try the Ice-T commentary now, to see whether he apologises for the film, or tries to make us think it's a great piece of film-making.\n",
      "\n",
      "\n",
      "\n",
      "\n",
      "=============================================================================================================================\n",
      "=============================================================================================================================\n",
      "\n"
     ]
    },
    {
     "name": "stderr",
     "output_type": "stream",
     "text": [
      "\n",
      "[Succeeded / Failed / Skipped / Total] 31 / 0 / 4 / 35:  36%|███▌      | 36/100 [05:11<09:14,  8.66s/it]\u001B[A\n",
      "[Succeeded / Failed / Skipped / Total] 32 / 0 / 4 / 36:  36%|███▌      | 36/100 [05:11<09:14,  8.66s/it]\u001B[A"
     ]
    },
    {
     "name": "stdout",
     "output_type": "stream",
     "text": [
      "--------------------------------------------- Result 36 ---------------------------------------------\n",
      "[[Negative (100%)]] --> [[Negative (68%)]]\n",
      "\n",
      "this film has no plot, [[no]] good acting, to be honest it has nothing, the same songs play over and over awful acting [[and]] [[if]] you can actually sit there and watch the whole thing and [[enjoy]] it there is something wrong with you. I wish i could give this 0 out of 10 but i cant so it has to be a 1 which is generous! ice-t isn't even a good rapper and even worse at acting, every bit of the film is rubbish, [[i]] got this film on DVD without knowing what it was for the price of £1.99 and thought that i had picked up a bargain, i then looked at the IMDb rating and didn't take it into consideration but after watching it found out that the DVD i had bought was a complete [[waste]] of time, money and electricity. if you have this film there are two things you can do sell it to someone who doesn't know about it or burn it!\n",
      "\n",
      "this film has no plot, [[any]] good acting, to be honest it has nothing, the same songs play over and over awful acting [[either]] [[than]] you can actually sit there and watch the whole thing and [[enjoys]] it there is something wrong with you. I wish i could give this 0 out of 10 but i cant so it has to be a 1 which is generous! ice-t isn't even a good rapper and even worse at acting, every bit of the film is rubbish, [[li]] got this film on DVD without knowing what it was for the price of £1.99 and thought that i had picked up a bargain, i then looked at the IMDb rating and didn't take it into consideration but after watching it found out that the DVD i had bought was a complete [[scrap]] of time, money and electricity. if you have this film there are two things you can do sell it to someone who doesn't know about it or burn it!\n",
      "\n",
      "\n"
     ]
    },
    {
     "name": "stderr",
     "output_type": "stream",
     "text": [
      "\n",
      "[Succeeded / Failed / Skipped / Total] 33 / 0 / 4 / 37:  37%|███▋      | 37/100 [05:22<09:09,  8.71s/it]\u001B[A\n",
      "[Succeeded / Failed / Skipped / Total] 33 / 0 / 4 / 37:  38%|███▊      | 38/100 [05:22<08:46,  8.49s/it]\u001B[A\n",
      "[Succeeded / Failed / Skipped / Total] 33 / 0 / 5 / 38:  38%|███▊      | 38/100 [05:22<08:46,  8.49s/it]\u001B[A"
     ]
    },
    {
     "name": "stdout",
     "output_type": "stream",
     "text": [
      "--------------------------------------------- Result 37 ---------------------------------------------\n",
      "[[Negative (100%)]] --> [[Negative (69%)]]\n",
      "\n",
      "Beware, My Lovely (1952) Dir: Harry Horner <br /><br />[[Production]]: The Filmmakers/RKO Radio Pictures<br /><br />Credulity-straining thriller from the pioneering producer team of Collier Young and Ida Lupino, aka The Filmmakers (with Lupino pitching in with some uncredited direction). <br /><br />Robert Ryan is the 'peril' and Ida Lupino is the 'woman' in this entry in the 'woman in peril' style [[film]]. Ryan [[plays]] Howard Wilton, a tightly-wound [[psychotic]] handyman drifter (noooo, Ryan? I know, hard to believe). Lupino is the lonely war widow, Helen Gordon, who hires Howard to do some work around her house. Things go [[downhill]] [[from]] there as Howard makes Helen a prisoner in her own home. <br /><br />Howard has a nasty secret, not that he could reveal it. You see, consciousness is a real challenge for him. Maintaining it, that is. He has an unfortunate habit of coming to and finding his employers dead. This is part of the film's problem. The nature of Howard's psychosis is so extreme that it is nearly impossible to believe that he's been free to roam from town to town unobstructed, even in the year 1918 (when the film is set). He can't remember anything that happened ten minutes ago. His violent, threatening, anti-social tendencies are set off by the smallest and most common of things (a young girl flirting, inadequacies involving the war, due to his being rejected for service). I don't know how he even made it past the interview with Helen. There are other implausibilities. If you were locked in your house with a madman, but nonetheless left on your own for periods of time, couldn't you figure out a way to escape? <br /><br />Ryan, I think, [[is]] [[defeated]] by the [[material]]. It feels like he's overplaying his hand. His series of tics and spasms and the tightly coiled bursts of dementia all have a been-there, done-that [[robotic]] [[feel]] to them. At this point in his career he'd probably played this character, to some degree, ten times and it shows. We are encouraged to empathize with Howard (I didn't) through shown bits of humanity, like him being stopped in his tracks by a music box and his relating to a group of children who won't judge him. Lupino just has to act frazzled and in distress, which she is more than capable of and does. <br /><br />The picture had one thing going for it; what would be the eventual resolution of the conflict? So naturally there was a disappointing ending that was abrupt and ineffective. <br /><br />Of slight interest was a recurring motif where the camera would catch Howard's reflection (in mirrors, water, Christmas tree decorations). This indicated something going on, or about to go on, in his head. Horner (1953's Vicki), who made his reputation in production design, does a fine job of making the house feel like a prison. Credit too, the always reliable RKO art department for the work on the house. In the end, sub-standard work from the principals, who all have much better films to their credit. <br /><br />*½ out of 4\n",
      "\n",
      "Beware, My Lovely (1952) Dir: Harry Horner <br /><br />[[Generated]]: The Filmmakers/RKO Radio Pictures<br /><br />Credulity-straining thriller from the pioneering producer team of Collier Young and Ida Lupino, aka The Filmmakers (with Lupino pitching in with some uncredited direction). <br /><br />Robert Ryan is the 'peril' and Ida Lupino is the 'woman' in this entry in the 'woman in peril' style [[photos]]. Ryan [[dessert]] Howard Wilton, a tightly-wound [[mad]] handyman drifter (noooo, Ryan? I know, hard to believe). Lupino is the lonely war widow, Helen Gordon, who hires Howard to do some work around her house. Things go [[alpine]] [[between]] there as Howard makes Helen a prisoner in her own home. <br /><br />Howard has a nasty secret, not that he could reveal it. You see, consciousness is a real challenge for him. Maintaining it, that is. He has an unfortunate habit of coming to and finding his employers dead. This is part of the film's problem. The nature of Howard's psychosis is so extreme that it is nearly impossible to believe that he's been free to roam from town to town unobstructed, even in the year 1918 (when the film is set). He can't remember anything that happened ten minutes ago. His violent, threatening, anti-social tendencies are set off by the smallest and most common of things (a young girl flirting, inadequacies involving the war, due to his being rejected for service). I don't know how he even made it past the interview with Helen. There are other implausibilities. If you were locked in your house with a madman, but nonetheless left on your own for periods of time, couldn't you figure out a way to escape? <br /><br />Ryan, I think, [[are]] [[conquered]] by the [[bodily]]. It feels like he's overplaying his hand. His series of tics and spasms and the tightly coiled bursts of dementia all have a been-there, done-that [[cranial]] [[sensation]] to them. At this point in his career he'd probably played this character, to some degree, ten times and it shows. We are encouraged to empathize with Howard (I didn't) through shown bits of humanity, like him being stopped in his tracks by a music box and his relating to a group of children who won't judge him. Lupino just has to act frazzled and in distress, which she is more than capable of and does. <br /><br />The picture had one thing going for it; what would be the eventual resolution of the conflict? So naturally there was a disappointing ending that was abrupt and ineffective. <br /><br />Of slight interest was a recurring motif where the camera would catch Howard's reflection (in mirrors, water, Christmas tree decorations). This indicated something going on, or about to go on, in his head. Horner (1953's Vicki), who made his reputation in production design, does a fine job of making the house feel like a prison. Credit too, the always reliable RKO art department for the work on the house. In the end, sub-standard work from the principals, who all have much better films to their credit. <br /><br />*½ out of 4\n",
      "\n",
      "\n",
      "--------------------------------------------- Result 38 ---------------------------------------------\n",
      "[[Positive (99%)]] --> [[[SKIPPED]]]\n",
      "\n",
      "The only reason this movie is not given a 1 (awful) vote is that the acting of both Ida Lupino and Robert Ryan is superb. Ida Lupino who is lovely, as usual, becomes increasingly distraught as she tries various means to rid herself of a madman. Robert Ryan is terrifying as the menacing stranger whose character, guided only by his disturbed mind, changes from one minute to the next. Seemingly simple and docile, suddenly he becomes clever and threatening. Ms. Lupino's character was in more danger from that house she lived in and her own stupidity than by anyone who came along. She could not manage to get out of her of her own house: windows didn't open, both front and back doors locked and unlocked from the inside with a key. You could not have designed a worse fire-trap if you tried. She did not take the precaution of having even one extra key. Nor could she figure out how to summon help from nearby neighbors or get out of her own basement while she was locked in and out of sight of her captor. I don't know what war her husband was killed in, but if it was World War II, the furnishings in her house, the styles of the clothes, especially the children and the telephone company repairman's car are clearly anachronistic. I recommend watching this movie just to see what oddities you can find.\n",
      "\n",
      "\n"
     ]
    },
    {
     "name": "stderr",
     "output_type": "stream",
     "text": [
      "\n",
      "[Succeeded / Failed / Skipped / Total] 33 / 0 / 5 / 38:  39%|███▉      | 39/100 [05:28<08:33,  8.41s/it]\u001B[A\n",
      "[Succeeded / Failed / Skipped / Total] 34 / 0 / 5 / 39:  39%|███▉      | 39/100 [05:28<08:33,  8.41s/it]\u001B[A"
     ]
    },
    {
     "name": "stdout",
     "output_type": "stream",
     "text": [
      "--------------------------------------------- Result 39 ---------------------------------------------\n",
      "[[Negative (100%)]] --> [[Negative (65%)]]\n",
      "\n",
      "[[Artificial]] melodrama with a screenplay [[adapted]] by Mel Dinelli [[from]] his [[play]] \"The Man\" concerns a boarding-house proprietress taking in a troubled handyman who may be homicidal. [[Despite]] solid [[work]] from Ida Lupino and Robert Ryan (both trying their best), [[this]] tedious yarn isn't very inventive within its one [[primary]] set (which [[quickly]] [[becomes]] visually [[dull]]) [[and]] underpopulated [[cast]] of [[characters]] (there is however a smart pooch who senses the worst!). Hokey [[and]] humorless, with a [[stilted]] [[direction]] from Harry Horner (perhaps Lupino should have directed?). Where's all the suspense promised by the [[ads]]? Dinelli also served as a co-producer. *1/2 from ****\n",
      "\n",
      "[[Synthetic]] melodrama with a screenplay [[wrap]] by Mel Dinelli [[under]] his [[games]] \"The Man\" concerns a boarding-house proprietress taking in a troubled handyman who may be homicidal. [[Although]] solid [[collaborative]] from Ida Lupino and Robert Ryan (both trying their best), [[these]] tedious yarn isn't very inventive within its one [[vital]] set (which [[readily]] [[is]] visually [[sombre]]) [[nor]] underpopulated [[melted]] of [[trait]] (there is however a smart pooch who senses the worst!). Hokey [[neither]] humorless, with a [[maudlin]] [[leadership]] from Harry Horner (perhaps Lupino should have directed?). Where's all the suspense promised by the [[ad]]? Dinelli also served as a co-producer. *1/2 from ****\n",
      "\n",
      "\n"
     ]
    },
    {
     "name": "stderr",
     "output_type": "stream",
     "text": [
      "\n",
      "[Succeeded / Failed / Skipped / Total] 34 / 0 / 5 / 39:  40%|████      | 40/100 [05:33<08:19,  8.33s/it]\u001B[A\n",
      "[Succeeded / Failed / Skipped / Total] 35 / 0 / 5 / 40:  40%|████      | 40/100 [05:33<08:20,  8.33s/it]\u001B[Atextattack: Saving checkpoint under \"checkpoints\\1682476350412.ta.chkpt\" at 2023-04-25 22:32:30 after 40 attacks.\n"
     ]
    },
    {
     "name": "stdout",
     "output_type": "stream",
     "text": [
      "--------------------------------------------- Result 40 ---------------------------------------------\n",
      "[[Negative (100%)]] --> [[Positive (99%)]]\n",
      "\n",
      "Wow, [[what]] an overrated movie this turned out to be! It was [[supposed]] to be \"an extremely suspenseful tale of a crazed killer holding a woman hostage and in terror in her home.\" Well, I doubt it terrorized audiences in the early '50s and I know it would put today's audiences asleep.<br /><br />\"Sends shivers down the spine,\" proclaims the New York Times. No, the only shivers I get is that anyone is left on the planet who believes anything the N.Y. Times prints about anything.<br /><br />Well, it was about a [[deranged]] man who held a woman hostage for a short time in her house but the man. \"Howard Wilton\" (Robert Ryan) was actually [[harmless]] and friendly. In fact, this was one of the nicest [[roles]] Ryan ever played! Yes, \"Wilton\" was nuts but he never harmed the woman and only wanted a friend to trust.<br /><br />The film even turned boring after awhile [[with]] very little going [[on]] [[except]] a [[lot]] [[of]] [[yakking]]. <br /><br />[[Beware]], my reader.....this [[sucks]].\n",
      "\n",
      "Wow, [[wher]] an overrated movie this turned out to be! It was [[shouldered]] to be \"an extremely suspenseful tale of a crazed killer holding a woman hostage and in terror in her home.\" Well, I doubt it terrorized audiences in the early '50s and I know it would put today's audiences asleep.<br /><br />\"Sends shivers down the spine,\" proclaims the New York Times. No, the only shivers I get is that anyone is left on the planet who believes anything the N.Y. Times prints about anything.<br /><br />Well, it was about a [[hinky]] man who held a woman hostage for a short time in her house but the man. \"Howard Wilton\" (Robert Ryan) was actually [[unarmed]] and friendly. In fact, this was one of the nicest [[rolle]] Ryan ever played! Yes, \"Wilton\" was nuts but he never harmed the woman and only wanted a friend to trust.<br /><br />The film even turned boring after awhile [[from]] very little going [[in]] [[if]] a [[shipments]] [[from]] [[gawking]]. <br /><br />[[Circumspect]], my reader.....this [[disturbs]].\n",
      "\n",
      "\n",
      "\n",
      "\n",
      "=============================================================================================================================\n",
      "=============================================================================================================================\n",
      "\n"
     ]
    },
    {
     "name": "stderr",
     "output_type": "stream",
     "text": [
      "\n",
      "[Succeeded / Failed / Skipped / Total] 35 / 0 / 5 / 40:  41%|████      | 41/100 [06:22<09:10,  9.34s/it]\u001B[A\n",
      "[Succeeded / Failed / Skipped / Total] 36 / 0 / 5 / 41:  41%|████      | 41/100 [06:22<09:10,  9.34s/it]\u001B[A"
     ]
    },
    {
     "name": "stdout",
     "output_type": "stream",
     "text": [
      "--------------------------------------------- Result 41 ---------------------------------------------\n",
      "[[Negative (100%)]] --> [[Negative (61%)]]\n",
      "\n",
      "[[I]] can't believe the [[high]] [[marks]] people have [[given]] this [[film]] [[on]] this site. The [[writing]] [[is]] incredibly bad with people coming [[in]] [[at]] just the [[right]] time [[and]] [[revealing]] [[exactly]] what the heroine [[is]] doing to [[try]] [[to]] [[escape]]. (Don't you [[just]] [[hate]] it [[when]] [[that]] [[happens]]?). [[And]] [[the]] acting is so [[very]], very bad that you [[may]] [[get]] a splinter [[in]] your [[eye]] [[from]] all the [[scenery]] [[being]] [[chewed]].<br /><br />A [[nut]] [[is]] [[holding]] [[her]] hostage, children [[are]] [[outside]] [[the]] [[open]] screen, [[so]] [[she]] [[whimpers]] [[for]] [[help]] [[instead]] of [[screaming]] [[when]] only [[a]] [[moment]] [[ago]] [[she]] [[was]] [[brave]] enough to be [[smashing]] windows to [[yell]] to [[these]] same children.<br /><br />She's finally free and [[alone]] [[in]] [[the]] house. [[Her]] [[chance]] to go [[for]] [[help]], [[so]] what [[does]] she [[do]]? [[Wanders]] [[around]] the house [[and]] lies down. She's [[in]] [[the]] [[basement]], [[locked]] [[away]]. [[So]] what [[does]] she [[do]]? Takes a little nap. Come [[on]]! Most [[of]] the movie [[is]] the nut [[wandering]] away [[and]] finding her sitting there [[snoozing]] when he wakes her up. Four [[times]]! What? [[If]] the [[writer]] [[is]] [[too]] [[bored]] to [[actually]] [[write]] a real [[plot]] why [[should]] [[we]] be paying attention? I [[think]] the [[key]] [[here]] [[is]] that it [[was]] [[originally]] a [[play]] [[for]] [[the]] [[radio]], so they [[filled]] [[in]] [[with]] the [[heroine]] [[just]] [[sitting]] [[around]] [[rather]] [[than]] pretending to be screen writers and actually writing any [[action]].<br /><br />And the [[ending]] is horrendous.<br /><br />The whole movie is [[completely]] [[implausible]], [[horribly]] [[written]] and almost [[comically]] [[acted]]. [[Beware]] [[this]] [[movie]] [[at]] all [[costs]]!\n",
      "\n",
      "[[me]] can't believe the [[upstairs]] [[commemorate]] people have [[been]] this [[movie]] [[throughout]] this site. The [[writer]] [[ai]] incredibly bad with people coming [[by]] [[from]] just the [[duly]] time [[et]] [[demonstrating]] [[very]] what the heroine [[got]] doing to [[tries]] [[around]] [[escapes]]. (Don't you [[barely]] [[disgust]] it [[whereby]] [[this]] [[enters]]?). [[Neither]] [[both]] acting is so [[far]], very bad that you [[might]] [[perceive]] a splinter [[of]] your [[look]] [[against]] all the [[scene]] [[lifelong]] [[tasted]].<br /><br />A [[walnut]] [[are]] [[organised]] [[him]] hostage, children [[ai]] [[outward]] [[both]] [[opened]] screen, [[if]] [[her]] [[grunting]] [[about]] [[contributing]] [[independently]] of [[howled]] [[once]] only [[another]] [[epoch]] [[anterior]] [[her]] [[brought]] [[bold]] enough to be [[tearing]] windows to [[cries]] to [[this]] same children.<br /><br />She's finally free and [[uniquely]] [[across]] [[both]] house. [[She]] [[chauncey]] to go [[throughout]] [[relief]], [[subsequently]] what [[va]] she [[ai]]? [[Awakes]] [[about]] the house [[neither]] lies down. She's [[en]] [[both]] [[downstairs]], [[trapped]] [[outer]]. [[Subsequently]] what [[ai]] she [[ai]]? Takes a little nap. Come [[in]]! Most [[with]] the movie [[ai]] the nut [[roam]] away [[nor]] finding her sitting there [[squirming]] when he wakes her up. Four [[occasions]]! What? [[After]] the [[write]] [[are]] [[rather]] [[annoying]] to [[broadly]] [[written]] a real [[parcels]] why [[wanna]] [[them]] be paying attention? I [[reckon]] the [[keys]] [[presently]] [[got]] that it [[gets]] [[early]] a [[games]] [[against]] [[both]] [[broadcaster]], so they [[complied]] [[about]] [[via]] the [[heroin]] [[strictly]] [[hearings]] [[on]] [[plenty]] [[since]] pretending to be screen writers and actually writing any [[deeds]].<br /><br />And the [[terminates]] is horrendous.<br /><br />The whole movie is [[heartily]] [[conceivable]], [[terrifically]] [[wrote]] and almost [[shamefully]] [[undertook]]. [[Prudence]] [[these]] [[scene]] [[in]] all [[prizes]]!\n",
      "\n",
      "\n"
     ]
    },
    {
     "name": "stderr",
     "output_type": "stream",
     "text": [
      "\n",
      "[Succeeded / Failed / Skipped / Total] 36 / 0 / 5 / 41:  42%|████▏     | 42/100 [06:23<08:50,  9.14s/it]\u001B[A\n",
      "[Succeeded / Failed / Skipped / Total] 37 / 0 / 5 / 42:  42%|████▏     | 42/100 [06:23<08:50,  9.14s/it]\u001B[A"
     ]
    },
    {
     "name": "stdout",
     "output_type": "stream",
     "text": [
      "--------------------------------------------- Result 42 ---------------------------------------------\n",
      "[[Negative (100%)]] --> [[Positive (82%)]]\n",
      "\n",
      "Widow hires a psychopath as a handyman. [[Sloppy]] [[film]] noir thriller which doesn't make much of its tension promising set-up. (3/10)\n",
      "\n",
      "Widow hires a psychopath as a handyman. [[Carefree]] [[filmmaking]] noir thriller which doesn't make much of its tension promising set-up. (3/10)\n",
      "\n",
      "\n"
     ]
    },
    {
     "name": "stderr",
     "output_type": "stream",
     "text": [
      "\n",
      "[Succeeded / Failed / Skipped / Total] 37 / 0 / 5 / 42:  43%|████▎     | 43/100 [06:28<08:35,  9.04s/it]\u001B[A\n",
      "[Succeeded / Failed / Skipped / Total] 38 / 0 / 5 / 43:  43%|████▎     | 43/100 [06:28<08:35,  9.04s/it]\u001B[A"
     ]
    },
    {
     "name": "stdout",
     "output_type": "stream",
     "text": [
      "--------------------------------------------- Result 43 ---------------------------------------------\n",
      "[[Negative (100%)]] --> [[Negative (55%)]]\n",
      "\n",
      "[[I]] have no idea how anyone can give this movie high marks. I didn't rent it thinking it was the next great horror flick, the next great horror spoof, or the next great low-budget horror spoof. Obviously, this isn't meant to scare, but one [[fatal]] flaw with the production entirely [[sapped]] the [[joy]] out of the [[viewing]] [[experience]]. The sound editing was horrible. I had to work the volume control the entire movie. You can imagine how difficult it is to get into something - even a low-budget spoof - when you're either turning the volume up or down, or trying to anticipate the next time you have to do so. The regular dialogue is very low, and all screams, noises, etc., are VERY loud. We're not talking about toggling between 5 and 7 on the volume control, finding a happy medium at 6. We're talking toggling between 2 and 9 on the volume where it is virtually impossible to leave the volume alone. Again, this movie [[might]] be a [[decent]] example of what it is meant to be, but you're going to be spending so much time adjusting your volume control that you'll [[never]] have the chance to [[enjoy]] it.\n",
      "\n",
      "[[me]] have no idea how anyone can give this movie high marks. I didn't rent it thinking it was the next great horror flick, the next great horror spoof, or the next great low-budget horror spoof. Obviously, this isn't meant to scare, but one [[cataclysmic]] flaw with the production entirely [[weathered]] the [[elation]] out of the [[visions]] [[experiencing]]. The sound editing was horrible. I had to work the volume control the entire movie. You can imagine how difficult it is to get into something - even a low-budget spoof - when you're either turning the volume up or down, or trying to anticipate the next time you have to do so. The regular dialogue is very low, and all screams, noises, etc., are VERY loud. We're not talking about toggling between 5 and 7 on the volume control, finding a happy medium at 6. We're talking toggling between 2 and 9 on the volume where it is virtually impossible to leave the volume alone. Again, this movie [[risque]] be a [[satisfying]] example of what it is meant to be, but you're going to be spending so much time adjusting your volume control that you'll [[forever]] have the chance to [[enjoys]] it.\n",
      "\n",
      "\n"
     ]
    },
    {
     "name": "stderr",
     "output_type": "stream",
     "text": [
      "\n",
      "[Succeeded / Failed / Skipped / Total] 38 / 0 / 5 / 43:  44%|████▍     | 44/100 [06:58<08:52,  9.50s/it]\u001B[A\n",
      "[Succeeded / Failed / Skipped / Total] 39 / 0 / 5 / 44:  44%|████▍     | 44/100 [06:58<08:52,  9.50s/it]\u001B[A"
     ]
    },
    {
     "name": "stdout",
     "output_type": "stream",
     "text": [
      "--------------------------------------------- Result 44 ---------------------------------------------\n",
      "[[Negative (100%)]] --> [[Negative (69%)]]\n",
      "\n",
      "[[Seeing]] the title [[of]] this movie \"Stupid Teenagers [[Must]] Die\" made me [[believe]] this was a spoof of some [[kind]]. I [[discovered]] later on the original title was \"[[Blood]] and Guts\". Both [[titles]] are misleading, though. [[This]] [[is]] [[not]] a [[spoof]], [[neither]] a [[serious]] [[splatter]] [[movie]]. This [[is]] [[something]] in [[between]], [[failing]] [[in]] both [[areas]]. A [[group]] of teenagers [[is]] [[attending]] a séance at a [[spooky]] house and [[then]] the [[killing]] [[starts]]. Sounds over familiar, doesn't it. Well, this movies [[adds]] [[nothing]] whatsoever to the endless stream [[of]] [[similar]] [[movies]]. And it [[is]] badly [[made]]. [[Because]] of the lack of [[light]] the entire film [[is]] grainy. [[Now]] this [[effect]] can be highly [[effective]], but it isn't [[in]] this case. The young cast isn't acting too [[badly]], but the [[director]] has [[no]] clue as what to do with actors. [[In]] [[numerous]] scenes the [[actors]] are clearly [[waiting]] for directions, but [[these]] are given [[too]] [[late]]. It could also be an editor's [[mistake]], [[of]] [[course]]. [[The]] [[characters]] [[are]] [[unrealistic]] [[and]] [[the]] [[story]] [[line]] [[just]] [[stinks]]. [[The]] [[sound]] [[is]] [[terrible]] [[at]] [[times]]: [[conversations]] [[are]] undecipherable, but [[when]] talking loudly or [[screaming]] [[the]] actors [[are]] [[very]] [[loud]] [[indeed]].<br /><br />[[This]] [[is]] [[not]] the worst horror movie [[I]] have ever [[seen]], but it still [[is]] a bad one. [[For]] me a 3 [[out]] [[of]] 10.\n",
      "\n",
      "[[Eyesight]] the title [[per]] this movie \"Stupid Teenagers [[Requirement]] Die\" made me [[viewing]] this was a spoof of some [[classification]]. I [[divulged]] later on the original title was \"[[Sang]] and Guts\". Both [[headlines]] are misleading, though. [[These]] [[consists]] [[ni]] a [[forgery]], [[and]] a [[grievous]] [[smearing]] [[scene]]. This [[involves]] [[becuase]] in [[among]], [[flaw]] [[via]] both [[districts]]. A [[panel]] of teenagers [[renders]] [[contributed]] a séance at a [[horror]] house and [[again]] the [[homicide]] [[cranking]]. Sounds over familiar, doesn't it. Well, this movies [[aggregate]] [[jamais]] whatsoever to the endless stream [[for]] [[synonymous]] [[movie]]. And it [[makes]] badly [[submitted]]. [[Since]] of the lack of [[luz]] the entire film [[posed]] grainy. [[Currently]] this [[afflict]] can be highly [[helpful]], but it isn't [[de]] this case. The young cast isn't acting too [[mistakenly]], but the [[headmaster]] has [[any]] clue as what to do with actors. [[At]] [[countless]] scenes the [[player]] are clearly [[wait]] for directions, but [[those]] are given [[alike]] [[departed]]. It could also be an editor's [[misdirected]], [[with]] [[classes]]. [[Both]] [[character]] [[comprise]] [[unimaginable]] [[both]] [[both]] [[annals]] [[harmony]] [[alone]] [[aromas]]. [[Both]] [[auditory]] [[does]] [[monstrous]] [[between]] [[deadline]]: [[discussing]] [[se]] undecipherable, but [[wherever]] talking loudly or [[cree]] [[both]] actors [[is]] [[tremendously]] [[energetic]] [[sincerely]].<br /><br />[[That]] [[consists]] [[absence]] the worst horror movie [[me]] have ever [[proved]], but it still [[does]] a bad one. [[Throughout]] me a 3 [[beyond]] [[among]] 10.\n",
      "\n",
      "\n"
     ]
    },
    {
     "name": "stderr",
     "output_type": "stream",
     "text": [
      "\n",
      "[Succeeded / Failed / Skipped / Total] 39 / 0 / 5 / 44:  45%|████▌     | 45/100 [07:08<08:43,  9.52s/it]\u001B[A\n",
      "[Succeeded / Failed / Skipped / Total] 40 / 0 / 5 / 45:  45%|████▌     | 45/100 [07:08<08:43,  9.52s/it]\u001B[Atextattack: Saving checkpoint under \"checkpoints\\1682476445608.ta.chkpt\" at 2023-04-25 22:34:05 after 45 attacks.\n"
     ]
    },
    {
     "name": "stdout",
     "output_type": "stream",
     "text": [
      "--------------------------------------------- Result 45 ---------------------------------------------\n",
      "[[Negative (100%)]] --> [[Negative (67%)]]\n",
      "\n",
      "Now I understand that this took two months to [[shoot]]. Really? I'm pretty certain my crew could do it in less than a week. This movie [[sucked]] so bad I couldn't even pay close attention. Just more proof that boob bearing women can't always save you [[from]] horrible writing, acting and direction. Now I understand it was a no budget endeavor, but there is also no continuity and no real reason to not to turn it off and [[watch]] infomercials or foreign news in a language you don't understand. Oh, there are a few decent looking females showing the goods. Still, there aren't enough [[sexy]] women alive to warrant [[watching]] this [[travesty]] perpetrated [[on]] the [[film]] [[industry]]. One of the longest 80 minutes [[of]] my [[life]]. I trooped it [[out]] [[though]] with the [[help]] of my [[old]] [[friend]] Jim Beam. Do [[yourself]] a [[favor]] [[and]] get your gun ready cuz you [[may]] want to use it [[after]] this hack job. [[Lastly]], the individual (moron) who left a comment before mine [[thought]] [[this]] was a [[great]] [[movie]] and [[LOVED]] it. Just more proof that siblings shouldn't pro-create. Ow, BURN!!! - Captain [[J]]\n",
      "\n",
      "Now I understand that this took two months to [[firing]]. Really? I'm pretty certain my crew could do it in less than a week. This movie [[hadnt]] so bad I couldn't even pay close attention. Just more proof that boob bearing women can't always save you [[during]] horrible writing, acting and direction. Now I understand it was a no budget endeavor, but there is also no continuity and no real reason to not to turn it off and [[oversees]] infomercials or foreign news in a language you don't understand. Oh, there are a few decent looking females showing the goods. Still, there aren't enough [[caliente]] women alive to warrant [[notes]] this [[banter]] perpetrated [[about]] the [[cinematographers]] [[trades]]. One of the longest 80 minutes [[al]] my [[inhabit]]. I trooped it [[outbound]] [[upon]] with the [[relief]] of my [[oldest]] [[homie]] Jim Beam. Do [[youself]] a [[favored]] [[neither]] get your gun ready cuz you [[conceivably]] want to use it [[since]] this hack job. [[Finally]], the individual (moron) who left a comment before mine [[knew]] [[that]] was a [[peachy]] [[movies]] and [[ESTEEMED]] it. Just more proof that siblings shouldn't pro-create. Ow, BURN!!! - Captain [[jie]]\n",
      "\n",
      "\n",
      "\n",
      "\n",
      "=============================================================================================================================\n",
      "=============================================================================================================================\n",
      "\n"
     ]
    },
    {
     "name": "stderr",
     "output_type": "stream",
     "text": [
      "\n",
      "[Succeeded / Failed / Skipped / Total] 40 / 0 / 5 / 45:  46%|████▌     | 46/100 [07:13<08:28,  9.43s/it]\u001B[A\n",
      "[Succeeded / Failed / Skipped / Total] 41 / 0 / 5 / 46:  46%|████▌     | 46/100 [07:13<08:29,  9.43s/it]\u001B[A\n",
      "[Succeeded / Failed / Skipped / Total] 41 / 0 / 6 / 47:  47%|████▋     | 47/100 [07:13<08:08,  9.23s/it]\u001B[A"
     ]
    },
    {
     "name": "stdout",
     "output_type": "stream",
     "text": [
      "--------------------------------------------- Result 46 ---------------------------------------------\n",
      "[[Negative (100%)]] --> [[Negative (67%)]]\n",
      "\n",
      "STMD! [[is]] [[not]] a terrible movie, but it IS quite [[forgettable]]. The lighting is intentionally poor in many scenes and unintentionally poor in all the rest, so you are likely to come out of a viewing with a headache or eye-strain. Special [[effects]] [[are]] imaginative, but obvious. The gratuitous nudity essential for teen slasher flicks is there, of course, along with the archetypical teenagers, but the whole movie just doesn't gel. What was [[needed]] [[was]] some snappier dialogue and more tongue-in-cheek humor.<br /><br />I can't really [[recommend]] that you use your time watching this movie. I often give a nod to a movie based on just a scene or two that demonstrates imagination or humor, but these [[are]] sadly lacking in this film.\n",
      "\n",
      "STMD! [[goes]] [[nothingness]] a terrible movie, but it IS quite [[paltry]]. The lighting is intentionally poor in many scenes and unintentionally poor in all the rest, so you are likely to come out of a viewing with a headache or eye-strain. Special [[influences]] [[stay]] imaginative, but obvious. The gratuitous nudity essential for teen slasher flicks is there, of course, along with the archetypical teenagers, but the whole movie just doesn't gel. What was [[must]] [[is]] some snappier dialogue and more tongue-in-cheek humor.<br /><br />I can't really [[advised]] that you use your time watching this movie. I often give a nod to a movie based on just a scene or two that demonstrates imagination or humor, but these [[be]] sadly lacking in this film.\n",
      "\n",
      "\n",
      "--------------------------------------------- Result 47 ---------------------------------------------\n",
      "[[Positive (100%)]] --> [[[SKIPPED]]]\n",
      "\n",
      "Okay, so it was never going to change the world, and it bombed at the box office, but Honky Tonk Freeway is one of those films I fell in love with as a child (the BBC showed it a few times during the 1980s and I happened to have a high quality VHS tape in the machine - lucky, that!) and watched endlessly. I watched the DVD last night and sadly, time has not been kind to this would-be blockbuster. Either that or I've just grown out of this kind of broad, dopey humour. Come on, when Schlesinger is so desperate for laughs he gives us close-ups of novelty underpants with 'amusing' slogans, what can you say about the cast or screenplay?<br /><br />Certainly, it's ambitious, interesting, unusual and sprawling, but it's never once laugh-out-loud funny. I'd describe it as a children's film with some 'adult' overtones - you can safely let your youngsters watch this, despite the 15 certificate. They won't get the drug references, so don't worry about it. I had a pleasant surprise when I realized I'd forgotten just how catchy both the title song and the song-writing truck driver's 'Everybody's Going Faster, Faster' song were, not to mention the town of Ticlaw's patriotic anthem. The whole cast give commendable performances, the photography is crisp and captures the mood of the various locations perfectly, and there's a real time capsule feeling about the fashions, the cars, the gadgets (especially the dashboard-mounted drum machine), the interiors and the pop-culture references - I was more than a little surprised to hear the nutty bum in the bank loudly telling everyone \"I'm OJ Simpson!\", particularly now Simpson's legal tangles have overshadowed his sporting achievements. The snag is, there's almost no plot to speak of, it's way too obvious to be witty and not funny enough to elicit many genuine laughs. I wish I'd left this one as a pleasant memory.\n",
      "\n",
      "\n"
     ]
    },
    {
     "name": "stderr",
     "output_type": "stream",
     "text": [
      "\n",
      "[Succeeded / Failed / Skipped / Total] 41 / 0 / 6 / 47:  48%|████▊     | 48/100 [07:15<07:51,  9.07s/it]\u001B[A\n",
      "[Succeeded / Failed / Skipped / Total] 42 / 0 / 6 / 48:  48%|████▊     | 48/100 [07:15<07:51,  9.07s/it]\u001B[A"
     ]
    },
    {
     "name": "stdout",
     "output_type": "stream",
     "text": [
      "--------------------------------------------- Result 48 ---------------------------------------------\n",
      "[[Negative (100%)]] --> [[Positive (100%)]]\n",
      "\n",
      "A sprawling, overambitious, plotless comedy [[that]] has [[no]] dramatic center. It was probably intended to have an epic vision and a surrealistic flair (at least in some episodes), but the separate stories are [[never]] elevated into a meaningful whole, and the [[laughs]] are [[few]] and far between. Amusing ending, though. (*1/2)\n",
      "\n",
      "A sprawling, overambitious, plotless comedy [[which]] has [[any]] dramatic center. It was probably intended to have an epic vision and a surrealistic flair (at least in some episodes), but the separate stories are [[nicht]] elevated into a meaningful whole, and the [[smile]] are [[rare]] and far between. Amusing ending, though. (*1/2)\n",
      "\n",
      "\n"
     ]
    },
    {
     "name": "stderr",
     "output_type": "stream",
     "text": [
      "\n",
      "[Succeeded / Failed / Skipped / Total] 43 / 0 / 6 / 49:  49%|████▉     | 49/100 [07:23<07:41,  9.06s/it]\u001B[A"
     ]
    },
    {
     "name": "stdout",
     "output_type": "stream",
     "text": [
      "--------------------------------------------- Result 49 ---------------------------------------------\n",
      "[[Negative (100%)]] --> [[Negative (62%)]]\n",
      "\n",
      "No, no, no, no, no, no, NO! This is [[not]] a film, this is an excuse to show people dancing. This is [[just]] [[not]] good. Even the dancing is slow and not half as [[entertaining]] as the mediocre 'Dirty Dancing', let alone any other good [[dance]] [[movie]].<br /><br />[[Is]] it a love [[story]]? Is it a musical? Is it a drama? Is it a [[comedy]]? It's [[not]] that this movie is a bit of all, it's that this movie [[fails]] at [[everything]] it attempts to be. The film [[turns]] out to be even [[more]] meaningless as the film progresses.<br /><br />[[Acting]] [[is]] terrible from all sides, the [[screenplay]] is definitely trying to tell us something about relationship but fails miserably.<br /><br />WATCH [[FOR]] THE [[MOMENT]] - When Patrick Stewart enters the scene and you think the film might get better [[as]] he brightens up the dull atmosphere. For a second.\n",
      "\n",
      "No, no, no, no, no, no, NO! This is [[nah]] a film, this is an excuse to show people dancing. This is [[simply]] [[nie]] good. Even the dancing is slow and not half as [[laughing]] as the mediocre 'Dirty Dancing', let alone any other good [[dancing]] [[theatres]].<br /><br />[[Becoming]] it a love [[tales]]? Is it a musical? Is it a drama? Is it a [[giggle]]? It's [[never]] that this movie is a bit of all, it's that this movie [[omitted]] at [[eveyone]] it attempts to be. The film [[turn]] out to be even [[longer]] meaningless as the film progresses.<br /><br />[[Provisional]] [[assumes]] terrible from all sides, the [[screenplays]] is definitely trying to tell us something about relationship but fails miserably.<br /><br />WATCH [[ABOUT]] THE [[TEMPS]] - When Patrick Stewart enters the scene and you think the film might get better [[since]] he brightens up the dull atmosphere. For a second.\n",
      "\n",
      "\n"
     ]
    },
    {
     "name": "stderr",
     "output_type": "stream",
     "text": [
      "\n",
      "[Succeeded / Failed / Skipped / Total] 43 / 0 / 6 / 49:  50%|█████     | 50/100 [07:24<07:24,  8.89s/it]\u001B[A\n",
      "[Succeeded / Failed / Skipped / Total] 44 / 0 / 6 / 50:  50%|█████     | 50/100 [07:24<07:24,  8.89s/it]\u001B[Atextattack: Saving checkpoint under \"checkpoints\\1682476461605.ta.chkpt\" at 2023-04-25 22:34:21 after 50 attacks.\n"
     ]
    },
    {
     "name": "stdout",
     "output_type": "stream",
     "text": [
      "--------------------------------------------- Result 50 ---------------------------------------------\n",
      "[[Negative (100%)]] --> [[Positive (100%)]]\n",
      "\n",
      "I found this movie really hard to sit through, my attention kept wandering off the tv. As far as romantic movies go..this one is the [[worst]] I've seen. Don't [[bother]] with it.\n",
      "\n",
      "I found this movie really hard to sit through, my attention kept wandering off the tv. As far as romantic movies go..this one is the [[strongest]] I've seen. Don't [[interfere]] with it.\n",
      "\n",
      "\n",
      "\n",
      "\n",
      "=============================================================================================================================\n",
      "=============================================================================================================================\n",
      "\n"
     ]
    },
    {
     "name": "stderr",
     "output_type": "stream",
     "text": [
      "\n",
      "[Succeeded / Failed / Skipped / Total] 45 / 0 / 6 / 51:  51%|█████     | 51/100 [07:36<07:18,  8.94s/it]\u001B[A\n",
      "[Succeeded / Failed / Skipped / Total] 45 / 0 / 6 / 51:  52%|█████▏    | 52/100 [07:36<07:01,  8.77s/it]\u001B[A\n",
      "[Succeeded / Failed / Skipped / Total] 45 / 0 / 7 / 52:  52%|█████▏    | 52/100 [07:36<07:01,  8.77s/it]\u001B[A"
     ]
    },
    {
     "name": "stdout",
     "output_type": "stream",
     "text": [
      "--------------------------------------------- Result 51 ---------------------------------------------\n",
      "[[Negative (100%)]] --> [[Negative (66%)]]\n",
      "\n",
      "OK, so my summary line is a cheap trick. But the movie is full of them and it gets [[absurdly]] praised, so...<br /><br />I caught this one on TV (uncut, as TV here shows all movies, that's for you Americans who might say I didn't like it because I saw a cut TV version - fortunately that's only an US thing), and had no idea about what it was. I switched on, caught the last minutes of a show, and the movie began. Within a minute, I was begging it was a comedy, given the particularly ridiculous clichéd beginning (yes, it's a bad movie-within-the-movie, I know, but what a way to try to keep the viewer interested! I don't even know why I didn't switch channels). And, yes, in fact the movie turned out to be a comedy, albeit an unintentional one.<br /><br />Marina Zudina is pretty enough, but gosh, what a [[dreadful]] [[performance]]! While casting a foreigner in the role is smart enough (she doesn't talk so bye bye language barrier), yet, sorry, Marina baby, playing mute doesn't mean impersonating Harpo Marx. Her acting is [[unintentionally]] funny in many moments, just look at her when she draws an X in the air while stalked by the killer. He wants to kill you, it's no time to play Zorro. We get plenty of \"running upstairs\" stuff passing for tension, as in the worst slashers, and things like pulling a carpet and a bad guy shots the other. Ugh! Will Hollywood ever learn? Yet the best/worst pearl is having a guy electrocuted in a bathtub and... Well, I have never seen anyone being electrocuted to death in a bathtub, but I'm sure you can't see the blue cartoon rays in real life, do you? And how about immediately trusting a mean-looking guy because he SAYS he's a cop, and not asking him to show you his credentials? OK, so he turns out to be a real cop. But still, not asking for the badge [[makes]] [[no]] [[sense]] (plot-wise, we could always think the credentials might be phony or he might be a crooked cop. Screen writing 101). And how about the big twist? Don't tell me you didn't see that coming from 200 miles away...<br /><br />I feel sorry for poor old Alec Guinness and his useless stock footage cameo. Now I think about this, what's the point in giving him a \"Mystery Guest Star\" credit... in the END titles? The movie's over, there's no mystery anymore, and everybody and their brother have identified Guinness (even non-movie buffs will recognize \"the old guy from 'Star Wars'\"). Yet better off this way, so we can pretend it's not the late great actor.<br /><br />People keep comparing this to, of all people, Hitchcock. I suppose it has to be John Hitchcock the milkman, as the late Sir Alfred would feel embarrassed out of watching this, let alone making it. And this gets a 6.8/10???? It's Bottom 100 material! But then, we're talking a rating system that allows 'The Lord of the Rings: The Return of the King' to appear as the third best movie ever made (check Top 100), so...<br /><br />2/10.\n",
      "\n",
      "OK, so my summary line is a cheap trick. But the movie is full of them and it gets [[terrifyingly]] praised, so...<br /><br />I caught this one on TV (uncut, as TV here shows all movies, that's for you Americans who might say I didn't like it because I saw a cut TV version - fortunately that's only an US thing), and had no idea about what it was. I switched on, caught the last minutes of a show, and the movie began. Within a minute, I was begging it was a comedy, given the particularly ridiculous clichéd beginning (yes, it's a bad movie-within-the-movie, I know, but what a way to try to keep the viewer interested! I don't even know why I didn't switch channels). And, yes, in fact the movie turned out to be a comedy, albeit an unintentional one.<br /><br />Marina Zudina is pretty enough, but gosh, what a [[terrifying]] [[delivery]]! While casting a foreigner in the role is smart enough (she doesn't talk so bye bye language barrier), yet, sorry, Marina baby, playing mute doesn't mean impersonating Harpo Marx. Her acting is [[unknowingly]] funny in many moments, just look at her when she draws an X in the air while stalked by the killer. He wants to kill you, it's no time to play Zorro. We get plenty of \"running upstairs\" stuff passing for tension, as in the worst slashers, and things like pulling a carpet and a bad guy shots the other. Ugh! Will Hollywood ever learn? Yet the best/worst pearl is having a guy electrocuted in a bathtub and... Well, I have never seen anyone being electrocuted to death in a bathtub, but I'm sure you can't see the blue cartoon rays in real life, do you? And how about immediately trusting a mean-looking guy because he SAYS he's a cop, and not asking him to show you his credentials? OK, so he turns out to be a real cop. But still, not asking for the badge [[brings]] [[either]] [[feel]] (plot-wise, we could always think the credentials might be phony or he might be a crooked cop. Screen writing 101). And how about the big twist? Don't tell me you didn't see that coming from 200 miles away...<br /><br />I feel sorry for poor old Alec Guinness and his useless stock footage cameo. Now I think about this, what's the point in giving him a \"Mystery Guest Star\" credit... in the END titles? The movie's over, there's no mystery anymore, and everybody and their brother have identified Guinness (even non-movie buffs will recognize \"the old guy from 'Star Wars'\"). Yet better off this way, so we can pretend it's not the late great actor.<br /><br />People keep comparing this to, of all people, Hitchcock. I suppose it has to be John Hitchcock the milkman, as the late Sir Alfred would feel embarrassed out of watching this, let alone making it. And this gets a 6.8/10???? It's Bottom 100 material! But then, we're talking a rating system that allows 'The Lord of the Rings: The Return of the King' to appear as the third best movie ever made (check Top 100), so...<br /><br />2/10.\n",
      "\n",
      "\n",
      "--------------------------------------------- Result 52 ---------------------------------------------\n",
      "[[Positive (93%)]] --> [[[SKIPPED]]]\n",
      "\n",
      "An obscure horror show filmed in the Everglades. Two couples stay overnight in a cabin after being made a little uneasy by the unfriendliness of the locals. Who, or what, are the Blood Stalkers? After awhile they find out. Watch for the character of the village idiot who clucks like a chicken, he certainly is weird.\n",
      "\n",
      "\n"
     ]
    },
    {
     "name": "stderr",
     "output_type": "stream",
     "text": [
      "\n",
      "[Succeeded / Failed / Skipped / Total] 45 / 0 / 7 / 52:  53%|█████▎    | 53/100 [07:40<06:48,  8.69s/it]\u001B[A\n",
      "[Succeeded / Failed / Skipped / Total] 46 / 0 / 7 / 53:  53%|█████▎    | 53/100 [07:40<06:48,  8.69s/it]\u001B[A"
     ]
    },
    {
     "name": "stdout",
     "output_type": "stream",
     "text": [
      "--------------------------------------------- Result 53 ---------------------------------------------\n",
      "[[Negative (100%)]] --> [[Negative (55%)]]\n",
      "\n",
      "This film is about a couple that decides to take a vacation to The Everglades along with another couple and the family dog. When they first get there, they are not welcomed by the neighboring gas attendant that warms them to stay away from the cabin in which they are to spend the night at for the week. After pestering with the old man, three hillbillys also do not take kindly to their arrival as they approach their car and threaten them to leave. After asking some of the local dummies that can't speak or just don't want to answer, they finaly find the cabin. After they settle in, strange things happen to the visitors including discovering crap on their car, the man thats the head of this trip thats an idiot shoots the family dog thinking it was a killer clawing at the door and a series of deaths later on in the end. [[Adding]] a church group [[did]] [[not]] make the [[story]] any [[better]]. Then at the end, the idiot that survives the whole ordeal goes around the town carrying a shot gun. [[Lame]]. thats what this [[movie]] is.\n",
      "\n",
      "This film is about a couple that decides to take a vacation to The Everglades along with another couple and the family dog. When they first get there, they are not welcomed by the neighboring gas attendant that warms them to stay away from the cabin in which they are to spend the night at for the week. After pestering with the old man, three hillbillys also do not take kindly to their arrival as they approach their car and threaten them to leave. After asking some of the local dummies that can't speak or just don't want to answer, they finaly find the cabin. After they settle in, strange things happen to the visitors including discovering crap on their car, the man thats the head of this trip thats an idiot shoots the family dog thinking it was a killer clawing at the door and a series of deaths later on in the end. [[Extra]] a church group [[gotten]] [[nicht]] make the [[histories]] any [[greater]]. Then at the end, the idiot that survives the whole ordeal goes around the town carrying a shot gun. [[None]]. thats what this [[flick]] is.\n",
      "\n",
      "\n"
     ]
    },
    {
     "name": "stderr",
     "output_type": "stream",
     "text": [
      "\n",
      "[Succeeded / Failed / Skipped / Total] 46 / 0 / 7 / 53:  54%|█████▍    | 54/100 [07:42<06:33,  8.56s/it]\u001B[A\n",
      "[Succeeded / Failed / Skipped / Total] 47 / 0 / 7 / 54:  54%|█████▍    | 54/100 [07:42<06:33,  8.56s/it]\u001B[A"
     ]
    },
    {
     "name": "stdout",
     "output_type": "stream",
     "text": [
      "--------------------------------------------- Result 54 ---------------------------------------------\n",
      "[[Negative (100%)]] --> [[Positive (88%)]]\n",
      "\n",
      "Talented screenwriter Alvin Sargent sadly cannot get any engaging ideas cooking in [[this]] artificial trifle about a wayward mother and her mature teenage daughter trying to make their lives work in Los Angeles despite mom's flighty behavior. Apart from several good sequences, I didn't quite buy Susan Sarandon as a flake (she's too intrinsically smart and focused to be passed off as this devil-may-care lady), and her naturally grounded personality is a [[bad]] fit for the role of an irresponsible parent. Natalie Portman fares much better as her kid, and yet there's a creepy aloofness to her work (and some of her scenes, such as the one where she asks a boy to strip, are misguided and uncomfortable to watch). Certainly not an incompetent piece, \"Anywhere But Here\" does have moments that work, but it isn't an embraceable film, nor has it proved to be an important one. ** from ****\n",
      "\n",
      "Talented screenwriter Alvin Sargent sadly cannot get any engaging ideas cooking in [[that]] artificial trifle about a wayward mother and her mature teenage daughter trying to make their lives work in Los Angeles despite mom's flighty behavior. Apart from several good sequences, I didn't quite buy Susan Sarandon as a flake (she's too intrinsically smart and focused to be passed off as this devil-may-care lady), and her naturally grounded personality is a [[wicked]] fit for the role of an irresponsible parent. Natalie Portman fares much better as her kid, and yet there's a creepy aloofness to her work (and some of her scenes, such as the one where she asks a boy to strip, are misguided and uncomfortable to watch). Certainly not an incompetent piece, \"Anywhere But Here\" does have moments that work, but it isn't an embraceable film, nor has it proved to be an important one. ** from ****\n",
      "\n",
      "\n"
     ]
    },
    {
     "name": "stderr",
     "output_type": "stream",
     "text": [
      "\n",
      "[Succeeded / Failed / Skipped / Total] 47 / 0 / 7 / 54:  55%|█████▌    | 55/100 [07:48<06:23,  8.53s/it]\u001B[A\n",
      "[Succeeded / Failed / Skipped / Total] 48 / 0 / 7 / 55:  55%|█████▌    | 55/100 [07:48<06:23,  8.53s/it]\u001B[Atextattack: Saving checkpoint under \"checkpoints\\1682476486021.ta.chkpt\" at 2023-04-25 22:34:46 after 55 attacks.\n"
     ]
    },
    {
     "name": "stdout",
     "output_type": "stream",
     "text": [
      "--------------------------------------------- Result 55 ---------------------------------------------\n",
      "[[Negative (100%)]] --> [[Negative (55%)]]\n",
      "\n",
      "An Italian/American co-production co-starring Linda Blair and David 'The Hoff' Hasselhoff: how could any fan of trashy horror resist such a treat?<br /><br />Well, based on the uneventful, extremely [[tedious]], and utterly nonsensical first forty minutes or so, I would have said 'very easily'; thankfully, however, [[things]] do eventually get a [[tad]] more entertaining with the introduction of several inventive death scenes, and for those lucky enough to find an uncut copy, a smattering of nudity too (unfortunately, my copy was optically edited to remove such offensive material).<br /><br />The Hoff stars as Gary, a photographer who accompanies his beautiful girlfriend Leslie (Leslie Cumming) to a run-down hotel on a seemingly deserted island in order to take pictures for her latest project, a book about witches; whilst there, frustrated Gary also hopes to try and cure a bad case of blue balls by relieving Leslie of her virginity.<br /><br />His plans for nookie are scuppered, however, by the unexpected arrival of property developers Freddie and Rose Brooks (Robert Champagne and Annie Ross), their pregnant daughter Jane (Blair), son Tommy (Michael Manchester), pretty nymphomaniac architect Linda Sullivan (Catherine Hickland), and estate agent Jerry (Rick Farnsworth), who have come to inspect the island's hotel.<br /><br />After explaining their unexpected presence on the island, Gary and Leslie are welcomed by the property's new owners, and when a violent storm suddenly picks up, making it perilous to return to the mainland, everyone agrees to spend the night in the old building. Unfortunately, unbeknownst to the hotel's new guests, the place is also home to the spirit of an evil witch (Hildegard Knef), who requires human sacrifices in order to bring herself back to life. One by one, victims are pulled into a swirling red vortex (which is guaranteed to provide unintentional laughs), before meeting a terrible fate.<br /><br />[[None]] of this makes much sense, and the [[acting]] is [[atrocious]] (Manchester as Tommy is particularly bad, whilst [[Hasselhoff]] proves to be one of the better performers, which speaks volumes about the others), but those viewers who make it past the dreary first half are rewarded with some pretty decent moments of gore: Rose has her lips sewn together, before being roasted alive in a fireplace; Jerry is crucified and burnt alive; Linda is tortured by hags and impaled on a swordfish(!!); Freddie's veins pulsate and erupt in geysers of blood; and Gary gets stabbed in the back.<br /><br />Oh, and Leslie is raped by a guy with no lips and Blair gets possessed (again).\n",
      "\n",
      "An Italian/American co-production co-starring Linda Blair and David 'The Hoff' Hasselhoff: how could any fan of trashy horror resist such a treat?<br /><br />Well, based on the uneventful, extremely [[tricky]], and utterly nonsensical first forty minutes or so, I would have said 'very easily'; thankfully, however, [[issue]] do eventually get a [[kiddo]] more entertaining with the introduction of several inventive death scenes, and for those lucky enough to find an uncut copy, a smattering of nudity too (unfortunately, my copy was optically edited to remove such offensive material).<br /><br />The Hoff stars as Gary, a photographer who accompanies his beautiful girlfriend Leslie (Leslie Cumming) to a run-down hotel on a seemingly deserted island in order to take pictures for her latest project, a book about witches; whilst there, frustrated Gary also hopes to try and cure a bad case of blue balls by relieving Leslie of her virginity.<br /><br />His plans for nookie are scuppered, however, by the unexpected arrival of property developers Freddie and Rose Brooks (Robert Champagne and Annie Ross), their pregnant daughter Jane (Blair), son Tommy (Michael Manchester), pretty nymphomaniac architect Linda Sullivan (Catherine Hickland), and estate agent Jerry (Rick Farnsworth), who have come to inspect the island's hotel.<br /><br />After explaining their unexpected presence on the island, Gary and Leslie are welcomed by the property's new owners, and when a violent storm suddenly picks up, making it perilous to return to the mainland, everyone agrees to spend the night in the old building. Unfortunately, unbeknownst to the hotel's new guests, the place is also home to the spirit of an evil witch (Hildegard Knef), who requires human sacrifices in order to bring herself back to life. One by one, victims are pulled into a swirling red vortex (which is guaranteed to provide unintentional laughs), before meeting a terrible fate.<br /><br />[[Nile]] of this makes much sense, and the [[behaving]] is [[infamous]] (Manchester as Tommy is particularly bad, whilst [[Baywatch]] proves to be one of the better performers, which speaks volumes about the others), but those viewers who make it past the dreary first half are rewarded with some pretty decent moments of gore: Rose has her lips sewn together, before being roasted alive in a fireplace; Jerry is crucified and burnt alive; Linda is tortured by hags and impaled on a swordfish(!!); Freddie's veins pulsate and erupt in geysers of blood; and Gary gets stabbed in the back.<br /><br />Oh, and Leslie is raped by a guy with no lips and Blair gets possessed (again).\n",
      "\n",
      "\n",
      "\n",
      "\n",
      "=============================================================================================================================\n",
      "=============================================================================================================================\n",
      "\n"
     ]
    },
    {
     "name": "stderr",
     "output_type": "stream",
     "text": [
      "\n",
      "[Succeeded / Failed / Skipped / Total] 48 / 0 / 7 / 55:  56%|█████▌    | 56/100 [07:55<06:13,  8.49s/it]\u001B[A\n",
      "[Succeeded / Failed / Skipped / Total] 49 / 0 / 7 / 56:  56%|█████▌    | 56/100 [07:55<06:13,  8.49s/it]\u001B[A"
     ]
    },
    {
     "name": "stdout",
     "output_type": "stream",
     "text": [
      "--------------------------------------------- Result 56 ---------------------------------------------\n",
      "[[Negative (100%)]] --> [[Negative (69%)]]\n",
      "\n",
      "Oh my... bad clothing, worse synth music and the worst: David Hasselhoff. The 80's are back with vengeance in Witchery, an American-Italian co-production, helmed by infamous Joe 'D'Amato on the production side and short-careered director (thank heavens for small miracles) Fabrizio Laurenti directing . Marketed as a kind of sequel to Sam Raimi's Evil Dead series in Italy (that was dubbed \"La Casa\" in there), Witchery delivers some modest gore groceries and bad acting.<br /><br />A mix of ghost story, possessions and witchcraft, the film bounces clueless from scene to another without letting some seriously wooden actors and hilarious day and night mix-ups slow it's progress to expectable ending, topped with some serious WTF surprise climax. (I just love the look on her face...) Surprisingly Laurenti manages to gather some suspense and air of malice in few - very few - scenes; unluckily for him, these few glimpses of mild movie magic go down quickly and effectively.<br /><br />The plus sides are experienced, when the gore hits the fan. This department is quite effective and entertaining [[in]] that classic latex and red paint style of the 80's Italo-gore, when things were made 100% hand-made and as shockingly and vivid as modest budgets could allow. I could only watch with [[sadistic]] glee and few laughters all the over-the-top ways that [[obnoxious]] characters (and actors) got mangled and misused, one by one. I only felt sorry for Linda Blair, who apparently haven't been let to try any other than that good old possessed girl / woman role ever in his career, or so it looks like when checking out his filmography.<br /><br />Well, folks - not much more to tell, and even less to tell home about. Don't expect too much when spending some rainy afternoon [[with]] [[this]], and probably you'll experience at least some mild fun. It also helps [[if]] your rotten little heart pounds in the beat of 80's euro gore horror. And speaking of hearts - every movie that has David [[Hasselhoff]] getting skewered by a sizeable metal object and bleeding heavily around the room and [[corridors]], MUST have it's one on the right place.<br /><br />This is my truth - what is yours?\n",
      "\n",
      "Oh my... bad clothing, worse synth music and the worst: David Hasselhoff. The 80's are back with vengeance in Witchery, an American-Italian co-production, helmed by infamous Joe 'D'Amato on the production side and short-careered director (thank heavens for small miracles) Fabrizio Laurenti directing . Marketed as a kind of sequel to Sam Raimi's Evil Dead series in Italy (that was dubbed \"La Casa\" in there), Witchery delivers some modest gore groceries and bad acting.<br /><br />A mix of ghost story, possessions and witchcraft, the film bounces clueless from scene to another without letting some seriously wooden actors and hilarious day and night mix-ups slow it's progress to expectable ending, topped with some serious WTF surprise climax. (I just love the look on her face...) Surprisingly Laurenti manages to gather some suspense and air of malice in few - very few - scenes; unluckily for him, these few glimpses of mild movie magic go down quickly and effectively.<br /><br />The plus sides are experienced, when the gore hits the fan. This department is quite effective and entertaining [[about]] that classic latex and red paint style of the 80's Italo-gore, when things were made 100% hand-made and as shockingly and vivid as modest budgets could allow. I could only watch with [[bestial]] glee and few laughters all the over-the-top ways that [[infamous]] characters (and actors) got mangled and misused, one by one. I only felt sorry for Linda Blair, who apparently haven't been let to try any other than that good old possessed girl / woman role ever in his career, or so it looks like when checking out his filmography.<br /><br />Well, folks - not much more to tell, and even less to tell home about. Don't expect too much when spending some rainy afternoon [[in]] [[that]], and probably you'll experience at least some mild fun. It also helps [[despite]] your rotten little heart pounds in the beat of 80's euro gore horror. And speaking of hearts - every movie that has David [[Baywatch]] getting skewered by a sizeable metal object and bleeding heavily around the room and [[pathways]], MUST have it's one on the right place.<br /><br />This is my truth - what is yours?\n",
      "\n",
      "\n"
     ]
    },
    {
     "name": "stderr",
     "output_type": "stream",
     "text": [
      "\n",
      "[Succeeded / Failed / Skipped / Total] 49 / 0 / 7 / 56:  57%|█████▋    | 57/100 [08:03<06:04,  8.48s/it]\u001B[A\n",
      "[Succeeded / Failed / Skipped / Total] 50 / 0 / 7 / 57:  57%|█████▋    | 57/100 [08:03<06:04,  8.48s/it]\u001B[A"
     ]
    },
    {
     "name": "stdout",
     "output_type": "stream",
     "text": [
      "--------------------------------------------- Result 57 ---------------------------------------------\n",
      "[[Negative (100%)]] --> [[Negative (62%)]]\n",
      "\n",
      "There are many different versions of this one floating around, so make sure you can locate one of the unrated copies, otherwise some gore and one scene of nudity might be missing. Some versions also omit most of the opening sequence and other bits here and there. The cut I saw has the on-screen title WITCHCRAFT: EVIL ENCOUNTERS and was released by Shriek Show, who maintain the original US release title WITCHERY for the DVD release. It's a nice-looking print and seems to have all of the footage, but has some cropping/aspect ratio issues. In Italy, it was released as LA CASA 4 (WITCHCRAFT). The first two LA CASA releases were actually the first two EVIL DEAD films (retitled) and the third LA CASA was another film by the same production company (Filmirage), which is best known here in America as GHOSTHOUSE. To make matters even more confusing, WITCHERY was also released elsewhere as GHOSTHOUSE 2. Except in Germany, where GHOSTHOUSE 2 is actually THE OGRE: DEMONS 3. OK, I better just shut up now. I'm starting to confuse myself!<br /><br />Regardless of the title, this is a very hit-or-miss horror effort. Some of it is good, some of it isn't. I actually was into this film for the first half or so, but toward the end it became a senseless [[mess]]. A large, vacant hotel located on an island about 50 miles from Boston is the setting, as various people get picked off one-by-one by a German- speaking witch (Hildegard Knef). Photographer Gary (David Hasselhoff), who wants to capture \"Witch Light,\" and his virginal writer girlfriend (Leslie Cumming), who is studying witchcraft, are shacking up at the hotel without permission. Along comes real estate agent Jerry (Rick Farnsworth), who's showing off the property to potential buyers Rose (Annie Ross) and Freddie (Robert Champagne) Brooks. Also tagging along are their children; pregnant grown daughter Jane (Linda Blair) and very young son Tommy (Michael Manchester), as well as oversexed architect Linda Sullivan (Catherine Hickland - Hasselhoff's wife at the time). Once everyone is inside, their boat driver is killed (hung) and the boat disappears, so they find themselves trapped and basically at the mercy of the \"Lady in Black.\"<br /><br />So what can you expect to find here? Plenty of unpleasantries! One of the characters has their lips sewn shut and is then hung upside down in the fireplace and accidentally slow-roasted by the rest of the cast. There's also a crucifixion, witches eating a dead baby, a swordfish through the head, someone set on fire, a possession, a Sesame Street tape recorder, the virgin getting raped by some demon, a guys veins bulging and exploding thanks to voodoo doll pokes and some other stuff. From a technical standpoint, it's a nice-looking film with pretty good cinematography, a decent score and good gore effects. The hotel/island setting is also pretty nice. Blair (particularly at the end) and Ross both seem like they're having fun and Knef is great as the evil witch. Even though people like to ridicule Hasselhoff these days, he's not bad in his role, either.<br /><br />On the down side, despite all the gore, the film seems somewhat dull and it gets monotonous after about an hour. The supernatural themes are muddled and confusing, too. When characters are being swept into the witches lair to be tortured and killed, the filmmakers unwisely decided to superimpose the screaming actors over some silly looking red spiral vortex effect that looks supremely cheesy. And the witch lair itself is vacant and cheaply designed with unfinished lumber. And while most of the cast is at least decent, a few of the performances (particularly the \"actress\" who plays Hasselhoff's girlfriend and the kid) are so bad they're constantly distracting.\n",
      "\n",
      "There are many different versions of this one floating around, so make sure you can locate one of the unrated copies, otherwise some gore and one scene of nudity might be missing. Some versions also omit most of the opening sequence and other bits here and there. The cut I saw has the on-screen title WITCHCRAFT: EVIL ENCOUNTERS and was released by Shriek Show, who maintain the original US release title WITCHERY for the DVD release. It's a nice-looking print and seems to have all of the footage, but has some cropping/aspect ratio issues. In Italy, it was released as LA CASA 4 (WITCHCRAFT). The first two LA CASA releases were actually the first two EVIL DEAD films (retitled) and the third LA CASA was another film by the same production company (Filmirage), which is best known here in America as GHOSTHOUSE. To make matters even more confusing, WITCHERY was also released elsewhere as GHOSTHOUSE 2. Except in Germany, where GHOSTHOUSE 2 is actually THE OGRE: DEMONS 3. OK, I better just shut up now. I'm starting to confuse myself!<br /><br />Regardless of the title, this is a very hit-or-miss horror effort. Some of it is good, some of it isn't. I actually was into this film for the first half or so, but toward the end it became a senseless [[confounding]]. A large, vacant hotel located on an island about 50 miles from Boston is the setting, as various people get picked off one-by-one by a German- speaking witch (Hildegard Knef). Photographer Gary (David Hasselhoff), who wants to capture \"Witch Light,\" and his virginal writer girlfriend (Leslie Cumming), who is studying witchcraft, are shacking up at the hotel without permission. Along comes real estate agent Jerry (Rick Farnsworth), who's showing off the property to potential buyers Rose (Annie Ross) and Freddie (Robert Champagne) Brooks. Also tagging along are their children; pregnant grown daughter Jane (Linda Blair) and very young son Tommy (Michael Manchester), as well as oversexed architect Linda Sullivan (Catherine Hickland - Hasselhoff's wife at the time). Once everyone is inside, their boat driver is killed (hung) and the boat disappears, so they find themselves trapped and basically at the mercy of the \"Lady in Black.\"<br /><br />So what can you expect to find here? Plenty of unpleasantries! One of the characters has their lips sewn shut and is then hung upside down in the fireplace and accidentally slow-roasted by the rest of the cast. There's also a crucifixion, witches eating a dead baby, a swordfish through the head, someone set on fire, a possession, a Sesame Street tape recorder, the virgin getting raped by some demon, a guys veins bulging and exploding thanks to voodoo doll pokes and some other stuff. From a technical standpoint, it's a nice-looking film with pretty good cinematography, a decent score and good gore effects. The hotel/island setting is also pretty nice. Blair (particularly at the end) and Ross both seem like they're having fun and Knef is great as the evil witch. Even though people like to ridicule Hasselhoff these days, he's not bad in his role, either.<br /><br />On the down side, despite all the gore, the film seems somewhat dull and it gets monotonous after about an hour. The supernatural themes are muddled and confusing, too. When characters are being swept into the witches lair to be tortured and killed, the filmmakers unwisely decided to superimpose the screaming actors over some silly looking red spiral vortex effect that looks supremely cheesy. And the witch lair itself is vacant and cheaply designed with unfinished lumber. And while most of the cast is at least decent, a few of the performances (particularly the \"actress\" who plays Hasselhoff's girlfriend and the kid) are so bad they're constantly distracting.\n",
      "\n",
      "\n"
     ]
    },
    {
     "name": "stderr",
     "output_type": "stream",
     "text": [
      "\n",
      "[Succeeded / Failed / Skipped / Total] 50 / 0 / 7 / 57:  58%|█████▊    | 58/100 [08:39<06:16,  8.95s/it]\u001B[A\n",
      "[Succeeded / Failed / Skipped / Total] 51 / 0 / 7 / 58:  58%|█████▊    | 58/100 [08:39<06:16,  8.95s/it]\u001B[A"
     ]
    },
    {
     "name": "stdout",
     "output_type": "stream",
     "text": [
      "--------------------------------------------- Result 58 ---------------------------------------------\n",
      "[[Negative (100%)]] --> [[Negative (67%)]]\n",
      "\n",
      "[[Witchcraft]]/Witchery/La Casa 4/ and whatever else you wish to call it. How [[about]]..[[Crud]].<br /><br />A gathering of people at a Massachusetts island resort are besieged by the black magic [[powers]] of an evil [[witch]] killing each individual using cruel, [[torturous]] methods. [[Photographer]] Gary(David [[Hasselhoff]])is taking pictures for Linda(Catherine Hickland whose voice and demeanor resemble EE-YOR of the Winnie the Poo cartoon), a virgin studying witchcraft, on the island resort without permission. Rose Brooks(Annie Ross, portraying an incredibly rude bitch)[[is]] [[interested]] in perhaps purchasing the resort and, along with husband Freddie(Robert Champagne, who is always ogling other women much younger than him), pregnant daughter Jane(Linda Blair)and grandson Tommy(Michael Manchester, who just looks bored throughout, probably wanting to watch Sesame Street [[instead]] of [[starring]] in [[this]] rubbish), go by boat to the resort being treated to a look at the property by [[Realtor]] Tony Giordano's son Jerry(Rick Farnsworth), obviously a pup in the business getting his feet wet. Along with these folks is architect Leslie(Leslie Cumming, whose [[character]] is a nympho)who might help Rose re-design the resort. The boat's captain is killed by The Lady in Black(Hildegard Knef, wearing her make-up and lip-stick extra thick)and a [[storm]] is brewing. The boat [[drives]] off by itself(..guided [[by]] [[the]] invisible [[power]] of The [[Lady]] in Black, I guess)with everyone stuck in the decrepit [[resort]], which is in dire need of repairs. Most of [[the]] [[victims]], [[before]] [[meeting]] their [[grisly]] fates [[are]] [[carried]] through a type of red [[wormhole]] whose [[vortex]] [[leads]] to another [[dimension]](..perhaps a type of hell or something)where they [[are]] tortured by these [[fiends]] dressed [[in]] raggedy [[clothes]] [[with]] a [[crummy]] visage. One [[victim]] [[has]] [[her]] mouth [[sown]] [[before]] [[being]] hung upside down [[in]] a chimney, [[roasted]] [[as]] the [[others]] light the [[fireplace]]. One [[poor]] [[soul]] is tortured by harsh twistings of rope [[wrapped]] tightly [[around]] [[her]] [[flesh]] [[before]] [[being]] [[found]] [[hanging]] [[from]] the [[snout]] [[of]] a [[swordfish]] [[penetrating]] through [[her]] [[neck]]. One [[fellow]] is slowly suffocating as his veins bulge(..[[and]] [[bleed]]) and neck's blood [[vessels]] burst [[squirting]] in Hasselhoff's face! One fellow is crucified with nails hammered into his hands before being hung upside down over an open flame. Blair's pregnant victim becomes possessed with her hair standing on end speaking in another woman's voice. One is raped by this demonic man with a \"diseased\" mouth as the hellish hobos stand nearby gleefully cheering. The film, despite it's excesses, is mostly dull fodder for those who really wish to see the lowest point in the careers of Hasselhoff and Blair, who deserve better than this. Almost unbearable at times, building little-to-no suspense. Clumsy execution of the death sequences which look cheap and laughable. Sure some gore is okay, but most of the film shows victims after they've been run through the ringer. We do get a chance to see pregnant women(..who look exactly like stuntmen in costume with bad wigs) jumping out three story windows. Oh, and The Lady in Black's reflected face often pops up on inanimate objects for characters to see. Tommy has a little Sesame Street recorder which tapes The Lady in Black's mumbo jumbo chants, obviously used for later. For some reason, The Lady in Black likes to visit little Tommy. He's not at all scared of her, for Tommy's just too bored to show any expression on his face, much less fear. Need I say more? This one's a real stinker. Ugh.\n",
      "\n",
      "[[Warlock]]/Witchery/La Casa 4/ and whatever else you wish to call it. How [[in]]..[[Gunk]].<br /><br />A gathering of people at a Massachusetts island resort are besieged by the black magic [[authority]] of an evil [[wizard]] killing each individual using cruel, [[infernal]] methods. [[Pictured]] Gary(David [[Baywatch]])is taking pictures for Linda(Catherine Hickland whose voice and demeanor resemble EE-YOR of the Winnie the Poo cartoon), a virgin studying witchcraft, on the island resort without permission. Rose Brooks(Annie Ross, portraying an incredibly rude bitch)[[got]] [[anxious]] in perhaps purchasing the resort and, along with husband Freddie(Robert Champagne, who is always ogling other women much younger than him), pregnant daughter Jane(Linda Blair)and grandson Tommy(Michael Manchester, who just looks bored throughout, probably wanting to watch Sesame Street [[alternatively]] of [[showing]] in [[that]] rubbish), go by boat to the resort being treated to a look at the property by [[Courtier]] Tony Giordano's son Jerry(Rick Farnsworth), obviously a pup in the business getting his feet wet. Along with these folks is architect Leslie(Leslie Cumming, whose [[letters]] is a nympho)who might help Rose re-design the resort. The boat's captain is killed by The Lady in Black(Hildegard Knef, wearing her make-up and lip-stick extra thick)and a [[stormy]] is brewing. The boat [[boardwalk]] off by itself(..guided [[throughout]] [[both]] invisible [[skill]] of The [[Femme]] in Black, I guess)with everyone stuck in the decrepit [[resorts]], which is in dire need of repairs. Most of [[both]] [[casualty]], [[until]] [[discussion]] their [[abysmal]] fates [[comprise]] [[stirred]] through a type of red [[vortex]] whose [[storm]] [[generates]] to another [[amplitude]](..perhaps a type of hell or something)where they [[were]] tortured by these [[lackeys]] dressed [[during]] raggedy [[coats]] [[de]] a [[inclement]] visage. One [[injury]] [[maintains]] [[she]] mouth [[grown]] [[until]] [[continuing]] hung upside down [[throughout]] a chimney, [[busted]] [[because]] the [[injuring]] light the [[chimneys]]. One [[impoverished]] [[mind]] is tortured by harsh twistings of rope [[chained]] tightly [[at]] [[he]] [[loaf]] [[until]] [[persisted]] [[discovered]] [[hanged]] [[for]] the [[nasal]] [[de]] a [[catfish]] [[subtle]] through [[she]] [[col]]. One [[gentleman]] is slowly suffocating as his veins bulge(..[[nor]] [[flushing]]) and neck's blood [[fleets]] burst [[squirts]] in Hasselhoff's face! One fellow is crucified with nails hammered into his hands before being hung upside down over an open flame. Blair's pregnant victim becomes possessed with her hair standing on end speaking in another woman's voice. One is raped by this demonic man with a \"diseased\" mouth as the hellish hobos stand nearby gleefully cheering. The film, despite it's excesses, is mostly dull fodder for those who really wish to see the lowest point in the careers of Hasselhoff and Blair, who deserve better than this. Almost unbearable at times, building little-to-no suspense. Clumsy execution of the death sequences which look cheap and laughable. Sure some gore is okay, but most of the film shows victims after they've been run through the ringer. We do get a chance to see pregnant women(..who look exactly like stuntmen in costume with bad wigs) jumping out three story windows. Oh, and The Lady in Black's reflected face often pops up on inanimate objects for characters to see. Tommy has a little Sesame Street recorder which tapes The Lady in Black's mumbo jumbo chants, obviously used for later. For some reason, The Lady in Black likes to visit little Tommy. He's not at all scared of her, for Tommy's just too bored to show any expression on his face, much less fear. Need I say more? This one's a real stinker. Ugh.\n",
      "\n",
      "\n"
     ]
    },
    {
     "name": "stderr",
     "output_type": "stream",
     "text": [
      "\n",
      "[Succeeded / Failed / Skipped / Total] 51 / 0 / 7 / 58:  59%|█████▉    | 59/100 [08:42<06:03,  8.86s/it]\u001B[A\n",
      "[Succeeded / Failed / Skipped / Total] 52 / 0 / 7 / 59:  59%|█████▉    | 59/100 [08:42<06:03,  8.86s/it]\u001B[A"
     ]
    },
    {
     "name": "stdout",
     "output_type": "stream",
     "text": [
      "--------------------------------------------- Result 59 ---------------------------------------------\n",
      "[[Negative (100%)]] --> [[Negative (69%)]]\n",
      "\n",
      "\"Witchery\" might just be the most [[incoherent]] and lamentably scripted horror movie of the 80's but, luckily enough, it has a few compensating qualities like fantastic gore effects, an exhilarating musical score and some terrific casting choices. Honestly the screenplay doesn't make one iota of sense, but who cares when Linda Blair (with an exploded hairstyle) portrays yet another girl possessed by evil powers and David Hasselhof depicts a hunky photographer (who can't seem to get laid) in a movie that constantly features bloody voodoo, sewn-shut lips, upside down crucifixions, vicious burnings and an overused but genuinely creepy tune. Eight random people are gathered together on an abandoned vacation resort island off the coast of Massachusetts. The young couple is there to investigate the place's dark history; the dysfunctional family (with a pregnant Linda Blair even though nobody seems to bother about who the father is and what his whereabouts are) considers re-opening the hotel and the yummy female architect simply tagged along for casual sex. They're forced to stay the night in the ramshackle hotel and then suddenly the previous landlady  an aging actress or something who always dresses in black  starts taking them out in various engrossing ways. Everything is somehow related to the intro sequence showing a woman accused of witchery jump out of a window. Anyway, the plot is definitely of minor importance in an Italian horror franchise that started as an unofficial spin-off of \"The Evil Dead\". The atmosphere is occasionally unsettling and the make-up effects are undoubtedly the most superior element of the entire film. There's something supremely morbid and unsettling about staring at a defenseless woman hanging upside down a chimney and waiting to get fried.\n",
      "\n",
      "\"Witchery\" might just be the most [[nonsense]] and lamentably scripted horror movie of the 80's but, luckily enough, it has a few compensating qualities like fantastic gore effects, an exhilarating musical score and some terrific casting choices. Honestly the screenplay doesn't make one iota of sense, but who cares when Linda Blair (with an exploded hairstyle) portrays yet another girl possessed by evil powers and David Hasselhof depicts a hunky photographer (who can't seem to get laid) in a movie that constantly features bloody voodoo, sewn-shut lips, upside down crucifixions, vicious burnings and an overused but genuinely creepy tune. Eight random people are gathered together on an abandoned vacation resort island off the coast of Massachusetts. The young couple is there to investigate the place's dark history; the dysfunctional family (with a pregnant Linda Blair even though nobody seems to bother about who the father is and what his whereabouts are) considers re-opening the hotel and the yummy female architect simply tagged along for casual sex. They're forced to stay the night in the ramshackle hotel and then suddenly the previous landlady  an aging actress or something who always dresses in black  starts taking them out in various engrossing ways. Everything is somehow related to the intro sequence showing a woman accused of witchery jump out of a window. Anyway, the plot is definitely of minor importance in an Italian horror franchise that started as an unofficial spin-off of \"The Evil Dead\". The atmosphere is occasionally unsettling and the make-up effects are undoubtedly the most superior element of the entire film. There's something supremely morbid and unsettling about staring at a defenseless woman hanging upside down a chimney and waiting to get fried.\n",
      "\n",
      "\n"
     ]
    },
    {
     "name": "stderr",
     "output_type": "stream",
     "text": [
      "\n",
      "[Succeeded / Failed / Skipped / Total] 52 / 0 / 7 / 59:  60%|██████    | 60/100 [08:46<05:50,  8.77s/it]\u001B[A\n",
      "[Succeeded / Failed / Skipped / Total] 53 / 0 / 7 / 60:  60%|██████    | 60/100 [08:46<05:50,  8.77s/it]\u001B[Atextattack: Saving checkpoint under \"checkpoints\\1682476543106.ta.chkpt\" at 2023-04-25 22:35:43 after 60 attacks.\n"
     ]
    },
    {
     "name": "stdout",
     "output_type": "stream",
     "text": [
      "--------------------------------------------- Result 60 ---------------------------------------------\n",
      "[[Negative (100%)]] --> [[Negative (61%)]]\n",
      "\n",
      "Witchy Hildegard Knef traps a group of people in an isolated hotel and picks them off one by one in twisted, disgusting ways. I thought I'd seen it all until one unfortunate man here is crucified and then has his head set on fire. Hildy is quite the prankster too: she takes a nagging harpy and sews her mouth shut...then hangs her upside down in the chimney just in time for a roaring fire! \"Witchery\" made me [[sick]]. It made my eyes hurt. I was ready to write it off as the [[worst]] [[movie]] ever-ever-ever [[made]] by otherwise [[competent]] people...until the finale. I have to admit I loved the [[ending]]. It involves a boy and his toy tape-recorder cornered by Linda Blair looking fantastically possessed. The scene only lasts for about a minute and the movie's over, but you know that old saying: \"If you've got a great ending, people will forgive you for just about anything!\"\n",
      "\n",
      "Witchy Hildegard Knef traps a group of people in an isolated hotel and picks them off one by one in twisted, disgusting ways. I thought I'd seen it all until one unfortunate man here is crucified and then has his head set on fire. Hildy is quite the prankster too: she takes a nagging harpy and sews her mouth shut...then hangs her upside down in the chimney just in time for a roaring fire! \"Witchery\" made me [[unwell]]. It made my eyes hurt. I was ready to write it off as the [[shittiest]] [[theatres]] ever-ever-ever [[incurred]] by otherwise [[able]] people...until the finale. I have to admit I loved the [[terminates]]. It involves a boy and his toy tape-recorder cornered by Linda Blair looking fantastically possessed. The scene only lasts for about a minute and the movie's over, but you know that old saying: \"If you've got a great ending, people will forgive you for just about anything!\"\n",
      "\n",
      "\n",
      "\n",
      "\n",
      "=============================================================================================================================\n",
      "=============================================================================================================================\n",
      "\n"
     ]
    },
    {
     "name": "stderr",
     "output_type": "stream",
     "text": [
      "\n",
      "[Succeeded / Failed / Skipped / Total] 53 / 0 / 7 / 60:  61%|██████    | 61/100 [09:05<05:49,  8.95s/it]\u001B[A\n",
      "[Succeeded / Failed / Skipped / Total] 54 / 0 / 7 / 61:  61%|██████    | 61/100 [09:06<05:49,  8.95s/it]\u001B[A"
     ]
    },
    {
     "name": "stdout",
     "output_type": "stream",
     "text": [
      "--------------------------------------------- Result 61 ---------------------------------------------\n",
      "[[Negative (100%)]] --> [[Negative (70%)]]\n",
      "\n",
      "A really very bad movie, with a [[very]] [[few]] good [[moments]] or [[qualities]].<br /><br />It [[starts]] off with pregnant Linda Blair, who runs down a hallways to flee what might be monsters or people with pitchforks, I'm not sure. She jumps through a window and wakes up, and we see she is very [[pregnant]]. The degree to which she is pregnant varies widely throughout the movie.<br /><br />She and an annoying and possibly [[retarded]] little [[boy]] who I thought was her son travel to an abandoned hotel on an island. Italian horror [[directors]] find the most irritating little [[boys]] to [[put]] in their movies! On the island already are David Hasselhoff and his German-speaking virgin girlfriend (you know how Germans are said to love Hasselhoff...). He's taking photographs, and she's translating an esoteric German book about witches, I think.<br /><br />Also traveling to the island are an older couple who have purchased it, and a real estate agent, and a woman I thought was their daughter. Evidently she was an architect, and Linda Blair and the boy are the older couple's children. I guess they all traveled to the island together, but it really seemed like Linda and the boy were apart from the rest of them (maybe they [[were]] [[filmed]] separately).<br /><br />The hotel seems [[neat]], certainly from the exteriors, but [[it]] isn't used to [[any]] [[great]] effect. An old [[woman]] [[in]] bad makeup and a [[black]] cloak keeps appearing to the boy and chants something in German sometimes, which he eventually records on his Sesame Street tape recorder.<br /><br />[[People]] start getting [[killed]], either in their dreams, or sucked [[into]] hell or something. Some of these gore scenes are OK, but not enough to [[recommend]] [[the]] [[movie]]. Though the copy I watched stated it is uncut on the box cover, the death of one character whose veins explode really seems to have been cut. Much of the scene is showing another character's reaction shots, since we're not seeing anything ourselves. The creepiest scene [[is]] one in which a man or demon with a really messy-looking wound of a mouth rapes someone. He looked particularly nasty. There's a laughably and painfully bad scene in which Linda Blair is possessed. I wish if a horror movie is going to cast her, they would do something original with her role, and let her leave Exorcist behind her (except for the yearly horror conventions).<br /><br />In the weird, largely Italian, tradition of claiming to be a sequel to something it is unrelated to, this is also AKA La Casa 4 and Ghosthouse 2. That is, it is supposedly a sequel to Casa 3 - Ghosthouse, La (1988) - it's not (that's also a better movie than this one). La Casa 1 and two were The Evil Dead (1981) and Evil Dead II (1987) - again unrelated to Witchery and La Casa 3 (and much better than those). There's also a Casa 5, La (1990) AKA House 5, which seems to want to be a sequel to the fake La Casa series and the series House: House (1986) House II: The Second Story (1987), The Horror Show (1989) AKA House III, and House IV (1992). How's The Horror Show fit in there? It doesn't really, it claimed to be a sequel, thus requiring the real series entry to renumber itself to cause less (or more?) confusion. Oddly, The Horror Show is also AKA Horror House, and La Casa 5 is also AKA Horror House 2. Does your head hurt yet?\n",
      "\n",
      "A really very bad movie, with a [[tremendously]] [[rare]] good [[time]] or [[specifics]].<br /><br />It [[introductory]] off with pregnant Linda Blair, who runs down a hallways to flee what might be monsters or people with pitchforks, I'm not sure. She jumps through a window and wakes up, and we see she is very [[maternity]]. The degree to which she is pregnant varies widely throughout the movie.<br /><br />She and an annoying and possibly [[dimwit]] little [[petit]] who I thought was her son travel to an abandoned hotel on an island. Italian horror [[fuhrer]] find the most irritating little [[guys]] to [[introduced]] in their movies! On the island already are David Hasselhoff and his German-speaking virgin girlfriend (you know how Germans are said to love Hasselhoff...). He's taking photographs, and she's translating an esoteric German book about witches, I think.<br /><br />Also traveling to the island are an older couple who have purchased it, and a real estate agent, and a woman I thought was their daughter. Evidently she was an architect, and Linda Blair and the boy are the older couple's children. I guess they all traveled to the island together, but it really seemed like Linda and the boy were apart from the rest of them (maybe they [[stood]] [[filming]] separately).<br /><br />The hotel seems [[terrific]], certainly from the exteriors, but [[him]] isn't used to [[every]] [[magnificent]] effect. An old [[missus]] [[about]] bad makeup and a [[triad]] cloak keeps appearing to the boy and chants something in German sometimes, which he eventually records on his Sesame Street tape recorder.<br /><br />[[Men]] start getting [[homicide]], either in their dreams, or sucked [[in]] hell or something. Some of these gore scenes are OK, but not enough to [[commended]] [[both]] [[movies]]. Though the copy I watched stated it is uncut on the box cover, the death of one character whose veins explode really seems to have been cut. Much of the scene is showing another character's reaction shots, since we're not seeing anything ourselves. The creepiest scene [[got]] one in which a man or demon with a really messy-looking wound of a mouth rapes someone. He looked particularly nasty. There's a laughably and painfully bad scene in which Linda Blair is possessed. I wish if a horror movie is going to cast her, they would do something original with her role, and let her leave Exorcist behind her (except for the yearly horror conventions).<br /><br />In the weird, largely Italian, tradition of claiming to be a sequel to something it is unrelated to, this is also AKA La Casa 4 and Ghosthouse 2. That is, it is supposedly a sequel to Casa 3 - Ghosthouse, La (1988) - it's not (that's also a better movie than this one). La Casa 1 and two were The Evil Dead (1981) and Evil Dead II (1987) - again unrelated to Witchery and La Casa 3 (and much better than those). There's also a Casa 5, La (1990) AKA House 5, which seems to want to be a sequel to the fake La Casa series and the series House: House (1986) House II: The Second Story (1987), The Horror Show (1989) AKA House III, and House IV (1992). How's The Horror Show fit in there? It doesn't really, it claimed to be a sequel, thus requiring the real series entry to renumber itself to cause less (or more?) confusion. Oddly, The Horror Show is also AKA Horror House, and La Casa 5 is also AKA Horror House 2. Does your head hurt yet?\n",
      "\n",
      "\n"
     ]
    },
    {
     "name": "stderr",
     "output_type": "stream",
     "text": [
      "\n",
      "[Succeeded / Failed / Skipped / Total] 54 / 0 / 7 / 61:  62%|██████▏   | 62/100 [09:06<05:35,  8.82s/it]\u001B[A\n",
      "[Succeeded / Failed / Skipped / Total] 55 / 0 / 7 / 62:  62%|██████▏   | 62/100 [09:06<05:35,  8.82s/it]\u001B[A"
     ]
    },
    {
     "name": "stdout",
     "output_type": "stream",
     "text": [
      "--------------------------------------------- Result 62 ---------------------------------------------\n",
      "[[Negative (99%)]] --> [[Positive (88%)]]\n",
      "\n",
      "This film features two of my favorite guilty pleasures. Sure, the effects are laughable, the story confused, but just watching Hasselhoff in his Knight Rider days is always fun. I especially like the old hotel they used to shoot this in, it added to what [[little]] suspense was mustered. Give it a 3.\n",
      "\n",
      "This film features two of my favorite guilty pleasures. Sure, the effects are laughable, the story confused, but just watching Hasselhoff in his Knight Rider days is always fun. I especially like the old hotel they used to shoot this in, it added to what [[small]] suspense was mustered. Give it a 3.\n",
      "\n",
      "\n"
     ]
    },
    {
     "name": "stderr",
     "output_type": "stream",
     "text": [
      "\n",
      "[Succeeded / Failed / Skipped / Total] 55 / 0 / 7 / 62:  63%|██████▎   | 63/100 [09:08<05:22,  8.71s/it]\u001B[A\n",
      "[Succeeded / Failed / Skipped / Total] 56 / 0 / 7 / 63:  63%|██████▎   | 63/100 [09:08<05:22,  8.71s/it]\u001B[A"
     ]
    },
    {
     "name": "stdout",
     "output_type": "stream",
     "text": [
      "--------------------------------------------- Result 63 ---------------------------------------------\n",
      "[[Negative (100%)]] --> [[Positive (73%)]]\n",
      "\n",
      "I watched this movie purely for the setting. It was filmed in an old hotel that a friend owns shares of. The plot was predictable, the acting was mediorcre at best, the scares were all gross-outs, not true scares.<br /><br />I don't remember much of the plot, and I think that's because there wasn't much of one to remember. They didn't even use the hotel to it's fullest potential...The [[beaches]] are fantastic and the hotel is situated on a peninsula. At low tide, you can walk almost 1/4 mile into the bay, which is actually an eerie sight first thing in the morning or late at night when the wind is howling through the cracks.<br /><br />The best way to see this movie [[is]] with the remote in your hand so you can fast forward through the action (and I'm using that term loosly)scenes and pause at the beauty of the [[surroundings]]!\n",
      "\n",
      "I watched this movie purely for the setting. It was filmed in an old hotel that a friend owns shares of. The plot was predictable, the acting was mediorcre at best, the scares were all gross-outs, not true scares.<br /><br />I don't remember much of the plot, and I think that's because there wasn't much of one to remember. They didn't even use the hotel to it's fullest potential...The [[beach]] are fantastic and the hotel is situated on a peninsula. At low tide, you can walk almost 1/4 mile into the bay, which is actually an eerie sight first thing in the morning or late at night when the wind is howling through the cracks.<br /><br />The best way to see this movie [[has]] with the remote in your hand so you can fast forward through the action (and I'm using that term loosly)scenes and pause at the beauty of the [[midst]]!\n",
      "\n",
      "\n"
     ]
    },
    {
     "name": "stderr",
     "output_type": "stream",
     "text": [
      "\n",
      "[Succeeded / Failed / Skipped / Total] 56 / 0 / 7 / 63:  64%|██████▍   | 64/100 [09:10<05:09,  8.60s/it]\u001B[A\n",
      "[Succeeded / Failed / Skipped / Total] 57 / 0 / 7 / 64:  64%|██████▍   | 64/100 [09:10<05:09,  8.60s/it]\u001B[A"
     ]
    },
    {
     "name": "stdout",
     "output_type": "stream",
     "text": [
      "--------------------------------------------- Result 64 ---------------------------------------------\n",
      "[[Negative (100%)]] --> [[Negative (56%)]]\n",
      "\n",
      "This only gets bashed because it stars David [[Hasselhoff]]. Well, then let me bash it to. Compared to the garbage they call horror coming out nowadays, this film isn't too bad. It has the beautiful Leslie Cumming. She is super hot, but can't talk very well. There is a great scene with her when she is supernaturally raped. She shows off her nice body. Linda Blair [[does]] [[nothing]] here as well as Hasselhoff. 3/10\n",
      "\n",
      "This only gets bashed because it stars David [[Baywatch]]. Well, then let me bash it to. Compared to the garbage they call horror coming out nowadays, this film isn't too bad. It has the beautiful Leslie Cumming. She is super hot, but can't talk very well. There is a great scene with her when she is supernaturally raped. She shows off her nice body. Linda Blair [[wo]] [[jamais]] here as well as Hasselhoff. 3/10\n",
      "\n",
      "\n"
     ]
    },
    {
     "name": "stderr",
     "output_type": "stream",
     "text": [
      "\n",
      "[Succeeded / Failed / Skipped / Total] 57 / 0 / 7 / 64:  65%|██████▌   | 65/100 [09:17<05:00,  8.58s/it]\u001B[A\n",
      "[Succeeded / Failed / Skipped / Total] 58 / 0 / 7 / 65:  65%|██████▌   | 65/100 [09:17<05:00,  8.58s/it]\u001B[Atextattack: Saving checkpoint under \"checkpoints\\1682476574963.ta.chkpt\" at 2023-04-25 22:36:14 after 65 attacks.\n"
     ]
    },
    {
     "name": "stdout",
     "output_type": "stream",
     "text": [
      "--------------------------------------------- Result 65 ---------------------------------------------\n",
      "[[Negative (100%)]] --> [[Negative (69%)]]\n",
      "\n",
      "[[We]] brought this film as a joke for a [[friend]], and [[could]] of [[been]] our worst joke to play. The film is [[barely]] watchable, [[and]] the [[acting]] is [[dire]]. The worst child actor ever used and Hasslehoff [[giving]] a substandard performance. [[The]] [[plot]] [[is]] [[disgraceful]] and at points we was [[so]] [[bored]] we was [[wondering]] what the [[hell]] was going [[on]]. [[It]] [[tries]] to [[be]] [[gruesome]] [[in]] [[places]] but [[is]] [[just]] [[laughable]].<br /><br />Just terrible\n",
      "\n",
      "[[Our]] brought this film as a joke for a [[amie]], and [[got]] of [[reached]] our worst joke to play. The film is [[miraculously]] watchable, [[both]] the [[behaved]] is [[devastating]]. The worst child actor ever used and Hasslehoff [[dar]] a substandard performance. [[Both]] [[plots]] [[be]] [[infamous]] and at points we was [[moreover]] [[dreary]] we was [[called]] what the [[geez]] was going [[pour]]. [[He]] [[tried]] to [[was]] [[horrific]] [[from]] [[venues]] but [[comes]] [[only]] [[foolishness]].<br /><br />Just terrible\n",
      "\n",
      "\n",
      "\n",
      "\n",
      "=============================================================================================================================\n",
      "=============================================================================================================================\n",
      "\n"
     ]
    },
    {
     "name": "stderr",
     "output_type": "stream",
     "text": [
      "\n",
      "[Succeeded / Failed / Skipped / Total] 58 / 0 / 7 / 65:  66%|██████▌   | 66/100 [09:24<04:50,  8.55s/it]\u001B[A\n",
      "[Succeeded / Failed / Skipped / Total] 59 / 0 / 7 / 66:  66%|██████▌   | 66/100 [09:24<04:50,  8.55s/it]\u001B[A"
     ]
    },
    {
     "name": "stdout",
     "output_type": "stream",
     "text": [
      "--------------------------------------------- Result 66 ---------------------------------------------\n",
      "[[Negative (100%)]] --> [[Positive (59%)]]\n",
      "\n",
      "Humm, an Italian movie starred by David hasselhoff and Linda Blair, I wasn´t expecting very much, to be [[honest]] and in fact, [[I]] took even [[less]] than I was [[expecting]]. It doesn´t mean this movie is the worst [[I]] have [[seen]] [[because]] [[I]] have [[watched]] worse things than [[this]] but the plot was [[most]] of the [[times]] [[confusing]] and [[uninteresting]] and some good gore scenes [[are]] [[the]] [[only]] thing [[saving]] this. Apart from that you are going to [[love]] some special effects, they are really cheesy and bad. Now I only want to [[watch]] \"Troll 3\" [[by]] [[this]] same [[director]], sure it is not going to be worse than that.\n",
      "\n",
      "Humm, an Italian movie starred by David hasselhoff and Linda Blair, I wasn´t expecting very much, to be [[staunch]] and in fact, [[me]] took even [[underneath]] than I was [[predicts]]. It doesn´t mean this movie is the worst [[me]] have [[vu]] [[than]] [[me]] have [[proved]] worse things than [[that]] but the plot was [[toughest]] of the [[bouts]] [[worrying]] and [[forgettable]] and some good gore scenes [[is]] [[both]] [[lonely]] thing [[rescuing]] this. Apart from that you are going to [[loving]] some special effects, they are really cheesy and bad. Now I only want to [[follow]] \"Troll 3\" [[en]] [[that]] same [[headmaster]], sure it is not going to be worse than that.\n",
      "\n",
      "\n"
     ]
    },
    {
     "name": "stderr",
     "output_type": "stream",
     "text": [
      "\n",
      "[Succeeded / Failed / Skipped / Total] 59 / 0 / 7 / 66:  67%|██████▋   | 67/100 [09:25<04:38,  8.45s/it]\u001B[A\n",
      "[Succeeded / Failed / Skipped / Total] 60 / 0 / 7 / 67:  67%|██████▋   | 67/100 [09:25<04:38,  8.45s/it]\u001B[A"
     ]
    },
    {
     "name": "stdout",
     "output_type": "stream",
     "text": [
      "--------------------------------------------- Result 67 ---------------------------------------------\n",
      "[[Negative (100%)]] --> [[Positive (53%)]]\n",
      "\n",
      "I and a [[friend]] rented this movie. We both found the movie soundtrack and production techniques to be [[lagging]]. The movie's plot appeared to drag on throughout with [[little]] surprise in the ending. We both agreed that the movie could have been compressed into roughly an hour giving it more suspense and moving plot.\n",
      "\n",
      "I and a [[friends]] rented this movie. We both found the movie soundtrack and production techniques to be [[belated]]. The movie's plot appeared to drag on throughout with [[restrained]] surprise in the ending. We both agreed that the movie could have been compressed into roughly an hour giving it more suspense and moving plot.\n",
      "\n",
      "\n"
     ]
    },
    {
     "name": "stderr",
     "output_type": "stream",
     "text": [
      "\n",
      "[Succeeded / Failed / Skipped / Total] 60 / 0 / 7 / 67:  68%|██████▊   | 68/100 [09:32<04:29,  8.42s/it]\u001B[A\n",
      "[Succeeded / Failed / Skipped / Total] 61 / 0 / 7 / 68:  68%|██████▊   | 68/100 [09:32<04:29,  8.42s/it]\u001B[A"
     ]
    },
    {
     "name": "stdout",
     "output_type": "stream",
     "text": [
      "--------------------------------------------- Result 68 ---------------------------------------------\n",
      "[[Negative (100%)]] --> [[Negative (67%)]]\n",
      "\n",
      "I'm gettin' sick of movies that sound [[entertaining]] in a one-line synopsis then end up being equal to what you'd find in the bottom center of a compost heap.<br /><br />Who knows: \"Witchery\" may have sounded interesting in a pitch to the studios, even with a \"big name cast\" (like Blair and Hasselhoff - wink-wink, nudge-nudge) and the effervescent likes of Hildegard Knef (I [[dunno]], some woman...).<br /><br />But on film, it just [[falls]] apart faster than a papier-mache sculpture in a rainstorm. Seems these unfortunate folks are trapped in an island mansion off the Eastern seaboard, and one of them (a woman, I'd guess) is being targeted by a satanic cult to bear the child of hell while the others are offed in grotesque, tortuous ways. <br /><br />Okay, right there you have a cross-section of plots from \"The Exorcist\", \"The Omen\", \"Ten Little Indians\" and a few other lesser movies in the satanic-worshippers-run-amok line. [[None]] [[of]] it is very [[entertaining]] and for the most part, you'll cringe your way from scene to scene until it's over.<br /><br />No, not even Linda Blair and David Hasselhoff help matters much. They're just in it to pick up a paycheck and don't seem very intent on giving it their \"all\". <br /><br />From the looks of it, Hasselhoff probably wishes he were back on the beack with Pam Anderson (and who can blame him?) and Linda... well, who knows; a celebrity PETA benefit or pro-am golf tour or whatever it is she's in to nowadays.<br /><br />And the torture scenes! Ecchhhh. You'll see people get their mouths sewn shut, dangled up inside roaring fireplaces, strung up in trees during a violent storm, vessels bursting out of their necks, etc, etc. Sheesh, and I thought \"Mark of the Devil\" was the most sadistic movie I'd seen....<br /><br />Don't bother. It's not worth your time. I can't believe I told you as much as I did. If you do watch it, just see if you can count the cliches. And yes, Blair gets possessed, as if you didn't see THAT coming down Main Street followed by a marching band.<br /><br />No stars. \"Witchery\" - these witches will give you itches.\n",
      "\n",
      "I'm gettin' sick of movies that sound [[hear]] in a one-line synopsis then end up being equal to what you'd find in the bottom center of a compost heap.<br /><br />Who knows: \"Witchery\" may have sounded interesting in a pitch to the studios, even with a \"big name cast\" (like Blair and Hasselhoff - wink-wink, nudge-nudge) and the effervescent likes of Hildegard Knef (I [[dont]], some woman...).<br /><br />But on film, it just [[shrinks]] apart faster than a papier-mache sculpture in a rainstorm. Seems these unfortunate folks are trapped in an island mansion off the Eastern seaboard, and one of them (a woman, I'd guess) is being targeted by a satanic cult to bear the child of hell while the others are offed in grotesque, tortuous ways. <br /><br />Okay, right there you have a cross-section of plots from \"The Exorcist\", \"The Omen\", \"Ten Little Indians\" and a few other lesser movies in the satanic-worshippers-run-amok line. [[Nil]] [[between]] it is very [[funniest]] and for the most part, you'll cringe your way from scene to scene until it's over.<br /><br />No, not even Linda Blair and David Hasselhoff help matters much. They're just in it to pick up a paycheck and don't seem very intent on giving it their \"all\". <br /><br />From the looks of it, Hasselhoff probably wishes he were back on the beack with Pam Anderson (and who can blame him?) and Linda... well, who knows; a celebrity PETA benefit or pro-am golf tour or whatever it is she's in to nowadays.<br /><br />And the torture scenes! Ecchhhh. You'll see people get their mouths sewn shut, dangled up inside roaring fireplaces, strung up in trees during a violent storm, vessels bursting out of their necks, etc, etc. Sheesh, and I thought \"Mark of the Devil\" was the most sadistic movie I'd seen....<br /><br />Don't bother. It's not worth your time. I can't believe I told you as much as I did. If you do watch it, just see if you can count the cliches. And yes, Blair gets possessed, as if you didn't see THAT coming down Main Street followed by a marching band.<br /><br />No stars. \"Witchery\" - these witches will give you itches.\n",
      "\n",
      "\n"
     ]
    },
    {
     "name": "stderr",
     "output_type": "stream",
     "text": [
      "\n",
      "[Succeeded / Failed / Skipped / Total] 61 / 0 / 7 / 68:  69%|██████▉   | 69/100 [09:37<04:19,  8.37s/it]\u001B[A\n",
      "[Succeeded / Failed / Skipped / Total] 62 / 0 / 7 / 69:  69%|██████▉   | 69/100 [09:37<04:19,  8.37s/it]\u001B[A"
     ]
    },
    {
     "name": "stdout",
     "output_type": "stream",
     "text": [
      "--------------------------------------------- Result 69 ---------------------------------------------\n",
      "[[Negative (100%)]] --> [[Negative (70%)]]\n",
      "\n",
      "Not like I went in expecting a lot out of it, but I was at least [[hoping]] for a fun dumb big budget movie. This isn't [[even]] that. This item ranks in the bottom half of all the vampire [[movies]] I've ever seen (and believe me, I've seen a lot of them). [[Bad]] acting, zero characterization, little to no thought, [[almost]] non-existent plot (and that that's there you can [[drive]] semi-trucks [[through]] the holes in). Sure, [[it]] has [[action]] and is [[loud]], and has more action, and more noise, and blood, and action... [[These]] things alone [[do]] [[not]] make a good (or even halfway decent) movie. [[Beats]] me how some people can say [[this]] [[is]] the best vampire movie ever made--all I can assume is they haven't seen many. I suggest seeing Near Dark instead.\n",
      "\n",
      "Not like I went in expecting a lot out of it, but I was at least [[sufferance]] for a fun dumb big budget movie. This isn't [[too]] that. This item ranks in the bottom half of all the vampire [[cinematography]] I've ever seen (and believe me, I've seen a lot of them). [[Inauspicious]] acting, zero characterization, little to no thought, [[tight]] non-existent plot (and that that's there you can [[stroll]] semi-trucks [[durante]] the holes in). Sure, [[his]] has [[proceeding]] and is [[potent]], and has more action, and more noise, and blood, and action... [[This]] things alone [[making]] [[nothingness]] make a good (or even halfway decent) movie. [[Beaten]] me how some people can say [[these]] [[provides]] the best vampire movie ever made--all I can assume is they haven't seen many. I suggest seeing Near Dark instead.\n",
      "\n",
      "\n"
     ]
    },
    {
     "name": "stderr",
     "output_type": "stream",
     "text": [
      "\n",
      "[Succeeded / Failed / Skipped / Total] 62 / 0 / 7 / 69:  70%|███████   | 70/100 [10:07<04:20,  8.68s/it]\u001B[A\n",
      "[Succeeded / Failed / Skipped / Total] 63 / 0 / 7 / 70:  70%|███████   | 70/100 [10:07<04:20,  8.68s/it]\u001B[Atextattack: Saving checkpoint under \"checkpoints\\1682476624454.ta.chkpt\" at 2023-04-25 22:37:04 after 70 attacks.\n"
     ]
    },
    {
     "name": "stdout",
     "output_type": "stream",
     "text": [
      "--------------------------------------------- Result 70 ---------------------------------------------\n",
      "[[Negative (100%)]] --> [[Negative (56%)]]\n",
      "\n",
      "That snarl...<br /><br />That [[scowl]]...<br /><br />The [[acts]] of [[random]] violence...<br /><br />The gutteral voice...<br /><br />The fetish wear...<br /><br />That shaven [[head]]...<br /><br />It can mean only one thing...<br /><br />[[GRACE]] JONES [[IS]] BACK!<br /><br />[[Actually]] my sources tell me that the [[title]] [[role]] [[in]] [[Blade]] wasn't [[played]] [[by]] the 1980s diva, but by Wesley [[Snipes]].<br /><br />[[All]] [[in]] all this is [[not]] an [[improvement]].<[[br]] /><br />[[Blade]] [[is]] an [[adaptation]] of a [[comic]] [[character]]; somehow [[in]] the transfer from the simplistic, two-dimensional world of the printed page it has become even more simplistic and lost a couple of dimensions.<br /><br />The plot [[is]] hackneyed almost [[beyond]] belief and [[adds]] nothing to the vampire [[genre]], [[in]] fact, much like Nosferatu, [[it]] seems to suck the [[life]] out of the [[audience]]. In brief, upwardly mobile vampire wants to become more powerful but [[is]] opposed by Blade, half-human, half-vampire, [[all]] [[annoying]]. It all climaxes [[with]] Blade being put in a vampire juice press, some bad martial arts and the most pitiful CGI since 1968.<br /><br />Blade has to be the least empathic character since Dolph Lundgren's Punisher (also a comic adaptation, perhaps there is a trend here?). Surely the audience is meant to be on the same side as the 'hero'? And whilst a [[vampire]] can [[be]] a tragic character, this is not [[true]] of Blade, he is relentlessly cruel, scornful and not a whole lot better [[than]] the bad guys.<br /><br />I assume that Wesley Snipes has an 'acting' [[career]] purely so that everyone else can be compared favourably. As [[he]] snarls his way through his [[movie]] you [[find]] yourself looking for a stake - even a ballpoint pen - anything to put Blade in the grave. <br /><br />As a piece of [[narcissism]], Blade is pretty much unbeatable - we are treated to endless lingering shots of a gym-fresh Snipes for no reason whatsoever. Likewise no other actor is allowed any chance to give a reasonable performance; the likes of Steven Dorff *CAN* act, but they have to play second fiddle to Snipes' tedious performance.<br /><br />Kris Kristofferson used to appear in good movies, here he is reduced to a sidekick that you just know isn't going to make it through to the final reel. And what happens when Blade finds out? Yes, you guessed it, he rushes to the scene to wreak his revenge in the villain's giant underground lair.<br /><br />Why can't world-domination take place in a quiet country house? They always go ahead in underground cathedrals that would have had Albert Speer wondering if they were a little grandiose. A lot of these plans could be stopped right now if local councils paid more attention to plans for extending sub-basements. <br /><br />The rest of the movie is just as dull and unimaginative with nothing new to add to the genre. Vampires have been done to undeath and perhaps they should be laid to rest for a while - at least until someone can think of some way to make them interesting again.<br /><br />To finish, there *IS* a Grace Jones vampire movie, it's called Vamp and it's about ten times better than this.\n",
      "\n",
      "That snarl...<br /><br />That [[snarl]]...<br /><br />The [[measures]] of [[randomly]] violence...<br /><br />The gutteral voice...<br /><br />The fetish wear...<br /><br />That shaven [[president]]...<br /><br />It can mean only one thing...<br /><br />[[THANKS]] JONES [[ARE]] BACK!<br /><br />[[True]] my sources tell me that the [[headlines]] [[featured]] [[from]] [[Sabres]] wasn't [[realized]] [[across]] the 1980s diva, but by Wesley [[Harrelson]].<br /><br />[[Full]] [[under]] all this is [[absence]] an [[strengthen]].<[[brit]] /><br />[[Samurai]] [[assumes]] an [[adjustment]] of a [[zany]] [[individuality]]; somehow [[during]] the transfer from the simplistic, two-dimensional world of the printed page it has become even more simplistic and lost a couple of dimensions.<br /><br />The plot [[se]] hackneyed almost [[across]] belief and [[totaled]] nothing to the vampire [[class]], [[during]] fact, much like Nosferatu, [[he]] seems to suck the [[lifestyle]] out of the [[populace]]. In brief, upwardly mobile vampire wants to become more powerful but [[became]] opposed by Blade, half-human, half-vampire, [[any]] [[uninspiring]]. It all climaxes [[among]] Blade being put in a vampire juice press, some bad martial arts and the most pitiful CGI since 1968.<br /><br />Blade has to be the least empathic character since Dolph Lundgren's Punisher (also a comic adaptation, perhaps there is a trend here?). Surely the audience is meant to be on the same side as the 'hero'? And whilst a [[vamps]] can [[is]] a tragic character, this is not [[staunch]] of Blade, he is relentlessly cruel, scornful and not a whole lot better [[afterwards]] the bad guys.<br /><br />I assume that Wesley Snipes has an 'acting' [[professions]] purely so that everyone else can be compared favourably. As [[his]] snarls his way through his [[movies]] you [[achieve]] yourself looking for a stake - even a ballpoint pen - anything to put Blade in the grave. <br /><br />As a piece of [[egotism]], Blade is pretty much unbeatable - we are treated to endless lingering shots of a gym-fresh Snipes for no reason whatsoever. Likewise no other actor is allowed any chance to give a reasonable performance; the likes of Steven Dorff *CAN* act, but they have to play second fiddle to Snipes' tedious performance.<br /><br />Kris Kristofferson used to appear in good movies, here he is reduced to a sidekick that you just know isn't going to make it through to the final reel. And what happens when Blade finds out? Yes, you guessed it, he rushes to the scene to wreak his revenge in the villain's giant underground lair.<br /><br />Why can't world-domination take place in a quiet country house? They always go ahead in underground cathedrals that would have had Albert Speer wondering if they were a little grandiose. A lot of these plans could be stopped right now if local councils paid more attention to plans for extending sub-basements. <br /><br />The rest of the movie is just as dull and unimaginative with nothing new to add to the genre. Vampires have been done to undeath and perhaps they should be laid to rest for a while - at least until someone can think of some way to make them interesting again.<br /><br />To finish, there *IS* a Grace Jones vampire movie, it's called Vamp and it's about ten times better than this.\n",
      "\n",
      "\n",
      "\n",
      "\n",
      "=============================================================================================================================\n",
      "=============================================================================================================================\n",
      "\n"
     ]
    },
    {
     "name": "stderr",
     "output_type": "stream",
     "text": [
      "\n",
      "[Succeeded / Failed / Skipped / Total] 63 / 0 / 7 / 70:  71%|███████   | 71/100 [10:11<04:09,  8.61s/it]\u001B[A\n",
      "[Succeeded / Failed / Skipped / Total] 64 / 0 / 7 / 71:  71%|███████   | 71/100 [10:11<04:09,  8.61s/it]\u001B[A"
     ]
    },
    {
     "name": "stdout",
     "output_type": "stream",
     "text": [
      "--------------------------------------------- Result 71 ---------------------------------------------\n",
      "[[Negative (100%)]] --> [[Negative (69%)]]\n",
      "\n",
      "generally speaking I don't make negative comments on here. But since this is a festival piece, I don't want you to waste your time when you could see something else that might not be playing again.<br /><br />I thought the actors were pretty [[bad]]. For instance, they totally didn't play off each other, rather, they waited to RECITE their lines which were pretty poor to begin with. The dialogue sounded really forced. Norman or whatever his name tried, or so it would appear, to be witty and biting in the lines he chose but just fell really short.<br /><br />After words he asked if anyone saw the ending coming and some people were all \"yea\", and he all but called them liars. Look there were so many clues, the biggest being a briefcase full of cash for a $500 an hour whore. I mean the john gave her at least 20g's... tell tale sign. Now no you couldn't see exactly what was going to happen but by the time the twist actually occurred, I for one, didn't even care. I was just glad to get out [[of]] there. I asked him which draft he shot and he said 8.1, maybe next time he will wait to shoot 'til 15.3 cause this [[needed]] a lot of work.<br /><br />But he seemed like a fairly nice guy, he is making his own films, he'll probably get better and I hope he does, not in a snotty way either, I mean it, I wish him luck. Just remember, this is just my opinion.\n",
      "\n",
      "generally speaking I don't make negative comments on here. But since this is a festival piece, I don't want you to waste your time when you could see something else that might not be playing again.<br /><br />I thought the actors were pretty [[negative]]. For instance, they totally didn't play off each other, rather, they waited to RECITE their lines which were pretty poor to begin with. The dialogue sounded really forced. Norman or whatever his name tried, or so it would appear, to be witty and biting in the lines he chose but just fell really short.<br /><br />After words he asked if anyone saw the ending coming and some people were all \"yea\", and he all but called them liars. Look there were so many clues, the biggest being a briefcase full of cash for a $500 an hour whore. I mean the john gave her at least 20g's... tell tale sign. Now no you couldn't see exactly what was going to happen but by the time the twist actually occurred, I for one, didn't even care. I was just glad to get out [[in]] there. I asked him which draft he shot and he said 8.1, maybe next time he will wait to shoot 'til 15.3 cause this [[required]] a lot of work.<br /><br />But he seemed like a fairly nice guy, he is making his own films, he'll probably get better and I hope he does, not in a snotty way either, I mean it, I wish him luck. Just remember, this is just my opinion.\n",
      "\n",
      "\n"
     ]
    },
    {
     "name": "stderr",
     "output_type": "stream",
     "text": [
      "\n",
      "[Succeeded / Failed / Skipped / Total] 64 / 0 / 7 / 71:  72%|███████▏  | 72/100 [10:21<04:01,  8.64s/it]\u001B[A\n",
      "[Succeeded / Failed / Skipped / Total] 65 / 0 / 7 / 72:  72%|███████▏  | 72/100 [10:21<04:01,  8.64s/it]\u001B[A"
     ]
    },
    {
     "name": "stdout",
     "output_type": "stream",
     "text": [
      "--------------------------------------------- Result 72 ---------------------------------------------\n",
      "[[Negative (100%)]] --> [[Negative (61%)]]\n",
      "\n",
      "This [[show]] [[should]] be [[titled]], \"When [[Bad]] [[Writing]] Happens To Good [[Actors]]\" considering most of the [[players]] have [[demonstrated]] [[immense]] [[talent]] [[in]] other venues, e.g. Andre Braugher in Homicide: Life on the Street and David Morse in St. Elsewhere. I'm [[hoping]] that the frenetic [[pacing]] of the show is adjusted as the series develops along with the obvious cliches and [[dialogue]] so absurd [[I]] wondered just [[how]] stupid the writers imagined the core [[audience]] to be. We're beat over [[the]] head with the main points of this show instead of being left to gradually [[figure]] [[it]] out, almost as if the writers feel that they must [[spell]] out that the main character is some sort of avenging [[angel]], sentenced to redeem himself from sins, both venial and mortal, via butting into his cab fares many affairs. Watching the premiere required much suspension of disbelief, that Mike Olshanskey's fares would so rapidly spill their guts and he would feel driven to intervene in the lives of utter strangers. That he possesses those \"Super-Cop\" abilities, to be all things to all people, weapons expert, martial arts master, psychologist, father-confessor, locksmith, and so on, ad infinitum. Pure drivelesque fantasy. What is it about recent televisions shows based in Philidelphia that they all seem to be imbued with a nasty ex-wife and a very disrepectfully bratty child? Overdone. I wanted to like this show, really I did, because it had the virtue of having a premise slightly different than many of the clones appearing in this season's fare and it stars some of my preferred actors. [[But]] I'm afraid this is just another possibly good idea ruined by careless [[execution]].\n",
      "\n",
      "This [[reveal]] [[shall]] be [[entitled]], \"When [[Inclement]] [[Spell]] Happens To Good [[Performers]]\" considering most of the [[readers]] have [[protested]] [[grande]] [[artist]] [[throughout]] other venues, e.g. Andre Braugher in Homicide: Life on the Street and David Morse in St. Elsewhere. I'm [[meantime]] that the frenetic [[stimulation]] of the show is adjusted as the series develops along with the obvious cliches and [[chitchat]] so absurd [[me]] wondered just [[why]] stupid the writers imagined the core [[public]] to be. We're beat over [[both]] head with the main points of this show instead of being left to gradually [[table]] [[him]] out, almost as if the writers feel that they must [[plight]] out that the main character is some sort of avenging [[cherie]], sentenced to redeem himself from sins, both venial and mortal, via butting into his cab fares many affairs. Watching the premiere required much suspension of disbelief, that Mike Olshanskey's fares would so rapidly spill their guts and he would feel driven to intervene in the lives of utter strangers. That he possesses those \"Super-Cop\" abilities, to be all things to all people, weapons expert, martial arts master, psychologist, father-confessor, locksmith, and so on, ad infinitum. Pure drivelesque fantasy. What is it about recent televisions shows based in Philidelphia that they all seem to be imbued with a nasty ex-wife and a very disrepectfully bratty child? Overdone. I wanted to like this show, really I did, because it had the virtue of having a premise slightly different than many of the clones appearing in this season's fare and it stars some of my preferred actors. [[Yet]] I'm afraid this is just another possibly good idea ruined by careless [[executions]].\n",
      "\n",
      "\n"
     ]
    },
    {
     "name": "stderr",
     "output_type": "stream",
     "text": [
      "\n",
      "[Succeeded / Failed / Skipped / Total] 65 / 0 / 7 / 72:  73%|███████▎  | 73/100 [10:32<03:53,  8.66s/it]\u001B[A\n",
      "[Succeeded / Failed / Skipped / Total] 66 / 0 / 7 / 73:  73%|███████▎  | 73/100 [10:32<03:53,  8.66s/it]\u001B[A"
     ]
    },
    {
     "name": "stdout",
     "output_type": "stream",
     "text": [
      "--------------------------------------------- Result 73 ---------------------------------------------\n",
      "[[Negative (100%)]] --> [[Negative (66%)]]\n",
      "\n",
      "I thought [[maybe]]... [[maybe]] this could be [[good]]. An early [[appearance]] [[by]] the Re-Animator (Jeffery Combs); [[many]] homage's to [[old]] [[horror]] movies; the Troma label [[on]] the front this movie [[could]] [[be]] [[a]] [[gem]]! I [[thought]] [[wrong]].<br /><br />Frightmare is a boring, overplayed, half assed homage to the [[fright]] films of yore. The [[story]] is an old one, young [[people]] breaking into a house, getting drunk, [[making]] [[love]], [[and]] tampering with [[things]] [[that]] shouldn't be tampered with. The oft  recycled slasher film formula is used here, this time with a thought to be dead actor named Conrad Radzoff doing the killing. In [[fact]], the performance by the Radzoff's actor Ferdy Mayne is the [[only]] redeeming quality of this film. He does the snooty Dracula style character very well. But as for the kids, its not so good, with Combs only having a minimal part.<br /><br />The film [[lacks]] entertainment value, and [[only]] [[features]] one cool character, and one or two scenes that can hold your [[attention]]. I do [[not]] [[recommend]] this film unless [[you]] are desperate for something to watch, and this is the only movie [[left]] at blockbuster.\n",
      "\n",
      "I thought [[apt]]... [[eventually]] this could be [[super]]. An early [[onset]] [[into]] the Re-Animator (Jeffery Combs); [[considerable]] homage's to [[former]] [[dislike]] movies; the Troma label [[toward]] the front this movie [[wo]] [[got]] [[another]] [[gemstone]]! I [[concept]] [[mala]].<br /><br />Frightmare is a boring, overplayed, half assed homage to the [[scary]] films of yore. The [[descriptive]] is an old one, young [[volk]] breaking into a house, getting drunk, [[doing]] [[loving]], [[neither]] tampering with [[issue]] [[this]] shouldn't be tampered with. The oft  recycled slasher film formula is used here, this time with a thought to be dead actor named Conrad Radzoff doing the killing. In [[performed]], the performance by the Radzoff's actor Ferdy Mayne is the [[righteous]] redeeming quality of this film. He does the snooty Dracula style character very well. But as for the kids, its not so good, with Combs only having a minimal part.<br /><br />The film [[absenteeism]] entertainment value, and [[simply]] [[ascribe]] one cool character, and one or two scenes that can hold your [[importance]]. I do [[pas]] [[applauds]] this film unless [[thyself]] are desperate for something to watch, and this is the only movie [[forgot]] at blockbuster.\n",
      "\n",
      "\n"
     ]
    },
    {
     "name": "stderr",
     "output_type": "stream",
     "text": [
      "\n",
      "[Succeeded / Failed / Skipped / Total] 66 / 0 / 7 / 73:  74%|███████▍  | 74/100 [10:43<03:46,  8.69s/it]\u001B[A\n",
      "[Succeeded / Failed / Skipped / Total] 67 / 0 / 7 / 74:  74%|███████▍  | 74/100 [10:43<03:46,  8.69s/it]\u001B[A"
     ]
    },
    {
     "name": "stdout",
     "output_type": "stream",
     "text": [
      "--------------------------------------------- Result 74 ---------------------------------------------\n",
      "[[Negative (100%)]] --> [[Negative (57%)]]\n",
      "\n",
      "1983's \"Frightmare\" is an odd little film. The director seems to be [[trying]] to combine the atmosphere of classic '30s/'40s style horror movies with the shock factor of the then-exploding '80s slasher genre. It isn't totally successful (mostly due to very obvious budgetary restraints, and the less-than-professional caliber of its cast of young actors) but it still has its [[moments]], mostly due to the classy performance (classier than the movie deserves) by the late German actor Ferdinand Mayne, who plays an aging old time horror movie star (ala Vincent Price) named \"Conrad Ratzoff.\" At the beginning of the movie we meet the has-been horror star as he's shooting a commercial for dentures and we quickly learn that ol' Conrad is a bit of a hoity-toity, prima donna jerk-off. Just when you think he couldn't be any more un-likable, the commercial director berates Conrad for blowing a take for the umpteenth time and the old goat pushes him off a balcony to his death. Nice, huh? Conrad then visits some fans at a college campus horror movie club, unfortunately he suffers a heart attack in the middle of his speech to them and eventually ends up back at his mansion waiting to die. Still feisty even at Death's door, he manages to do away with a despised business associate by smothering him with a pillow before he finally kicks the bucket himself. Conrad is then laid to rest in true Hollywood style in a high tech neon tomb with video screens above the casket, which will play personal video messages from Conrad himself for visitors who enter to pay their respects.<br /><br />It is at this point that the kids from the college Horror Movie Society decide to pay Conrad's grave an after hours visit, breaking into the tomb and taking his body back home with them for an all night party. (Not exactly my idea of fun, but hey, these are characters in an '80s horror film. Logic has no place here.) The college kids spend the evening having dinner with Conrad's body seated in a place of honor, posing for photos with it and even dancing around the room with it, before parking Conrad and his coffin in the attic, planning to return him to his crypt in the morning. In the meantime, Mrs. Ratzoff, distraught over the theft of her husband's body, has called in a psychic friend to try and \"reach\" Conrad through a seance. You can pretty much figure out the rest from here. Since Conrad wasn't a very nice guy in life, it's not much of a stretch to assume that he won't be any friendlier in death. Psychic Lady makes contact with Conrad and he re-awakens in predictably ticked off fashion, then spends the rest of the movie strolling around the corridors of the students' ridiculously huge house, picking off the young grave robbers one by one. This is where the movie falls apart. Endless scenes of teens wandering around empty hallways saying \"Hello? Is anyone there?\" are intercut with occasional bursts of violence (we do get a pretty gnarly decapitation scene, which is the highlight of the movie) before the last two survivors finally figure out (WAY later than any semi-intelligent people would have figured out the same thing...but again, we're in an '80s horror film!) that the only way to stop the mayhem is to get Conrad's body back to its crypt where it belongs. The sluggish pacing is padded out with a lot of weird lighting and dry ice fog effects backed by a soundtrack made up almost entirely of sound effects rather than music(thunder, moans and groans, howls, etc.) that becomes severely annoying after a while.<br /><br />I can't really recommend \"Frightmare\" to anyone who didn't grow up watching cheap movies like this on late night cable back in the '80s. \"Modern Horror\" fans will doubtlessly find \"Frightmare\" incredibly slow moving and goofy. If you came of age in that magical decade, however, you may get a blast of nostalgia from \"Frightmare.\" Fans of Jeffrey (\"Re-Animator\") Combs may also want to check it out, as the future Dr. West appears in an early role here as one of the unlucky film students.<br /><br />I will advise the reader to avoid the version of this film on the EastWestDVD label (paired with Roy Ward's \"Vault of Horror\" and sold at dollar stores) because the print quality is terrible. I'm told the film has gotten a deluxe release via the fine folks at Troma, which seems appropriate. If you're a Troma kind of person then \"Frightmare\" will be right up your alley.\n",
      "\n",
      "1983's \"Frightmare\" is an odd little film. The director seems to be [[tends]] to combine the atmosphere of classic '30s/'40s style horror movies with the shock factor of the then-exploding '80s slasher genre. It isn't totally successful (mostly due to very obvious budgetary restraints, and the less-than-professional caliber of its cast of young actors) but it still has its [[time]], mostly due to the classy performance (classier than the movie deserves) by the late German actor Ferdinand Mayne, who plays an aging old time horror movie star (ala Vincent Price) named \"Conrad Ratzoff.\" At the beginning of the movie we meet the has-been horror star as he's shooting a commercial for dentures and we quickly learn that ol' Conrad is a bit of a hoity-toity, prima donna jerk-off. Just when you think he couldn't be any more un-likable, the commercial director berates Conrad for blowing a take for the umpteenth time and the old goat pushes him off a balcony to his death. Nice, huh? Conrad then visits some fans at a college campus horror movie club, unfortunately he suffers a heart attack in the middle of his speech to them and eventually ends up back at his mansion waiting to die. Still feisty even at Death's door, he manages to do away with a despised business associate by smothering him with a pillow before he finally kicks the bucket himself. Conrad is then laid to rest in true Hollywood style in a high tech neon tomb with video screens above the casket, which will play personal video messages from Conrad himself for visitors who enter to pay their respects.<br /><br />It is at this point that the kids from the college Horror Movie Society decide to pay Conrad's grave an after hours visit, breaking into the tomb and taking his body back home with them for an all night party. (Not exactly my idea of fun, but hey, these are characters in an '80s horror film. Logic has no place here.) The college kids spend the evening having dinner with Conrad's body seated in a place of honor, posing for photos with it and even dancing around the room with it, before parking Conrad and his coffin in the attic, planning to return him to his crypt in the morning. In the meantime, Mrs. Ratzoff, distraught over the theft of her husband's body, has called in a psychic friend to try and \"reach\" Conrad through a seance. You can pretty much figure out the rest from here. Since Conrad wasn't a very nice guy in life, it's not much of a stretch to assume that he won't be any friendlier in death. Psychic Lady makes contact with Conrad and he re-awakens in predictably ticked off fashion, then spends the rest of the movie strolling around the corridors of the students' ridiculously huge house, picking off the young grave robbers one by one. This is where the movie falls apart. Endless scenes of teens wandering around empty hallways saying \"Hello? Is anyone there?\" are intercut with occasional bursts of violence (we do get a pretty gnarly decapitation scene, which is the highlight of the movie) before the last two survivors finally figure out (WAY later than any semi-intelligent people would have figured out the same thing...but again, we're in an '80s horror film!) that the only way to stop the mayhem is to get Conrad's body back to its crypt where it belongs. The sluggish pacing is padded out with a lot of weird lighting and dry ice fog effects backed by a soundtrack made up almost entirely of sound effects rather than music(thunder, moans and groans, howls, etc.) that becomes severely annoying after a while.<br /><br />I can't really recommend \"Frightmare\" to anyone who didn't grow up watching cheap movies like this on late night cable back in the '80s. \"Modern Horror\" fans will doubtlessly find \"Frightmare\" incredibly slow moving and goofy. If you came of age in that magical decade, however, you may get a blast of nostalgia from \"Frightmare.\" Fans of Jeffrey (\"Re-Animator\") Combs may also want to check it out, as the future Dr. West appears in an early role here as one of the unlucky film students.<br /><br />I will advise the reader to avoid the version of this film on the EastWestDVD label (paired with Roy Ward's \"Vault of Horror\" and sold at dollar stores) because the print quality is terrible. I'm told the film has gotten a deluxe release via the fine folks at Troma, which seems appropriate. If you're a Troma kind of person then \"Frightmare\" will be right up your alley.\n",
      "\n",
      "\n"
     ]
    },
    {
     "name": "stderr",
     "output_type": "stream",
     "text": [
      "\n",
      "[Succeeded / Failed / Skipped / Total] 67 / 0 / 7 / 74:  75%|███████▌  | 75/100 [10:48<03:36,  8.64s/it]\u001B[A\n",
      "[Succeeded / Failed / Skipped / Total] 68 / 0 / 7 / 75:  75%|███████▌  | 75/100 [10:48<03:36,  8.64s/it]\u001B[Atextattack: Saving checkpoint under \"checkpoints\\1682476665122.ta.chkpt\" at 2023-04-25 22:37:45 after 75 attacks.\n"
     ]
    },
    {
     "name": "stdout",
     "output_type": "stream",
     "text": [
      "--------------------------------------------- Result 75 ---------------------------------------------\n",
      "[[Negative (98%)]] --> [[Positive (59%)]]\n",
      "\n",
      "I don't get it! The teenage leads in \"Horror Star\" supposedly all are devoted horror fans, yet when their favorite idol (Conrad Radzoff) passes away, they dig up his corpse and do all sorts of disrespectful stuff with it, like disco-dancing it around the house and throw food leftovers at it. That doesn't sound like something real horror fans would do, now does it? I'm a big horror fan and I immensely idolize departed icons like Vincent Price, Peter Cushing and Boris Karloff, but it would never come to my mind to ridicule their memory. No wonder Conrad comes back from the dead  admittedly, after a séance  to wipe them all off the face of the earth! Mr. Radzoff already wasn't known for his friendliness in life, since he occasionally killed the directors that disagreed with his visions, and even after his death he suffers from a tremendous ego. Even inside his tomb there are video messages to petrify possible visitors and the group of teenagers will vividly experience that he also enjoys the murdering business outside his film sets. \"Horror Star\" (a.k.a. \"Frightmare\" and \"Body Snatchers\") is a pretty [[lame]] 80's horror flick, but there are a handful of cheesy & gory highlights to enjoy. The film mainly suffers from its own stupid plot, since no one  not even a film school student  is stupid enough to steal a recently buried corpse and actually think he'll get away with it, and there are too many tedious moments to struggle through. Conrad's video-speeches from beyond the grave are overly talkative and definitely undermine the tension, but on the other hand his killing methods are pleasingly inventive. One teenager enjoys the experience of getting cremated alive and another one (Jeffrey Combs in one of his first roles!) loses his head in a delightful decapitation sequence. In the absolute messiest sequence, a poor girl' head is crushed by a coffin. Writer/director Norman Thaddeus Vane wanted to bring homage to vintage horror cinema and he obviously how to make film look sinister. The locations and scenery are great, but Vane lacked the necessary funds to provide his film with a proper continuity and editing-job. The acting performances are overall decent, with Ferdy Mayne (imitating Christopher Lee) and Jeffrey Combs delivering the most memorable roles. \"Horror Star\" can hardly be called a must-see or even a good film, but it's worth tracking down in case you're an admirer of enthusiastically made B-horror.\n",
      "\n",
      "I don't get it! The teenage leads in \"Horror Star\" supposedly all are devoted horror fans, yet when their favorite idol (Conrad Radzoff) passes away, they dig up his corpse and do all sorts of disrespectful stuff with it, like disco-dancing it around the house and throw food leftovers at it. That doesn't sound like something real horror fans would do, now does it? I'm a big horror fan and I immensely idolize departed icons like Vincent Price, Peter Cushing and Boris Karloff, but it would never come to my mind to ridicule their memory. No wonder Conrad comes back from the dead  admittedly, after a séance  to wipe them all off the face of the earth! Mr. Radzoff already wasn't known for his friendliness in life, since he occasionally killed the directors that disagreed with his visions, and even after his death he suffers from a tremendous ego. Even inside his tomb there are video messages to petrify possible visitors and the group of teenagers will vividly experience that he also enjoys the murdering business outside his film sets. \"Horror Star\" (a.k.a. \"Frightmare\" and \"Body Snatchers\") is a pretty [[paltry]] 80's horror flick, but there are a handful of cheesy & gory highlights to enjoy. The film mainly suffers from its own stupid plot, since no one  not even a film school student  is stupid enough to steal a recently buried corpse and actually think he'll get away with it, and there are too many tedious moments to struggle through. Conrad's video-speeches from beyond the grave are overly talkative and definitely undermine the tension, but on the other hand his killing methods are pleasingly inventive. One teenager enjoys the experience of getting cremated alive and another one (Jeffrey Combs in one of his first roles!) loses his head in a delightful decapitation sequence. In the absolute messiest sequence, a poor girl' head is crushed by a coffin. Writer/director Norman Thaddeus Vane wanted to bring homage to vintage horror cinema and he obviously how to make film look sinister. The locations and scenery are great, but Vane lacked the necessary funds to provide his film with a proper continuity and editing-job. The acting performances are overall decent, with Ferdy Mayne (imitating Christopher Lee) and Jeffrey Combs delivering the most memorable roles. \"Horror Star\" can hardly be called a must-see or even a good film, but it's worth tracking down in case you're an admirer of enthusiastically made B-horror.\n",
      "\n",
      "\n",
      "\n",
      "\n",
      "=============================================================================================================================\n",
      "=============================================================================================================================\n",
      "\n"
     ]
    },
    {
     "name": "stderr",
     "output_type": "stream",
     "text": [
      "\n",
      "[Succeeded / Failed / Skipped / Total] 68 / 0 / 7 / 75:  76%|███████▌  | 76/100 [10:50<03:25,  8.56s/it]\u001B[A\n",
      "[Succeeded / Failed / Skipped / Total] 69 / 0 / 7 / 76:  76%|███████▌  | 76/100 [10:50<03:25,  8.56s/it]\u001B[A"
     ]
    },
    {
     "name": "stdout",
     "output_type": "stream",
     "text": [
      "--------------------------------------------- Result 76 ---------------------------------------------\n",
      "[[Negative (100%)]] --> [[Positive (53%)]]\n",
      "\n",
      "Conrad Radzoff(Ferdy Mayne), a hammy cult icon, dies from a heart ailment(not before disposing of an ungrateful assistant and TV commercial director, both of whom disrespected him with showers of insults). His body is removed from his mausoleum by some film students(they wish to \"invite him to dinner\"..they are quite big fans). What these kids(..including a young Jeffrey Combs)don't expect is that Radzoff will be resurrected by a medium to wreak havoc on those who removed him from his place of rest.<br /><br />The list of violent acts include Radzoff pulling one guy's tongue out, setting a woman on fire, elevating a casket which crushes a woman's face, decapitates one fellow, and cremates another guy alive in a coffin. A really weird soundtrack and [[pesky]] fog wraps around Radzoff's ghoulish activities.<br /><br />Silly hokum from Troma is limited by a very, very low budget and slowwwwww pace. The film feels a lot longer than it is. The film isn't really that gory and we can hardly see much violence because the film is often too damn dark. At times, Radzoff is an ominous presence, yet at other times he just looks real silly.\n",
      "\n",
      "Conrad Radzoff(Ferdy Mayne), a hammy cult icon, dies from a heart ailment(not before disposing of an ungrateful assistant and TV commercial director, both of whom disrespected him with showers of insults). His body is removed from his mausoleum by some film students(they wish to \"invite him to dinner\"..they are quite big fans). What these kids(..including a young Jeffrey Combs)don't expect is that Radzoff will be resurrected by a medium to wreak havoc on those who removed him from his place of rest.<br /><br />The list of violent acts include Radzoff pulling one guy's tongue out, setting a woman on fire, elevating a casket which crushes a woman's face, decapitates one fellow, and cremates another guy alive in a coffin. A really weird soundtrack and [[unnerving]] fog wraps around Radzoff's ghoulish activities.<br /><br />Silly hokum from Troma is limited by a very, very low budget and slowwwwww pace. The film feels a lot longer than it is. The film isn't really that gory and we can hardly see much violence because the film is often too damn dark. At times, Radzoff is an ominous presence, yet at other times he just looks real silly.\n",
      "\n",
      "\n"
     ]
    },
    {
     "name": "stderr",
     "output_type": "stream",
     "text": [
      "\n",
      "[Succeeded / Failed / Skipped / Total] 69 / 0 / 7 / 76:  77%|███████▋  | 77/100 [10:58<03:16,  8.55s/it]\u001B[A\n",
      "[Succeeded / Failed / Skipped / Total] 70 / 0 / 7 / 77:  77%|███████▋  | 77/100 [10:58<03:16,  8.56s/it]\u001B[A"
     ]
    },
    {
     "name": "stdout",
     "output_type": "stream",
     "text": [
      "--------------------------------------------- Result 77 ---------------------------------------------\n",
      "[[Negative (100%)]] --> [[Negative (68%)]]\n",
      "\n",
      "One of the last surviving horror screen greats - Conrad Radzoff - dies and has his body placed in a mausoleum with televised-before-death snippets of the great Conrad greeting you as you visit. Unfortunately for him and his captors, Conrad's body is \"borrowed\" by a gang of four boys and three girls and taken to a huge manor where they drink with him, toast him, dance with him, laugh with and at him, and then put him to bed in a casket which just happens to by lying in a room upstairs. News of the missing body reaches Radzoff's widow and her friend(who happens to be proficient in the black arts) and she holds some kind of ceremony that brings Conrad back to life so he can, in his own words, get \"an eye for an eye, a tooth for a tooth.\" Well, Frightmare is an interesting \"[[bad]]\" film. Sure, it is cheap. The sets look like they were borrowed(which I am sure they were). The special effects and blood and guts are done liberally and with little credibility. The acting is average to below average with a few exceptions. Jeffrey Combs of Re-Animator fame is in tow, but really he does [[little]] in this rather thankless role as a horror obsessed teen that needs to steal a dead man's body for kicks. None of the \"kids\" except the pretty girl playing Meg is any [[good]]. Nita Talbot plays the \"friend\" of the Radzoffs with withering interest. Also, look for the big - I mean big - guy that plays the policeman. That is Porky himself of Porkys fame. But thankfully for all of us, one performance does rise above the material. Ferdy Mayne, an oft overlooked actor from Germany who had Christopher Lee features and did star as a vampire in The Fearless Vampire Killers, does a more than commendable job as the aging horror icon in public life and a real demon of a man in private life. Conrad Radzoff in a bad human being in life, living solely for his own pleasures and we see him kill twice before he is even dead(obviously none of the swinging teens at that point). Mayne [[is]] able to look very regal, [[speak]] very elegantly, and convey menace with ease. If for no other reason, one should see Frightmare for his performance. I do; however, believe that when they showed black and white clips of Radzoff that they used Christopher Lee footage(anyone have any thoughts?). Anyway, one can guess what happens and it does indeed: Radzoff goes out and goes after the kids that disturbed his peace. Again, the formula is trite and overused. The acting for the most part is anemic, and the direction oh so ridiculous. But Mayne gives a good performance in a sea of ineptitude. Definitely worth a little peek. Watching Mayne keep popping up on screens in his mausoleum brought a wry smile to my lips each time.\n",
      "\n",
      "One of the last surviving horror screen greats - Conrad Radzoff - dies and has his body placed in a mausoleum with televised-before-death snippets of the great Conrad greeting you as you visit. Unfortunately for him and his captors, Conrad's body is \"borrowed\" by a gang of four boys and three girls and taken to a huge manor where they drink with him, toast him, dance with him, laugh with and at him, and then put him to bed in a casket which just happens to by lying in a room upstairs. News of the missing body reaches Radzoff's widow and her friend(who happens to be proficient in the black arts) and she holds some kind of ceremony that brings Conrad back to life so he can, in his own words, get \"an eye for an eye, a tooth for a tooth.\" Well, Frightmare is an interesting \"[[inauspicious]]\" film. Sure, it is cheap. The sets look like they were borrowed(which I am sure they were). The special effects and blood and guts are done liberally and with little credibility. The acting is average to below average with a few exceptions. Jeffrey Combs of Re-Animator fame is in tow, but really he does [[slightly]] in this rather thankless role as a horror obsessed teen that needs to steal a dead man's body for kicks. None of the \"kids\" except the pretty girl playing Meg is any [[buon]]. Nita Talbot plays the \"friend\" of the Radzoffs with withering interest. Also, look for the big - I mean big - guy that plays the policeman. That is Porky himself of Porkys fame. But thankfully for all of us, one performance does rise above the material. Ferdy Mayne, an oft overlooked actor from Germany who had Christopher Lee features and did star as a vampire in The Fearless Vampire Killers, does a more than commendable job as the aging horror icon in public life and a real demon of a man in private life. Conrad Radzoff in a bad human being in life, living solely for his own pleasures and we see him kill twice before he is even dead(obviously none of the swinging teens at that point). Mayne [[becomes]] able to look very regal, [[told]] very elegantly, and convey menace with ease. If for no other reason, one should see Frightmare for his performance. I do; however, believe that when they showed black and white clips of Radzoff that they used Christopher Lee footage(anyone have any thoughts?). Anyway, one can guess what happens and it does indeed: Radzoff goes out and goes after the kids that disturbed his peace. Again, the formula is trite and overused. The acting for the most part is anemic, and the direction oh so ridiculous. But Mayne gives a good performance in a sea of ineptitude. Definitely worth a little peek. Watching Mayne keep popping up on screens in his mausoleum brought a wry smile to my lips each time.\n",
      "\n",
      "\n"
     ]
    },
    {
     "name": "stderr",
     "output_type": "stream",
     "text": [
      "\n",
      "[Succeeded / Failed / Skipped / Total] 70 / 0 / 7 / 77:  78%|███████▊  | 78/100 [11:06<03:07,  8.54s/it]\u001B[A\n",
      "[Succeeded / Failed / Skipped / Total] 71 / 0 / 7 / 78:  78%|███████▊  | 78/100 [11:06<03:07,  8.54s/it]\u001B[A"
     ]
    },
    {
     "name": "stdout",
     "output_type": "stream",
     "text": [
      "--------------------------------------------- Result 78 ---------------------------------------------\n",
      "[[Negative (100%)]] --> [[Negative (61%)]]\n",
      "\n",
      "My parents used to rent a lot of horror movies when I was a child. We loved watching them even when they were bad they made for some enjoyment. This was one such movie, kind of hard to review as I have only seen it the one time as a child, but it is not anything I want to track down again so I [[can]] do a more in-depth review. The [[story]] [[has]] some old horror actor [[legend]] [[dying]]. I seem to remember [[he]] acted a bit like an over the top Vincent [[Price]], without being [[likable]] and classy. He commits murders and dies, but what is [[this]]? Is the [[movie]] over [[already]]? No, as some kids for some reason snag the body and are prepared for a fun night of being killed by the ham from beyond the grave. I [[remember]] the murders were nothing all that special after the first couple [[and]] I remember this movie was rather disappointing. Seemed to have a good [[premise]], but it [[just]] [[failed]] to deliver the goods as more cool [[kills]] were [[needed]] and that super horror [[actor]] needed to add a bit to his repertoire.\n",
      "\n",
      "My parents used to rent a lot of horror movies when I was a child. We loved watching them even when they were bad they made for some enjoyment. This was one such movie, kind of hard to review as I have only seen it the one time as a child, but it is not anything I want to track down again so I [[kan]] do a more in-depth review. The [[storytelling]] [[enjoy]] some old horror actor [[saga]] [[mortality]]. I seem to remember [[him]] acted a bit like an over the top Vincent [[Award]], without being [[unlikable]] and classy. He commits murders and dies, but what is [[esa]]? Is the [[filming]] over [[currently]]? No, as some kids for some reason snag the body and are prepared for a fun night of being killed by the ham from beyond the grave. I [[memorial]] the murders were nothing all that special after the first couple [[neither]] I remember this movie was rather disappointing. Seemed to have a good [[suppositions]], but it [[uniquely]] [[missed]] to deliver the goods as more cool [[homicide]] were [[compel]] and that super horror [[soloist]] needed to add a bit to his repertoire.\n",
      "\n",
      "\n"
     ]
    },
    {
     "name": "stderr",
     "output_type": "stream",
     "text": [
      "\n",
      "[Succeeded / Failed / Skipped / Total] 71 / 0 / 7 / 78:  79%|███████▉  | 79/100 [11:10<02:58,  8.49s/it]\u001B[A\n",
      "[Succeeded / Failed / Skipped / Total] 72 / 0 / 7 / 79:  79%|███████▉  | 79/100 [11:10<02:58,  8.49s/it]\u001B[A\n",
      "[Succeeded / Failed / Skipped / Total] 72 / 0 / 8 / 80:  80%|████████  | 80/100 [11:10<02:47,  8.39s/it]\u001B[Atextattack: Saving checkpoint under \"checkpoints\\1682476688057.ta.chkpt\" at 2023-04-25 22:38:08 after 80 attacks.\n"
     ]
    },
    {
     "name": "stdout",
     "output_type": "stream",
     "text": [
      "--------------------------------------------- Result 79 ---------------------------------------------\n",
      "[[Negative (100%)]] --> [[Positive (82%)]]\n",
      "\n",
      "Frightmare begins with a horror movie icon killing a director and then his servant before he is laid to rest. This icon, who has some Christopher Lee qualities to him, then continues to haunt those around him when a group of horror film society students steal his corpse from the mausoleum he is in.<br /><br />The first ten minutes is well-filmed, good writing and lots of potential for murderous mayhem. But the film drags in the middle (although thankfully not as much as \"House of Death\") and [[never]] really gets that initial spurt of energy back.<br /><br />Lots of the deaths are confusing, as they seem to have people just falling over scared when they see a floating coffin or other odd things. Twice we see poisonous gas being used. But the box promises that this horror star will be the embodiment of all the monsters he has played. Boy, is that false advertising, unless he spent his career playing boring old men who take naps and watch \"Matlock\".<br /><br />The general principle of the film is decent: horror society kids stealing a corpse of a dead icon. A modern equivalent (digging up Vincent Price or Peter Cushing) would make a great film. Maybe a remake is in order if that wouldn't be too disrespectful. Sometimes theory doesn't come across as well in application, and this film offers that example.<br /><br />The [[only]] redeeming quality of this film (besides the beginning) is the brief appearance of a very young Jeffrey Combs. I saw him and thought \"that's Jeffrey Combs\" but felt I was mistaken as the box never mentioned him. But sure enough, Combs was present. (A note to this movie's film-makers: mention Combs on the cover of the DVD, you'll sell more copies if if you would be deceiving customers.) If you're a Jeffrey Combs die-hard, check out this early role. Otherwise, I [[cannot]] offer this as a great selection for a horror movie marathon. Let me suggest \"Intruder\" or \"Popcorn\", as those are both pretty decent and will stand the test of time.\n",
      "\n",
      "Frightmare begins with a horror movie icon killing a director and then his servant before he is laid to rest. This icon, who has some Christopher Lee qualities to him, then continues to haunt those around him when a group of horror film society students steal his corpse from the mausoleum he is in.<br /><br />The first ten minutes is well-filmed, good writing and lots of potential for murderous mayhem. But the film drags in the middle (although thankfully not as much as \"House of Death\") and [[forever]] really gets that initial spurt of energy back.<br /><br />Lots of the deaths are confusing, as they seem to have people just falling over scared when they see a floating coffin or other odd things. Twice we see poisonous gas being used. But the box promises that this horror star will be the embodiment of all the monsters he has played. Boy, is that false advertising, unless he spent his career playing boring old men who take naps and watch \"Matlock\".<br /><br />The general principle of the film is decent: horror society kids stealing a corpse of a dead icon. A modern equivalent (digging up Vincent Price or Peter Cushing) would make a great film. Maybe a remake is in order if that wouldn't be too disrespectful. Sometimes theory doesn't come across as well in application, and this film offers that example.<br /><br />The [[uniquely]] redeeming quality of this film (besides the beginning) is the brief appearance of a very young Jeffrey Combs. I saw him and thought \"that's Jeffrey Combs\" but felt I was mistaken as the box never mentioned him. But sure enough, Combs was present. (A note to this movie's film-makers: mention Combs on the cover of the DVD, you'll sell more copies if if you would be deceiving customers.) If you're a Jeffrey Combs die-hard, check out this early role. Otherwise, I [[whopping]] offer this as a great selection for a horror movie marathon. Let me suggest \"Intruder\" or \"Popcorn\", as those are both pretty decent and will stand the test of time.\n",
      "\n",
      "\n",
      "--------------------------------------------- Result 80 ---------------------------------------------\n",
      "[[Positive (80%)]] --> [[[SKIPPED]]]\n",
      "\n",
      "It's Saturday, it's raining, and I think every movie should have at least one comment... so I just watched \"The Crime Doctor's Courage\" all the way through. It's a murder mystery with a typical cast of characters, and a couple of the usual suspects -- each with their own possible motive for the crime. The story starts abruptly and the viewer is thrown into the plot with no character development or storytelling whatsoever. I guess that's not too surprising for a B movie of this period. There are also some moments which look and feel like this is pre-WWII, but perhaps that is due to the writer's background in radio shows.<br /><br />The \"Crime Doctor\" is the sleuth who happens to be visiting California for some R&R from his psychiatry practice on the East coast. He hooks up with a mystery novelist friend with whom it is implied has been along for one or more previous mystery solving capers. The novelist occasionally fills the role of sidekick to our sleuth (AKA Dr. Watson), and also occasionally lightens things up with a bit of comic relief (sort of).<br /><br />There is also a somewhat simple, but not quite bumbling police captain who at times is annoyed by the meddling sleuth. And then there are the mysterious Braggas, a brother and sister who are dance artists at a night-club. The dance is sort of an interpretive dance that happens to be one of those moments which feels more like the 30's than the 40's. Though the story location is California, the Braggas appear to live in a castle!<br /><br />There was one plot element which managed to keep me somewhat amused, but I won't divulge any more than that because I always enjoy movies more when the story is discovered, rather than known in advance. (even though I can think of many, many, B films which would rate higher and it is difficult to say that watching this one is time well spent) I have not seen any other movies from the \"Crime Doctor\" series, so I can't make any comparisons.\n",
      "\n",
      "\n",
      "\n",
      "\n",
      "=============================================================================================================================\n",
      "=============================================================================================================================\n",
      "\n"
     ]
    },
    {
     "name": "stderr",
     "output_type": "stream",
     "text": [
      "\n",
      "[Succeeded / Failed / Skipped / Total] 72 / 0 / 8 / 80:  81%|████████  | 81/100 [11:13<02:37,  8.31s/it]\u001B[A\n",
      "[Succeeded / Failed / Skipped / Total] 73 / 0 / 8 / 81:  81%|████████  | 81/100 [11:13<02:37,  8.31s/it]\u001B[A"
     ]
    },
    {
     "name": "stdout",
     "output_type": "stream",
     "text": [
      "--------------------------------------------- Result 81 ---------------------------------------------\n",
      "[[Negative (100%)]] --> [[Positive (68%)]]\n",
      "\n",
      "I caught this on IFC last week and I thought it was typical of the indie short subject film: heavy on style, [[little]] on substance and [[originality]]. Does it comes as any surprise that a coming out film stars an unusually attractive (and blond to boot) boy with 70s shag hair and too-cool-for-school clothes? Plus, this film wallows in late 1970s chic, which works for some (Sofia Coppola's \"The Virgin Suicides\" comes to mind) but not for this [[director]].<br /><br />Another reviewer compared this to Harmony Korine's work and I agree. Yet I don't view this as a [[positive]] thing (what has HE done lately, anyway?). \"Bobbycrush\" is really just a [[waste]] of time and energy for all involved. If you happen to see it late night on cable, turn the channel and watch something else instead.\n",
      "\n",
      "I caught this on IFC last week and I thought it was typical of the indie short subject film: heavy on style, [[small]] on substance and [[distinctive]]. Does it comes as any surprise that a coming out film stars an unusually attractive (and blond to boot) boy with 70s shag hair and too-cool-for-school clothes? Plus, this film wallows in late 1970s chic, which works for some (Sofia Coppola's \"The Virgin Suicides\" comes to mind) but not for this [[managers]].<br /><br />Another reviewer compared this to Harmony Korine's work and I agree. Yet I don't view this as a [[promising]] thing (what has HE done lately, anyway?). \"Bobbycrush\" is really just a [[wastage]] of time and energy for all involved. If you happen to see it late night on cable, turn the channel and watch something else instead.\n",
      "\n",
      "\n"
     ]
    },
    {
     "name": "stderr",
     "output_type": "stream",
     "text": [
      "\n",
      "[Succeeded / Failed / Skipped / Total] 74 / 0 / 8 / 82:  82%|████████▏ | 82/100 [11:18<02:28,  8.28s/it]\u001B[A"
     ]
    },
    {
     "name": "stdout",
     "output_type": "stream",
     "text": [
      "--------------------------------------------- Result 82 ---------------------------------------------\n",
      "[[Negative (100%)]] --> [[Positive (90%)]]\n",
      "\n",
      "Acolytes presents an interesting mix of original concepts in \"screaming teen\" cliché horror with a more thriller-like pacing. In some ways Acolytes is very successful, but in many other ways the film fails [[miserably]].<br /><br />Overall Acolytes avoided the typical archetypes of the naivety and innocence of youth of endless horror films in the like of Cabin Fever, Texas Chainsaw Massacre, and countless other films where unsuspecting and relatively naive and innocent teenagers, have sex, run around screaming and one-by-one are plucked off by some sort of monster. Instead this innocence is replaced with pride, retaliation, and arrogance. The characters had several opportunities to save themselves from immanent death and despair, but failed to do so due to their own personal demons. In the end you were left with the feeling that there were no (and perhaps are no) innocent victims.<br /><br />As the name implies, the film also touches greatly on following a leader or authority. This was used in a direct sense of if the main character would become like the serial killer and was also used less directly throughout the film. Following a central figure is a reoccurring theme throughout the film.<br /><br />Through all this, the film makers also incorporated a lot of cliché, which I suspect was intentional and gave the film a unique mixture of depth as well as shallowness which I found intriguing. This, perhaps inadvertently, plays well with the characters who are, at first appearance very shallow but as the story unfolds it becomes obvious that they are, at least the two main male characters, quite complex.<br /><br />Technically the film has a lot of problems however. The cinematography, which is typically regarded highly, I find rather sophomoric and over-stylized, utilizing formulaic 2/3 approaches far too rigidly. Many transitions I felt were also over-stylized. The use of symbolism was not only vague, but also greatly over used.<br /><br />The plot was poorly planned and relied exclusively on misinformation in order to achieve a rather hokey twist ending, which was poorly resolved and leaves viewers confused. Methods used to resolve the climax are cheap and ill-prepared, motivations are routinely unclear, and major plot points remain untied in the end.<br /><br />Overall, the film's relative originality, themes and thesis are lost in a maze of poor technical execution, over-stylized imagery, unclear motives, obtuse and unnecessary symbolism and cheap twists maintained only by a lack of or entirely incorrect information.<br /><br />If the film were better executed, it would have been excellent. However, Acolytes receives only two stars in my opinion.\n",
      "\n",
      "Acolytes presents an interesting mix of original concepts in \"screaming teen\" cliché horror with a more thriller-like pacing. In some ways Acolytes is very successful, but in many other ways the film fails [[terrifically]].<br /><br />Overall Acolytes avoided the typical archetypes of the naivety and innocence of youth of endless horror films in the like of Cabin Fever, Texas Chainsaw Massacre, and countless other films where unsuspecting and relatively naive and innocent teenagers, have sex, run around screaming and one-by-one are plucked off by some sort of monster. Instead this innocence is replaced with pride, retaliation, and arrogance. The characters had several opportunities to save themselves from immanent death and despair, but failed to do so due to their own personal demons. In the end you were left with the feeling that there were no (and perhaps are no) innocent victims.<br /><br />As the name implies, the film also touches greatly on following a leader or authority. This was used in a direct sense of if the main character would become like the serial killer and was also used less directly throughout the film. Following a central figure is a reoccurring theme throughout the film.<br /><br />Through all this, the film makers also incorporated a lot of cliché, which I suspect was intentional and gave the film a unique mixture of depth as well as shallowness which I found intriguing. This, perhaps inadvertently, plays well with the characters who are, at first appearance very shallow but as the story unfolds it becomes obvious that they are, at least the two main male characters, quite complex.<br /><br />Technically the film has a lot of problems however. The cinematography, which is typically regarded highly, I find rather sophomoric and over-stylized, utilizing formulaic 2/3 approaches far too rigidly. Many transitions I felt were also over-stylized. The use of symbolism was not only vague, but also greatly over used.<br /><br />The plot was poorly planned and relied exclusively on misinformation in order to achieve a rather hokey twist ending, which was poorly resolved and leaves viewers confused. Methods used to resolve the climax are cheap and ill-prepared, motivations are routinely unclear, and major plot points remain untied in the end.<br /><br />Overall, the film's relative originality, themes and thesis are lost in a maze of poor technical execution, over-stylized imagery, unclear motives, obtuse and unnecessary symbolism and cheap twists maintained only by a lack of or entirely incorrect information.<br /><br />If the film were better executed, it would have been excellent. However, Acolytes receives only two stars in my opinion.\n",
      "\n",
      "\n"
     ]
    },
    {
     "name": "stderr",
     "output_type": "stream",
     "text": [
      "\n",
      "[Succeeded / Failed / Skipped / Total] 74 / 0 / 8 / 82:  83%|████████▎ | 83/100 [11:22<02:19,  8.22s/it]\u001B[A\n",
      "[Succeeded / Failed / Skipped / Total] 75 / 0 / 8 / 83:  83%|████████▎ | 83/100 [11:22<02:19,  8.22s/it]\u001B[A"
     ]
    },
    {
     "name": "stdout",
     "output_type": "stream",
     "text": [
      "--------------------------------------------- Result 83 ---------------------------------------------\n",
      "[[Negative (100%)]] --> [[Negative (66%)]]\n",
      "\n",
      "This was a decent movie for the [[first]] half. Too many cheap BOO! moments but the tension builds, the bad guys [[are]] creepy and everything seems to be setting itself up nicely. The kids are not particularly deep but hey, that works for teens. <br /><br />[[Then]] [[it]] [[just]] [[gets]] ridiculous [[and]] tries way too hard- the \"why in the world would he/they do that?\" moments overwhelm anyone's [[capacity]] for suspension of disbelief, the twist involves too many ridiculous [[coincidences]], and the title comes from a late attempt to philosophize some meaning [[into]] the film that goes nowhere and is quickly dropped. There was laughter in the theater at moments that were in no way supposed to be funny. <br /><br />Great premise but just badly written and doesn't hold together. Some very nice shots but they're hard to enjoy while you're rolling your eyes.\n",
      "\n",
      "This was a decent movie for the [[original]] half. Too many cheap BOO! moments but the tension builds, the bad guys [[ai]] creepy and everything seems to be setting itself up nicely. The kids are not particularly deep but hey, that works for teens. <br /><br />[[Formerly]] [[he]] [[barely]] [[become]] ridiculous [[neither]] tries way too hard- the \"why in the world would he/they do that?\" moments overwhelm anyone's [[jurisdiction]] for suspension of disbelief, the twist involves too many ridiculous [[coincide]], and the title comes from a late attempt to philosophize some meaning [[of]] the film that goes nowhere and is quickly dropped. There was laughter in the theater at moments that were in no way supposed to be funny. <br /><br />Great premise but just badly written and doesn't hold together. Some very nice shots but they're hard to enjoy while you're rolling your eyes.\n",
      "\n",
      "\n"
     ]
    },
    {
     "name": "stderr",
     "output_type": "stream",
     "text": [
      "\n",
      "[Succeeded / Failed / Skipped / Total] 76 / 0 / 8 / 84:  84%|████████▍ | 84/100 [11:24<02:10,  8.15s/it]\u001B[A"
     ]
    },
    {
     "name": "stdout",
     "output_type": "stream",
     "text": [
      "--------------------------------------------- Result 84 ---------------------------------------------\n",
      "[[Negative (100%)]] --> [[Positive (53%)]]\n",
      "\n",
      "A rather lame teen slasher from Brisbane. [[While]] the [[plot]] hinges on a fairly decent [[idea]], the [[writing]] is profoundly [[lame]] and two of the three main teens are absurdly wooden. The problem is that for the kids to go through with their plan they have to be far more reckless than shown, but if they were that devil-may-care, it would perhaps be hard for them to be likable, so they end up being neither really. In fact, I only started enjoying the film when I started wishing for their death. One of those movies where in about a thousand places the most sensible option would be to call the police. I realise we wouldn't have a movie if they did, but it would be nice if we could believe that they actually wouldn't. Avoid.\n",
      "\n",
      "A rather lame teen slasher from Brisbane. [[During]] the [[conspiring]] hinges on a fairly decent [[kwun]], the [[writer]] is profoundly [[uninspiring]] and two of the three main teens are absurdly wooden. The problem is that for the kids to go through with their plan they have to be far more reckless than shown, but if they were that devil-may-care, it would perhaps be hard for them to be likable, so they end up being neither really. In fact, I only started enjoying the film when I started wishing for their death. One of those movies where in about a thousand places the most sensible option would be to call the police. I realise we wouldn't have a movie if they did, but it would be nice if we could believe that they actually wouldn't. Avoid.\n",
      "\n",
      "\n"
     ]
    },
    {
     "name": "stderr",
     "output_type": "stream",
     "text": [
      "\n",
      "[Succeeded / Failed / Skipped / Total] 76 / 0 / 8 / 84:  85%|████████▌ | 85/100 [11:29<02:01,  8.12s/it]\u001B[A\n",
      "[Succeeded / Failed / Skipped / Total] 77 / 0 / 8 / 85:  85%|████████▌ | 85/100 [11:29<02:01,  8.12s/it]\u001B[Atextattack: Saving checkpoint under \"checkpoints\\1682476706925.ta.chkpt\" at 2023-04-25 22:38:26 after 85 attacks.\n"
     ]
    },
    {
     "name": "stdout",
     "output_type": "stream",
     "text": [
      "--------------------------------------------- Result 85 ---------------------------------------------\n",
      "[[Negative (100%)]] --> [[Negative (54%)]]\n",
      "\n",
      "I was completely [[bored]] with this film, [[melodramatic]] for no apparent reason. [[Every]] thing just [[becomes]] so serious and people are swearing with really dumb expressions. Then there is a serial Killer who apparently can Kill one person to get the title of serial Killer. Well the serial Killer likes butterflies and is illustrated by sound effects you might hear in the dream sequence of most modern films;<br /><br />why oh why? I nave no idea. It really really wants to [[be]] [[scary]], but I think [[in]] this [[universe]] scary equals talk a whole bunch and add dark ambient noises.Just for the record, this is in no way is a horror film, its most definitely a thriller ([[barely]]). Really movie [[makers]] nowadays need to do their homework before making \"[[horror]]\" films or at least calling a movie a \"horror\" film. it makes me [[say]] (in too may words ironically) \"acolytes, you take forever to say nothing.\"\n",
      "\n",
      "I was completely [[bores]] with this film, [[wistful]] for no apparent reason. [[Chaque]] thing just [[is]] so serious and people are swearing with really dumb expressions. Then there is a serial Killer who apparently can Kill one person to get the title of serial Killer. Well the serial Killer likes butterflies and is illustrated by sound effects you might hear in the dream sequence of most modern films;<br /><br />why oh why? I nave no idea. It really really wants to [[are]] [[fearful]], but I think [[entre]] this [[cosmic]] scary equals talk a whole bunch and add dark ambient noises.Just for the record, this is in no way is a horror film, its most definitely a thriller ([[miraculously]]). Really movie [[bringer]] nowadays need to do their homework before making \"[[horrifying]]\" films or at least calling a movie a \"horror\" film. it makes me [[talk]] (in too may words ironically) \"acolytes, you take forever to say nothing.\"\n",
      "\n",
      "\n",
      "\n",
      "\n",
      "=============================================================================================================================\n",
      "=============================================================================================================================\n",
      "\n"
     ]
    },
    {
     "name": "stderr",
     "output_type": "stream",
     "text": [
      "\n",
      "[Succeeded / Failed / Skipped / Total] 78 / 0 / 8 / 86:  86%|████████▌ | 86/100 [11:36<01:53,  8.10s/it]\u001B[A"
     ]
    },
    {
     "name": "stdout",
     "output_type": "stream",
     "text": [
      "--------------------------------------------- Result 86 ---------------------------------------------\n",
      "[[Negative (100%)]] --> [[Negative (68%)]]\n",
      "\n",
      "Art-house horror tries to use unconventional aesthetics to cover the fact that this is just another [[serial]] killer chiller which ultimately [[relies]] on [[pornographic]] combinations of teen sexuality and violent gore. The suburbs [[come]] across about as well as they do in every piece of Australian writing (book or [[film]]) [[since]] 1960 - surprise surprise, the suburbs have a dark underbelly - [[and]] the plot is as contrived as any you've seen. \"The [[neighbours]] would never know about this guy,\" one of the filmmakers says about Joel Edgerton's character. \"But he was completely [[plausible]] as to what he was. Serial killers don't all have patches over their eyes and scars down their cheeks. They look like the guy next door.\" Another trader in pornographic violence who sees a serial killer in every street. But the real [[insignificance]] of this film is in the fact that it's a genre film that nobody saw. Backed by substantial funds (including some from Film Finance - that's government), this got a run at the Underground Film Festival in Melbourne and had to rely on ACMI kindness for a *very* short release season. Q1: What is the FFC doing funding genre flicks, even if they are 'arty' and aesthetically unconventional? Q2: Why are these nasty movies (ACOLYTES; BEAUTIFUL; PUNISHMENT; NO THROUGH ROAD) being made in the first place? Richard Wolstencroft & co encourage their creators to believe they're giving the masses what they really want, as opposed to what the culture elite in government funding think they want. The truth is that [[these]] brutal and [[forgettable]] nasties earn far more critical acclaim - and win far more obscure awards - than they're due.\n",
      "\n",
      "Art-house horror tries to use unconventional aesthetics to cover the fact that this is just another [[installment]] killer chiller which ultimately [[draws]] on [[dirty]] combinations of teen sexuality and violent gore. The suburbs [[future]] across about as well as they do in every piece of Australian writing (book or [[photos]]) [[than]] 1960 - surprise surprise, the suburbs have a dark underbelly - [[neither]] the plot is as contrived as any you've seen. \"The [[neighborhood]] would never know about this guy,\" one of the filmmakers says about Joel Edgerton's character. \"But he was completely [[believable]] as to what he was. Serial killers don't all have patches over their eyes and scars down their cheeks. They look like the guy next door.\" Another trader in pornographic violence who sees a serial killer in every street. But the real [[smallness]] of this film is in the fact that it's a genre film that nobody saw. Backed by substantial funds (including some from Film Finance - that's government), this got a run at the Underground Film Festival in Melbourne and had to rely on ACMI kindness for a *very* short release season. Q1: What is the FFC doing funding genre flicks, even if they are 'arty' and aesthetically unconventional? Q2: Why are these nasty movies (ACOLYTES; BEAUTIFUL; PUNISHMENT; NO THROUGH ROAD) being made in the first place? Richard Wolstencroft & co encourage their creators to believe they're giving the masses what they really want, as opposed to what the culture elite in government funding think they want. The truth is that [[this]] brutal and [[rehash]] nasties earn far more critical acclaim - and win far more obscure awards - than they're due.\n",
      "\n",
      "\n"
     ]
    },
    {
     "name": "stderr",
     "output_type": "stream",
     "text": [
      "\n",
      "[Succeeded / Failed / Skipped / Total] 78 / 0 / 8 / 86:  86%|████████▌ | 86/100 [11:47<01:55,  8.22s/it]\u001B[A\n",
      "[Succeeded / Failed / Skipped / Total] 78 / 0 / 8 / 86:  87%|████████▋ | 87/100 [11:50<01:46,  8.16s/it]\u001B[A\n",
      "[Succeeded / Failed / Skipped / Total] 79 / 0 / 8 / 87:  87%|████████▋ | 87/100 [11:50<01:46,  8.16s/it]\u001B[A"
     ]
    },
    {
     "name": "stdout",
     "output_type": "stream",
     "text": [
      "--------------------------------------------- Result 87 ---------------------------------------------\n",
      "[[Negative (100%)]] --> [[Negative (68%)]]\n",
      "\n",
      "The film [[opens]] with a cult leader attempting to resurrect a dead member with his followers chanting for his rebirth as the sun strikes upon them in the desert. Reanhauer(Bill Roy)believes wholeheartedly in his power, and gets so worked up that he collapses with what appeared to be a heart attack. Unable to keep him alive, all those involved, doctors and nurses, are sentenced for attack with Reanhauer's demonic spirit invading the curvaceous body of nurse Sherri(..big-chested Jill Jacobson)targeting each one using her as a tool of vengeance. Forced against her will, with no memory of inflicting such harm, Sherri's host body murders selected victims. Fortunately, Sherri's fellow co-worker, nurse Tara(Marilyn Joi)begins a rather blossoming romance with a blinded patient, Marcus Washington(Prentiss Moulden), once a star football player, whose mother was a practitioner of voodoo. Through Marcus' knowledge, passed down from mom, Tara finds out about possession and how to possibly save Sherri before she murders everyone unknowingly. Meanwhile, Sherri's lover, Dr. Peter Desmond(Geoffrey Land)worries about her present condition and welfare.<br /><br />Well, this was my first Al Adamson film and I must agree with his [[detractors]] [[that]], just from this film alone, it seems he holds them together with [[paper]] clips and Elmer's [[glue]]. The animation with [[which]] we see the spirit [[take]] [[control]] [[of]] [[Sherri]] is beyond awful and rather [[laughable]]. A little soft-core nonsense as [[filler]], some [[demonic]] possession thrown in the mix(Sherri actually speaks in another voice when she's possessed), [[with]] naughty nurse [[behavior]](..the three nurses focused on in the film all are quite sexually active and free-spirited)and a little bit violence/gore. The film is essentially shot in tiny rooms with [[dull]] dialogue from a rather mundane cast. The sexual situations aren't that hard-core and Al [[often]] [[shoots]] them without revealing all that much. The [[film]] looks embarrassingly [[cheap]] [[and]] there's an absence [[of]] [[thrills]], although the chilling score(..which sounds like something from Dark Shadows)does help a little bit. Jacobson and Mary Kay Pass(..as nurse Beth who seems to be a nymphomaniac if she'll even screw a nutty patient, always complaining of illnesses he really doesn't have, with enough chest hair to declare him a Neanderthal)aren't bad looking, and Adamson's story-line, although frail, is somewhat coherent(..it seems he rarely directs films which are). Overall, the movie looks like it cost 5 bucks and Adamson just can not overcome the budgetary restrictions(..or, in my opinion, create an unpleasant enough atmosphere due to a sometimes plodding narrative and tedious scenes which do little for the story). John F Goff has the role of the hospital's psychiatrist who wants to commit Sherri, not believing the idea that she was possessed;he constantly bickers with Peter over her. I watched the unrated \"lost\" version which I guess is the real version to watch of Nurse Sherri.\n",
      "\n",
      "The film [[inaugurated]] with a cult leader attempting to resurrect a dead member with his followers chanting for his rebirth as the sun strikes upon them in the desert. Reanhauer(Bill Roy)believes wholeheartedly in his power, and gets so worked up that he collapses with what appeared to be a heart attack. Unable to keep him alive, all those involved, doctors and nurses, are sentenced for attack with Reanhauer's demonic spirit invading the curvaceous body of nurse Sherri(..big-chested Jill Jacobson)targeting each one using her as a tool of vengeance. Forced against her will, with no memory of inflicting such harm, Sherri's host body murders selected victims. Fortunately, Sherri's fellow co-worker, nurse Tara(Marilyn Joi)begins a rather blossoming romance with a blinded patient, Marcus Washington(Prentiss Moulden), once a star football player, whose mother was a practitioner of voodoo. Through Marcus' knowledge, passed down from mom, Tara finds out about possession and how to possibly save Sherri before she murders everyone unknowingly. Meanwhile, Sherri's lover, Dr. Peter Desmond(Geoffrey Land)worries about her present condition and welfare.<br /><br />Well, this was my first Al Adamson film and I must agree with his [[cynics]] [[which]], just from this film alone, it seems he holds them together with [[book]] clips and Elmer's [[connecting]]. The animation with [[that]] we see the spirit [[assume]] [[monitoring]] [[among]] [[Sheryl]] is beyond awful and rather [[ridicule]]. A little soft-core nonsense as [[fills]], some [[demon]] possession thrown in the mix(Sherri actually speaks in another voice when she's possessed), [[into]] naughty nurse [[demeanor]](..the three nurses focused on in the film all are quite sexually active and free-spirited)and a little bit violence/gore. The film is essentially shot in tiny rooms with [[somber]] dialogue from a rather mundane cast. The sexual situations aren't that hard-core and Al [[routinely]] [[sticks]] them without revealing all that much. The [[theaters]] looks embarrassingly [[inexpensive]] [[nor]] there's an absence [[with]] [[longings]], although the chilling score(..which sounds like something from Dark Shadows)does help a little bit. Jacobson and Mary Kay Pass(..as nurse Beth who seems to be a nymphomaniac if she'll even screw a nutty patient, always complaining of illnesses he really doesn't have, with enough chest hair to declare him a Neanderthal)aren't bad looking, and Adamson's story-line, although frail, is somewhat coherent(..it seems he rarely directs films which are). Overall, the movie looks like it cost 5 bucks and Adamson just can not overcome the budgetary restrictions(..or, in my opinion, create an unpleasant enough atmosphere due to a sometimes plodding narrative and tedious scenes which do little for the story). John F Goff has the role of the hospital's psychiatrist who wants to commit Sherri, not believing the idea that she was possessed;he constantly bickers with Peter over her. I watched the unrated \"lost\" version which I guess is the real version to watch of Nurse Sherri.\n",
      "\n",
      "\n"
     ]
    },
    {
     "name": "stderr",
     "output_type": "stream",
     "text": [
      "\n",
      "[Succeeded / Failed / Skipped / Total] 79 / 0 / 8 / 87:  88%|████████▊ | 88/100 [11:52<01:37,  8.09s/it]\u001B[A\n",
      "[Succeeded / Failed / Skipped / Total] 80 / 0 / 8 / 88:  88%|████████▊ | 88/100 [11:52<01:37,  8.09s/it]\u001B[A"
     ]
    },
    {
     "name": "stdout",
     "output_type": "stream",
     "text": [
      "--------------------------------------------- Result 88 ---------------------------------------------\n",
      "[[Negative (100%)]] --> [[Positive (97%)]]\n",
      "\n",
      "I bought this on VHS as \"Terror Hospital\", and when I got home I checked IMDb and was like OMG it's the legendary \"Nurse Sherri\"!!! So here's another one from Al Adamson, who had clearly learned some minuscule amount about film-making since the \"Blood of Dracula's Castle\" days. Where that earlier effort is a more or less totally sclerotic lump, this one mixes it up a little, adding a definite element of variety and surprise amid the [[incompetence]]. Sure half of the movie is a blind post-op football player shooting the breeze with his stacked nurse, but at any moment we might be cutting away to the cackling disembodied head of the satanist mastermind, or Nurse Sherri running a farmer through with a pitchfork, or a wee bit of abstract student-film quick cutting to go with the pulsing-blob effects in the possession scene, or the most gratuitously half-hearted topless bit ever, or god knows what else (I forget, to be honest). As dumb-ass pieces of sh*t go, this one runs [[toward]] the high end. Congrats, Al.\n",
      "\n",
      "I bought this on VHS as \"Terror Hospital\", and when I got home I checked IMDb and was like OMG it's the legendary \"Nurse Sherri\"!!! So here's another one from Al Adamson, who had clearly learned some minuscule amount about film-making since the \"Blood of Dracula's Castle\" days. Where that earlier effort is a more or less totally sclerotic lump, this one mixes it up a little, adding a definite element of variety and surprise amid the [[flaw]]. Sure half of the movie is a blind post-op football player shooting the breeze with his stacked nurse, but at any moment we might be cutting away to the cackling disembodied head of the satanist mastermind, or Nurse Sherri running a farmer through with a pitchfork, or a wee bit of abstract student-film quick cutting to go with the pulsing-blob effects in the possession scene, or the most gratuitously half-hearted topless bit ever, or god knows what else (I forget, to be honest). As dumb-ass pieces of sh*t go, this one runs [[onto]] the high end. Congrats, Al.\n",
      "\n",
      "\n"
     ]
    },
    {
     "name": "stderr",
     "output_type": "stream",
     "text": [
      "\n",
      "[Succeeded / Failed / Skipped / Total] 80 / 0 / 8 / 88:  89%|████████▉ | 89/100 [12:11<01:30,  8.22s/it]\u001B[A\n",
      "[Succeeded / Failed / Skipped / Total] 81 / 0 / 8 / 89:  89%|████████▉ | 89/100 [12:11<01:30,  8.22s/it]\u001B[A"
     ]
    },
    {
     "name": "stdout",
     "output_type": "stream",
     "text": [
      "--------------------------------------------- Result 89 ---------------------------------------------\n",
      "[[Negative (100%)]] --> [[Positive (78%)]]\n",
      "\n",
      "This is a hard film to [[rate]]. While it truly deserves its 3 (or perhaps even a two), for an Al Adamson film, it's exceptional--and [[practically]] Adamson's very best. That's because unlike many [[Adamson]] films, there are times when NURSE [[SHERRI]] almost looks [[competent]]. But, being an [[Adamson]] film, you know that sooner or later [[that]] crappiness [[MUST]] rear its ugly head! <br /><br />The film begins with some [[bizarre]] cult leader of a huge congregation (six) trying to resurrect a dead guy who looks like he's made of blue cheese. However, in the process, the cult dude has a heart attack and it taken to the hospital. He apparently dies, but it also seems like many of these hospital scenes are missing and a few of them appear much later in the film. In other words, when you see the film, he appears to have possibly recovered--only to hear later that he'd died. Because the guy is the b.f.f. of Satan, however, his evil soul can't die and he comes back to both haunt one of his henchmen and to possess Nurse Sherri.<br /><br />Now, Sherri is obviously a very disturbed lady--demonic [[possession]] or not. At times she acts like a zombie and at others she's violently homicidal. So I ask...\"why didn't her boyfriend (a doctor) think this was, perhaps, problematic?!\". In other words, after trying to kill a patient, he neither gets an exorcist nor commits her to the booby hatch!!! Oh, and speaking of boobies...this movie is NOT the breast-filled sex romp its title and posters would indicate. While there are a few bare breasts here and there, they are irrelevant to the plot and only seen very briefly (1/2 second or so) in all but one scene. So, if you are a perv, this movie is not for you--though a few places in the film (such as the nurse undressing for a patient) make it look like the film MIGHT have, at one time, been designed as a porn flick.<br /><br />If you are a bad movie fan, however, there is enough to whet your appetite. Some examples of incompetence are the inability of many of the actors to deliver lines that aren't zombie-like--and I am not even talking about Sherri. Especially noticeable is one of the very final scenes--I have never seen and heard some stilted acting and dialog in my life--and this includes Ed Wood's films! There are also a few more cheap touches, such as the bad animation of the \"green stuff\", the doctor finding a murdered nurse yet continuing to investigate in a house where walls are covered in blood (I'd get a cop...better yet, an army of cops).<br /><br />So despite these problems, why do I think it's good for an Adamson film? Well, the story isn't all bad and he was able to build tension very well. Many false alarms early on made my heart race a bit. Also, the car crash, while irrelevant, came off pretty well and was practically big-budget for Adamson.<br /><br />Overall, not a good film and one most people would be bored watching. However, fans of Adamson or inept films will like it--it does deliver some entertainment in a cheesy manner that will provide a few laughs.\n",
      "\n",
      "This is a hard film to [[rates]]. While it truly deserves its 3 (or perhaps even a two), for an Al Adamson film, it's exceptional--and [[principally]] Adamson's very best. That's because unlike many [[Maguire]] films, there are times when NURSE [[CHARLENE]] almost looks [[jurisdictional]]. But, being an [[Burgess]] film, you know that sooner or later [[which]] crappiness [[OWE]] rear its ugly head! <br /><br />The film begins with some [[weird]] cult leader of a huge congregation (six) trying to resurrect a dead guy who looks like he's made of blue cheese. However, in the process, the cult dude has a heart attack and it taken to the hospital. He apparently dies, but it also seems like many of these hospital scenes are missing and a few of them appear much later in the film. In other words, when you see the film, he appears to have possibly recovered--only to hear later that he'd died. Because the guy is the b.f.f. of Satan, however, his evil soul can't die and he comes back to both haunt one of his henchmen and to possess Nurse Sherri.<br /><br />Now, Sherri is obviously a very disturbed lady--demonic [[ownership]] or not. At times she acts like a zombie and at others she's violently homicidal. So I ask...\"why didn't her boyfriend (a doctor) think this was, perhaps, problematic?!\". In other words, after trying to kill a patient, he neither gets an exorcist nor commits her to the booby hatch!!! Oh, and speaking of boobies...this movie is NOT the breast-filled sex romp its title and posters would indicate. While there are a few bare breasts here and there, they are irrelevant to the plot and only seen very briefly (1/2 second or so) in all but one scene. So, if you are a perv, this movie is not for you--though a few places in the film (such as the nurse undressing for a patient) make it look like the film MIGHT have, at one time, been designed as a porn flick.<br /><br />If you are a bad movie fan, however, there is enough to whet your appetite. Some examples of incompetence are the inability of many of the actors to deliver lines that aren't zombie-like--and I am not even talking about Sherri. Especially noticeable is one of the very final scenes--I have never seen and heard some stilted acting and dialog in my life--and this includes Ed Wood's films! There are also a few more cheap touches, such as the bad animation of the \"green stuff\", the doctor finding a murdered nurse yet continuing to investigate in a house where walls are covered in blood (I'd get a cop...better yet, an army of cops).<br /><br />So despite these problems, why do I think it's good for an Adamson film? Well, the story isn't all bad and he was able to build tension very well. Many false alarms early on made my heart race a bit. Also, the car crash, while irrelevant, came off pretty well and was practically big-budget for Adamson.<br /><br />Overall, not a good film and one most people would be bored watching. However, fans of Adamson or inept films will like it--it does deliver some entertainment in a cheesy manner that will provide a few laughs.\n",
      "\n",
      "\n"
     ]
    },
    {
     "name": "stderr",
     "output_type": "stream",
     "text": [
      "\n",
      "[Succeeded / Failed / Skipped / Total] 81 / 0 / 8 / 89:  90%|█████████ | 90/100 [12:46<01:25,  8.52s/it]\u001B[A\n",
      "[Succeeded / Failed / Skipped / Total] 82 / 0 / 8 / 90:  90%|█████████ | 90/100 [12:46<01:25,  8.52s/it]\u001B[Atextattack: Saving checkpoint under \"checkpoints\\1682476783892.ta.chkpt\" at 2023-04-25 22:39:43 after 90 attacks.\n"
     ]
    },
    {
     "name": "stdout",
     "output_type": "stream",
     "text": [
      "--------------------------------------------- Result 90 ---------------------------------------------\n",
      "[[Negative (100%)]] --> [[Negative (63%)]]\n",
      "\n",
      "[[I]] [[only]] came here to check Terror Hospital for an alternate title so I'd know what not to pick up. Not only do I get the original title, but I come to find Terror Hospital [[is]] one of seven more aliases.This one [[is]] a [[real]] [[clunker]]. Movies like this [[can]] usually be forgiven for any number [[of]] reasons, mostly unintended consequences of the [[feature]] on every [[level]] of production that result in at [[least]] a mild form of entertainment, mostly [[amusement]]. This has none of that. Instead, the [[viewer]] is [[witness]] to redundantly [[unnecessary]] and way-too-convenient-for-the-situation [[exposition]] and [[drawn]] out scenes [[of]] [[characters]] warily moving from room to room, [[and]] all this is half of [[the]] film. [[Forget]] trying to figure out where [[anybody]] is (or who they are) [[during]] darkened or nighttime scenes, too; you probably won't care, anyway. There [[is]] [[also]] a random car chase sequence that seems quite dull when [[compared]] to some of the old driver's ed movies I slep... er, I mean sat through and watched way back in high school. Really, we're talking about mysticism, [[possession]], and a killer on the loose here - not a bad recipe for trash [[cinema]]. [[Unfortunately]], there's nothing here to [[make]] it even \"good\" trash; when [[joined]] to the [[aforementioned]], the bad acting and not-so-special effects are just that - bad acting and not-so-special effects. This one's just trash, pure and simple. [[Leave]] it on [[the]] [[rack]] [[at]] the pawn [[shop]] or in that box [[at]] the yard [[sale]]. There's [[a]] reason its there...\n",
      "\n",
      "[[me]] [[scarcely]] came here to check Terror Hospital for an alternate title so I'd know what not to pick up. Not only do I get the original title, but I come to find Terror Hospital [[posed]] one of seven more aliases.This one [[became]] a [[true]] [[jalopy]]. Movies like this [[ca]] usually be forgiven for any number [[from]] reasons, mostly unintended consequences of the [[ascribe]] on every [[hierarchy]] of production that result in at [[lowest]] a mild form of entertainment, mostly [[droll]]. This has none of that. Instead, the [[onlooker]] is [[testimonial]] to redundantly [[unfounded]] and way-too-convenient-for-the-situation [[appear]] and [[learns]] out scenes [[into]] [[qualities]] warily moving from room to room, [[nor]] all this is half of [[both]] film. [[Omitted]] trying to figure out where [[capita]] is (or who they are) [[into]] darkened or nighttime scenes, too; you probably won't care, anyway. There [[are]] [[anymore]] a random car chase sequence that seems quite dull when [[versus]] to some of the old driver's ed movies I slep... er, I mean sat through and watched way back in high school. Really, we're talking about mysticism, [[ownership]], and a killer on the loose here - not a bad recipe for trash [[cinematography]]. [[Unluckily]], there's nothing here to [[translating]] it even \"good\" trash; when [[accession]] to the [[aforesaid]], the bad acting and not-so-special effects are just that - bad acting and not-so-special effects. This one's just trash, pure and simple. [[Permitted]] it on [[both]] [[racks]] [[per]] the pawn [[boutiques]] or in that box [[underneath]] the yard [[merchandising]]. There's [[another]] reason its there...\n",
      "\n",
      "\n",
      "\n",
      "\n",
      "=============================================================================================================================\n",
      "=============================================================================================================================\n",
      "\n"
     ]
    },
    {
     "name": "stderr",
     "output_type": "stream",
     "text": [
      "\n",
      "[Succeeded / Failed / Skipped / Total] 82 / 0 / 8 / 90:  91%|█████████ | 91/100 [14:06<01:23,  9.30s/it]\u001B[A\n",
      "[Succeeded / Failed / Skipped / Total] 82 / 1 / 8 / 91:  91%|█████████ | 91/100 [14:06<01:23,  9.30s/it]\u001B[A"
     ]
    },
    {
     "name": "stdout",
     "output_type": "stream",
     "text": [
      "--------------------------------------------- Result 91 ---------------------------------------------\n",
      "[[Negative (100%)]] --> [[[FAILED]]]\n",
      "\n",
      "The first 20 minutes were a little fun because I don't think I've seen a film this bad before {acting, script, effects (!), etc....} The rest of the running time seemed to drag forever with every cliche in dialog used to no effect. These people seemed to not really like horror movies or how to make them or any other movie. There's no adult language, a bit of brief nudity, and no gore except fake blood smeared over no open wounds, etc.. It would have been rated PG in the early eighties and PG-13 nowadays. I'm not sure how it got an R rating or if it really did. I saw the American International release titled Hospital Of Terror. I've seen 100 horror films in the past 12 months and this is probably the worst film I've ever seen. Here's an example of how bad it is: There's one scene where something green comes through the door. I'm not sure what it's supposed to be but what it is on screen is some kid's green crayon scribblings {I'm not exaggerating} super-imposed over the film, semi-moving inside the door, then its supposed to do something to Nurse Sherri to possess her I suppose. I could not believe they had the lack of pride to show this embarrassment.\n",
      "\n",
      "\n"
     ]
    },
    {
     "name": "stderr",
     "output_type": "stream",
     "text": [
      "\n",
      "[Succeeded / Failed / Skipped / Total] 82 / 1 / 8 / 91:  92%|█████████▏| 92/100 [14:38<01:16,  9.54s/it]\u001B[A\n",
      "[Succeeded / Failed / Skipped / Total] 83 / 1 / 8 / 92:  92%|█████████▏| 92/100 [14:38<01:16,  9.54s/it]\u001B[A"
     ]
    },
    {
     "name": "stdout",
     "output_type": "stream",
     "text": [
      "--------------------------------------------- Result 92 ---------------------------------------------\n",
      "[[Negative (100%)]] --> [[Negative (70%)]]\n",
      "\n",
      "This film, which I [[rented]] [[under]] the [[title]] \"Black Voodoo\" [[should]] [[be]] [[avoided]]. [[I]] [[was]] [[expecting]] a blaxploitation/[[horror]] flick; but what I [[got]] [[was]] a very dull, [[standard]] \"[[ghost]] [[extracts]] vegence\". In this case the ghost was that of a religious cult leader who tried to refuse treatment, but who's plea was ignored and he died in an operation. The result: his spirit posesses Nurse Sherry and forces her to commit acts of murder. The only voodoo [[connection]] [[was]] to one [[of]] the three black [[characters]], in [[this]] case a blinded ex-football player, who's mom practiced voodoo. The [[film]] [[is]] [[very]] [[slow]] [[and]] very dull. There is a very standard ending that [[provides]] on [[excitement]], followed by a horrificly stupid ending (warning: SPOILER)<br /><br />In which a woman actually manages to defend herself against murder charges by saying she was possessed. This [[movie]] [[is]] slow, and bad [[in]] a non-funny, just stupefying way. [[Avoid]] it at all costs.\n",
      "\n",
      "This film, which I [[chartered]] [[paras]] the [[securities]] \"Black Voodoo\" [[stipulated]] [[ser]] [[obstructed]]. [[me]] [[became]] [[sees]] a blaxploitation/[[dislike]] flick; but what I [[enjoys]] [[be]] a very dull, [[customary]] \"[[ghosts]] [[portions]] vegence\". In this case the ghost was that of a religious cult leader who tried to refuse treatment, but who's plea was ignored and he died in an operation. The result: his spirit posesses Nurse Sherry and forces her to commit acts of murder. The only voodoo [[affair]] [[brought]] to one [[toward]] the three black [[characteristic]], in [[these]] case a blinded ex-football player, who's mom practiced voodoo. The [[flick]] [[does]] [[rather]] [[retardation]] [[nor]] very dull. There is a very standard ending that [[exposes]] on [[disturbance]], followed by a horrificly stupid ending (warning: SPOILER)<br /><br />In which a woman actually manages to defend herself against murder charges by saying she was possessed. This [[scene]] [[implies]] slow, and bad [[at]] a non-funny, just stupefying way. [[Precludes]] it at all costs.\n",
      "\n",
      "\n"
     ]
    },
    {
     "name": "stderr",
     "output_type": "stream",
     "text": [
      "\n",
      "[Succeeded / Failed / Skipped / Total] 83 / 1 / 8 / 92:  93%|█████████▎| 93/100 [14:43<01:06,  9.50s/it]\u001B[A\n",
      "[Succeeded / Failed / Skipped / Total] 84 / 1 / 8 / 93:  93%|█████████▎| 93/100 [14:43<01:06,  9.50s/it]\u001B[A"
     ]
    },
    {
     "name": "stdout",
     "output_type": "stream",
     "text": [
      "--------------------------------------------- Result 93 ---------------------------------------------\n",
      "[[Negative (100%)]] --> [[Positive (80%)]]\n",
      "\n",
      "Maniratnam, who in India, is often compared with prominent world film makers and is regarded a genius in film-making, has yet again proved that he can only make the frames look visually good, without offering much food for thought.Forget about pure cinematic pleasure that can be derived from cinema as a very old form of art.<br /><br />While I would not like to claim and portray myself as someone who has seen all the beautiful movies made around the world, still any thoughtful and a bit educated film goer can identify that his films do not contain innovative ingenuous plots, does not contain lingering effects afterward and MOSTLY contain ridiculous ending and a LOT of melodrama, seen profusely in Indian movies.<br /><br />Overall, Maniratnam has successfully confirmed my [[distaste]] for his films once again.<br /><br />Sorry for those who on this board were claiming otherwise. My suggestion to you: WATCH SOME BEAUTIFUL CINEMAS MADE AROUND THE GLOBE.\n",
      "\n",
      "Maniratnam, who in India, is often compared with prominent world film makers and is regarded a genius in film-making, has yet again proved that he can only make the frames look visually good, without offering much food for thought.Forget about pure cinematic pleasure that can be derived from cinema as a very old form of art.<br /><br />While I would not like to claim and portray myself as someone who has seen all the beautiful movies made around the world, still any thoughtful and a bit educated film goer can identify that his films do not contain innovative ingenuous plots, does not contain lingering effects afterward and MOSTLY contain ridiculous ending and a LOT of melodrama, seen profusely in Indian movies.<br /><br />Overall, Maniratnam has successfully confirmed my [[aversion]] for his films once again.<br /><br />Sorry for those who on this board were claiming otherwise. My suggestion to you: WATCH SOME BEAUTIFUL CINEMAS MADE AROUND THE GLOBE.\n",
      "\n",
      "\n"
     ]
    },
    {
     "name": "stderr",
     "output_type": "stream",
     "text": [
      "\n",
      "[Succeeded / Failed / Skipped / Total] 84 / 1 / 8 / 93:  94%|█████████▍| 94/100 [17:56<01:08, 11.46s/it]\u001B[A\n",
      "[Succeeded / Failed / Skipped / Total] 85 / 1 / 8 / 94:  94%|█████████▍| 94/100 [17:57<01:08, 11.46s/it]\u001B[A"
     ]
    },
    {
     "name": "stdout",
     "output_type": "stream",
     "text": [
      "--------------------------------------------- Result 94 ---------------------------------------------\n",
      "[[Negative (100%)]] --> [[Negative (67%)]]\n",
      "\n",
      "[[Jacqueline]] Hyde [[starts]] like [[any]] other [[normal]] [[day]] [[for]] telemarketing [[individual]] Jackie Hyde (co-producer [[Gabriella]] [[Hall]]) [[until]] [[her]] [[boss]] (Robert [[Donovan]]) [[fires]] her [[for]] [[taking]] personal [[calls]] [[at]] [[work]], [[however]] it's [[not]] all [[bad]] news as [[the]] [[call]] she [[took]] [[was]] from [[a]] [[lawyer]] [[informing]] [[her]] that [[her]] [[Grandfather]] ([[Malcolm]] Bennett) [[has]] [[recently]] [[died]] & that [[he]] [[left]] her [[his]] [[mansion]] & [[fortune]] ([[why]] doesn't stuff [[like]] [[that]] [[ever]] [[happen]] to me? [[Sigh]]). [[Very]] [[excited]] [[Jackie]] heads [[on]] over there & [[makes]] herself right [[at]] [[home]], [[while]] [[looking]] [[for]] the thermostat late one [[night]] Jackie [[stumbles]] upon a [[secret]] [[room]] [[where]] her [[Grandfather]] [[stashes]] the [[bright]] [[red]] [[formula]] that [[he]] [[invented]] that [[allows]] whoever [[drinks]] it to [[change]] their [[appearance]]. Being a [[bit]] [[on]] [[the]] [[porky]] side Jackie [[finally]] [[settles]] [[on]] [[the]] [[glamorous]] [[Jacqueline]] (Blythe [[Metz]]), [[however]] Jackie's [[better]] looking alter-ego starts to [[take]] [[control]]...<br /><br />[[Written]], co-produced & [[directed]] [[by]] Rolfe Kanefsky I thought [[Jacqueline]] Hyde [[was]] [[complete]] [[total]] & utter [[crap]] [[from]] [[start]] to [[finish]] & it's as [[simple]] & straight forward as that. [[According]] [[to]] the opening credits [[Jacqueline]] Hyde was 'inspired' [[by]] [[the]] [[classic]] [[Robert]] Louis Stevenson [[novel]] 'The [[Strange]] [[Case]] of [[Dr]]. Jekyll [[and]] [[Mr]]. Hyde', [[frankly]] if Mr. [[Stevenson]] [[could]] [[see]] what [[was]] being [[done]] to his [[story]] here he'd [[turn]] [[in]] [[his]] [[grave]]. [[For]] a [[start]] I [[think]] [[Jacqueline]] Hyde was/[[is]] [[intended]] to [[be]] a [[horror]] [[film]], [[the]] IMDb certainly lists it [[as]] such but there isn't [[any]] horror [[in]] [[it]] [[at]] [[all]] [[apart]] from [[just]] how bad it is. I [[would]] [[say]] that [[Jacqueline]] Hyde [[is]] [[more]] a soft-core [[porno]] than anything [[else]] & [[extremely]] tame with it, why sit down & watch this softer than soft [[porno]] crap when you can watch you proper hard-core stuff that actually delivers the [[goods]]? Why, that's the question I ask here. It's not even [[good]] porn either, besides being far too soft it's dull, boring & the not-worth-mentioning sex [[scenes]] [[are]] [[few]] & [[far]] [[between]]. The most intelligent [[aspect]] of this film is [[the]] title which [[would]] have been quite clever if not for the fact that another film used the Jacqueline Hyde (1998) title during the [[last]] century & [[judging]] by the IMDb's plot summary it [[sounds]] a [[hell]] [[of]] a lot better [[than]] [[this]] [[piece]] of [[rubbish]]. This [[is]] one [[of]] [[those]] [[films]] you have to watch [[yourself]] to [[see]] just how bad it is but just hope that you never get the opportunity.<br /><br />Director Kanefsky was obviously working on a low budget but that's not an excuse these days, shot on a digital camcorder the film looks cheap & the few instances of CGI look like they came from a Nintendo Gameboy, the final 'shocking' twist has probably the worst morph effect I've ever seen & is pretty good for a laugh as is the scene when Jackie's breasts grow via more terrible CGI. That's another thing, the film takes itself far too seriously. The subject matter sucks, is far too predictable & makes for a poor film but maybe if the dialogue had been intentionally funny with some dirty porn talk the film might have been more fun to watch, alas it isn't so it isn't. Forget about any decent horror, violence or gore as there isn't any apart from a surprisingly bloodless decapitation at the end.<br /><br />Technically Jacqueline Hyde is home made film type stuff, the photography is of the flat hand held point-&-shoot variety, the music, production design & special effects are of a suitably low standard to match the script. The acting was awful, seriously this is bad.<br /><br />Jacqueline Hyde in my opinion a load of crap, there is not one positive thing about this turgid film that I can think of. Any proper film lover will have an almost impossible time trying to find any redeeming value in this crap, definitely one to avoid.\n",
      "\n",
      "[[Audrey]] Hyde [[opened]] like [[each]] other [[classic]] [[moment]] [[onto]] telemarketing [[singular]] Jackie Hyde (co-producer [[Gabby]] [[Hallway]]) [[upon]] [[she]] [[commanders]] (Robert [[Connolly]]) [[burning]] her [[around]] [[passing]] personal [[please]] [[throughout]] [[tasks]], [[once]] it's [[never]] all [[negative]] news as [[both]] [[appealing]] she [[making]] [[had]] from [[another]] [[jurist]] [[noticing]] [[she]] that [[he]] [[Daddy]] ([[Martin]] Bennett) [[enjoys]] [[already]] [[slain]] & that [[her]] [[quit]] her [[it]] [[palaces]] & [[prosperity]] ([[how]] doesn't stuff [[amore]] [[which]] [[always]] [[get]] to me? [[Murmurs]]). [[Considerably]] [[disgusted]] [[Jacqueline]] heads [[at]] over there & [[carries]] herself right [[throughout]] [[inner]], [[despite]] [[staring]] [[onto]] the thermostat late one [[evenings]] Jackie [[mumbles]] upon a [[confidential]] [[hall]] [[thus]] her [[Pops]] [[stashed]] the [[smart]] [[flushed]] [[phrases]] that [[him]] [[coined]] that [[delivers]] whoever [[spirits]] it to [[variations]] their [[onset]]. Being a [[mouthful]] [[for]] [[both]] [[fudd]] side Jackie [[possibly]] [[corrected]] [[into]] [[both]] [[grandiose]] [[Dorothy]] (Blythe [[Hanover]]), [[anyway]] Jackie's [[well]] looking alter-ego starts to [[making]] [[monitors]]...<br /><br />[[Authored]], co-produced & [[orientation]] [[across]] Rolfe Kanefsky I thought [[Liza]] Hyde [[is]] [[full]] [[utter]] & utter [[shitty]] [[throughout]] [[lancer]] to [[done]] & it's as [[easy]] & straight forward as that. [[Virtue]] [[al]] the opening credits [[Dorothy]] Hyde was 'inspired' [[during]] [[both]] [[routine]] [[Roberta]] Louis Stevenson [[novo]] 'The [[Funny]] [[Incident]] of [[Pr]]. Jekyll [[neither]] [[Herman]]. Hyde', [[genuinely]] if Mr. [[Sullivan]] [[got]] [[listening]] what [[made]] being [[made]] to his [[anecdotes]] here he'd [[rotation]] [[de]] [[her]] [[heavy]]. [[During]] a [[opening]] I [[seeing]] [[Charlene]] Hyde was/[[has]] [[styled]] to [[got]] a [[disgust]] [[picture]], [[both]] IMDb certainly lists it [[since]] such but there isn't [[either]] horror [[toward]] [[him]] [[via]] [[every]] [[separately]] from [[hardly]] how bad it is. I [[did]] [[explains]] that [[Audrey]] Hyde [[gets]] [[also]] a soft-core [[lewd]] than anything [[annan]] & [[madly]] tame with it, why sit down & watch this softer than soft [[fisting]] crap when you can watch you proper hard-core stuff that actually delivers the [[well]]? Why, that's the question I ask here. It's not even [[proper]] porn either, besides being far too soft it's dull, boring & the not-worth-mentioning sex [[pictured]] [[resides]] [[rare]] & [[immensely]] [[via]]. The most intelligent [[topics]] of this film is [[both]] title which [[got]] have been quite clever if not for the fact that another film used the Jacqueline Hyde (1998) title during the [[latter]] century & [[sentencing]] by the IMDb's plot summary it [[solid]] a [[heck]] [[from]] a lot better [[awhile]] [[these]] [[slice]] of [[scrap]]. This [[provides]] one [[with]] [[these]] [[movie]] you have to watch [[youself]] to [[admire]] just how bad it is but just hope that you never get the opportunity.<br /><br />Director Kanefsky was obviously working on a low budget but that's not an excuse these days, shot on a digital camcorder the film looks cheap & the few instances of CGI look like they came from a Nintendo Gameboy, the final 'shocking' twist has probably the worst morph effect I've ever seen & is pretty good for a laugh as is the scene when Jackie's breasts grow via more terrible CGI. That's another thing, the film takes itself far too seriously. The subject matter sucks, is far too predictable & makes for a poor film but maybe if the dialogue had been intentionally funny with some dirty porn talk the film might have been more fun to watch, alas it isn't so it isn't. Forget about any decent horror, violence or gore as there isn't any apart from a surprisingly bloodless decapitation at the end.<br /><br />Technically Jacqueline Hyde is home made film type stuff, the photography is of the flat hand held point-&-shoot variety, the music, production design & special effects are of a suitably low standard to match the script. The acting was awful, seriously this is bad.<br /><br />Jacqueline Hyde in my opinion a load of crap, there is not one positive thing about this turgid film that I can think of. Any proper film lover will have an almost impossible time trying to find any redeeming value in this crap, definitely one to avoid.\n",
      "\n",
      "\n"
     ]
    },
    {
     "name": "stderr",
     "output_type": "stream",
     "text": [
      "\n",
      "[Succeeded / Failed / Skipped / Total] 85 / 1 / 8 / 94:  95%|█████████▌| 95/100 [18:31<00:58, 11.70s/it]\u001B[A\n",
      "[Succeeded / Failed / Skipped / Total] 86 / 1 / 8 / 95:  95%|█████████▌| 95/100 [18:31<00:58, 11.70s/it]\u001B[Atextattack: Saving checkpoint under \"checkpoints\\1682477128495.ta.chkpt\" at 2023-04-25 22:45:28 after 95 attacks.\n"
     ]
    },
    {
     "name": "stdout",
     "output_type": "stream",
     "text": [
      "--------------------------------------------- Result 95 ---------------------------------------------\n",
      "[[Negative (100%)]] --> [[Positive (95%)]]\n",
      "\n",
      "Sorry, but [[Jacqueline]] Hyde (get it??? - Jack L and Hyde - Jekyll & Hyde) [[has]] some of the worst [[acting]] this [[side]] [[of]] hardcore [[porn]], not to [[mention]] a script apparently [[written]] by a first-grader with undiagnosed learning disabilities.<br /><br />Jackie Hyde inherits an old [[mansion]] by a [[grandfather]] she never [[knew]] she had. [[Guess]] who? [[Yes]], an inventor of the special formula that [[slowly]] [[takes]] over one's body and [[mind]] - yes, that Mr. Hyde! <br /><br />[[Despite]] some nice skin scenes, [[this]] [[film]] [[fails]] to register [[any]] [[feeling]] [[or]] [[emotion]] other [[than]] [[uncontrollable]] [[laughter]].<br /><br />As [[much]] as poor Jackie [[tries]] [[she]] [[just]] can't [[stay]] [[away]] [[from]] granddaddy's special formula and the [[result]] [[is]] an [[hour]] and [[half]] [[of]] [[wasted]] [[time]].\n",
      "\n",
      "Sorry, but [[Vivien]] Hyde (get it??? - Jack L and Hyde - Jekyll & Hyde) [[enjoys]] some of the worst [[behaving]] this [[party]] [[between]] hardcore [[perv]], not to [[quoting]] a script apparently [[editor]] by a first-grader with undiagnosed learning disabilities.<br /><br />Jackie Hyde inherits an old [[mansions]] by a [[pop]] she never [[audition]] she had. [[Feel]] who? [[Yep]], an inventor of the special formula that [[smoothly]] [[picking]] over one's body and [[wisdom]] - yes, that Mr. Hyde! <br /><br />[[If]] some nice skin scenes, [[that]] [[movies]] [[faulted]] to register [[every]] [[feelings]] [[either]] [[feelings]] other [[upon]] [[unmarked]] [[chuckles]].<br /><br />As [[far]] as poor Jackie [[trying]] [[her]] [[barely]] can't [[stays]] [[abroad]] [[per]] granddaddy's special formula and the [[performance]] [[does]] an [[moments]] and [[milieu]] [[de]] [[omitted]] [[term]].\n",
      "\n",
      "\n",
      "\n",
      "\n",
      "=============================================================================================================================\n",
      "=============================================================================================================================\n",
      "\n"
     ]
    },
    {
     "name": "stderr",
     "output_type": "stream",
     "text": [
      "\n",
      "[Succeeded / Failed / Skipped / Total] 86 / 1 / 8 / 95:  96%|█████████▌| 96/100 [18:40<00:46, 11.67s/it]\u001B[A\n",
      "[Succeeded / Failed / Skipped / Total] 87 / 1 / 8 / 96:  96%|█████████▌| 96/100 [18:40<00:46, 11.67s/it]\u001B[A"
     ]
    },
    {
     "name": "stdout",
     "output_type": "stream",
     "text": [
      "--------------------------------------------- Result 96 ---------------------------------------------\n",
      "[[Negative (100%)]] --> [[Negative (63%)]]\n",
      "\n",
      "This film [[seems]] well made, and more efforts should be made to promote films by women. That aside, this film is also profoundly [[disturbing]] in that it justifies the manipulative and psychotic machinations of a character that is profoundly disturbed. If you've seen any of the promotional material, you [[might]] think this is a poignant film about a relationship that's reached its end, but none of that suggests how really disturbing the central premise is:<br /><br />A woman threatens suicide unless her soon to be ex agrees to relive here most treasured memories of their relationship. When told how unfair (to say the least) that such a threat is, Tessa (the purported protagonist) suggests that \"life's not fair.\"<br /><br />Huh??? This character also uses tears to manipulate her former lover into staying, and coaxes him into sexually oriented behavior (which she initially denies as a motive) all the while assuring him \"this isn't sex.\"<br /><br />Reverse the genders, have the leads played by Tracey Gold and Brian Austin-Green and this could air in feature length on Lifetime with a title like \"Hostage to Obsession.\" There is no medically accepted definition of sound mental and emotional stability that would encompass Tessa's behavior in this film.<br /><br />Props to Kristen Thomson for playing a border-line psychotic, manipulative ex to a T, perhaps too well because there is no well-adjusted person, male or female, who could watch this and not have shivers run up their spine.\n",
      "\n",
      "This film [[emerges]] well made, and more efforts should be made to promote films by women. That aside, this film is also profoundly [[eerie]] in that it justifies the manipulative and psychotic machinations of a character that is profoundly disturbed. If you've seen any of the promotional material, you [[perils]] think this is a poignant film about a relationship that's reached its end, but none of that suggests how really disturbing the central premise is:<br /><br />A woman threatens suicide unless her soon to be ex agrees to relive here most treasured memories of their relationship. When told how unfair (to say the least) that such a threat is, Tessa (the purported protagonist) suggests that \"life's not fair.\"<br /><br />Huh??? This character also uses tears to manipulate her former lover into staying, and coaxes him into sexually oriented behavior (which she initially denies as a motive) all the while assuring him \"this isn't sex.\"<br /><br />Reverse the genders, have the leads played by Tracey Gold and Brian Austin-Green and this could air in feature length on Lifetime with a title like \"Hostage to Obsession.\" There is no medically accepted definition of sound mental and emotional stability that would encompass Tessa's behavior in this film.<br /><br />Props to Kristen Thomson for playing a border-line psychotic, manipulative ex to a T, perhaps too well because there is no well-adjusted person, male or female, who could watch this and not have shivers run up their spine.\n",
      "\n",
      "\n"
     ]
    },
    {
     "name": "stderr",
     "output_type": "stream",
     "text": [
      "\n",
      "[Succeeded / Failed / Skipped / Total] 87 / 1 / 8 / 96:  97%|█████████▋| 97/100 [18:44<00:34, 11.60s/it]\u001B[A\n",
      "[Succeeded / Failed / Skipped / Total] 88 / 1 / 8 / 97:  97%|█████████▋| 97/100 [18:45<00:34, 11.60s/it]\u001B[A"
     ]
    },
    {
     "name": "stdout",
     "output_type": "stream",
     "text": [
      "--------------------------------------------- Result 97 ---------------------------------------------\n",
      "[[Negative (100%)]] --> [[Negative (62%)]]\n",
      "\n",
      "It hurt to watch this movie, it really did... I wanted to like it, even going in. Shot obviously for very little cash, I looked past and told myself to appreciate the inspiration. Unfortunately, [[although]] I did appreciate the film on that level, the acting [[and]] editing was terrible, and the last 25-30 minutes were severe thumb-twiddling territory. A 95 minute film should not drag. The ratings for this one are good so far, but I fear that the friends and family might have had a say in that one. What was with those transitions? Dear Mr. Editor, did you just purchase your first copy of Adobe Premiere and make it your main goal to use all the goofy transitions that come with that silly program? Anyway... some better actors, a little more passion, and some more appealing editing and this makes a decent movie.\n",
      "\n",
      "It hurt to watch this movie, it really did... I wanted to like it, even going in. Shot obviously for very little cash, I looked past and told myself to appreciate the inspiration. Unfortunately, [[aber]] I did appreciate the film on that level, the acting [[neither]] editing was terrible, and the last 25-30 minutes were severe thumb-twiddling territory. A 95 minute film should not drag. The ratings for this one are good so far, but I fear that the friends and family might have had a say in that one. What was with those transitions? Dear Mr. Editor, did you just purchase your first copy of Adobe Premiere and make it your main goal to use all the goofy transitions that come with that silly program? Anyway... some better actors, a little more passion, and some more appealing editing and this makes a decent movie.\n",
      "\n",
      "\n"
     ]
    },
    {
     "name": "stderr",
     "output_type": "stream",
     "text": [
      "\n",
      "[Succeeded / Failed / Skipped / Total] 88 / 1 / 8 / 97:  98%|█████████▊| 98/100 [18:57<00:23, 11.61s/it]\u001B[A\n",
      "[Succeeded / Failed / Skipped / Total] 89 / 1 / 8 / 98:  98%|█████████▊| 98/100 [18:57<00:23, 11.61s/it]\u001B[A"
     ]
    },
    {
     "name": "stdout",
     "output_type": "stream",
     "text": [
      "--------------------------------------------- Result 98 ---------------------------------------------\n",
      "[[Negative (100%)]] --> [[Negative (62%)]]\n",
      "\n",
      "Rita Hayworth is just stunning at [[times]] and, for me, the only [[reason]] to watch [[this]] silly film. Despite the overdone 1940s lipstick, Rita was one of the all-time glamor women of Hollywood. In fact, for a couple of years I can't imagine anyone that looked better, except maybe Elizabeth Taylor in her prime.<br /><br />Anyway, the co-star of the show, Gene Kelly, does [[not]] play his normal likable, at least the kind of guy we all know him from in \"Singin' In The Rain.\" Here, Kelly's \"Danny McGuire\" pouts much of the time. Phil Silvers, who I loved on TV at \"Sgt. Bilko,\" is so stupid in here as \"Genius\" you will just cringe listening to his dumb jokes....and they are stupid.<br /><br />The visuals are [[good]] [[with]] great Technicolor, which almost [[looks]] terrific. You get to see a lot of pretty women in here, too, not just Hayworth. [[Unfortunately]], the story isn't all that much. It centers around Hayworth deciding about a career choice. Along the way, we get the normal shabby treatment of marriage [[and]] we get an insultingly-dumb ending. All in all, an unmemorable [[film]], [[except]] as a [[showcase]] for Hayworth's beauty.\n",
      "\n",
      "Rita Hayworth is just stunning at [[length]] and, for me, the only [[motif]] to watch [[that]] silly film. Despite the overdone 1940s lipstick, Rita was one of the all-time glamor women of Hollywood. In fact, for a couple of years I can't imagine anyone that looked better, except maybe Elizabeth Taylor in her prime.<br /><br />Anyway, the co-star of the show, Gene Kelly, does [[never]] play his normal likable, at least the kind of guy we all know him from in \"Singin' In The Rain.\" Here, Kelly's \"Danny McGuire\" pouts much of the time. Phil Silvers, who I loved on TV at \"Sgt. Bilko,\" is so stupid in here as \"Genius\" you will just cringe listening to his dumb jokes....and they are stupid.<br /><br />The visuals are [[fine]] [[across]] great Technicolor, which almost [[emerge]] terrific. You get to see a lot of pretty women in here, too, not just Hayworth. [[Embarrassingly]], the story isn't all that much. It centers around Hayworth deciding about a career choice. Along the way, we get the normal shabby treatment of marriage [[either]] we get an insultingly-dumb ending. All in all, an unmemorable [[teatro]], [[while]] as a [[exemplifies]] for Hayworth's beauty.\n",
      "\n",
      "\n"
     ]
    },
    {
     "name": "stderr",
     "output_type": "stream",
     "text": [
      "\n",
      "[Succeeded / Failed / Skipped / Total] 89 / 1 / 8 / 98:  99%|█████████▉| 99/100 [19:13<00:11, 11.65s/it]\u001B[A\n",
      "[Succeeded / Failed / Skipped / Total] 90 / 1 / 8 / 99:  99%|█████████▉| 99/100 [19:13<00:11, 11.65s/it]\u001B[A"
     ]
    },
    {
     "name": "stdout",
     "output_type": "stream",
     "text": [
      "--------------------------------------------- Result 99 ---------------------------------------------\n",
      "[[Negative (100%)]] --> [[Positive (100%)]]\n",
      "\n",
      "Like 'Singin' in the Rain', 'Cover Girl' has a trio of two guys and a girl. In 'Cover Girl', Phil Silvers (Genius) is the comic relief. He corresponds to Donald O'Connor's funny man part in 'Singin in the Rain'. In Cover Girl, Gene Kelly's love interest is Rita Hayworth and in 'Rain', it's Debbie Reynolds. That's where the comparison ends.<br /><br />Whereas \"Singin' in the Rain' is a classic American movie musical, 'Cover Girl' is mediocrity incarnate. The story isn't very complicated. Rusty Parker (Rita Hayworth) is a dancer in Danny MacGuire's low-rent nightclub in Brooklyn. Rusty decides to enter a Cover Girl contest sponsored by a wealthy publisher, John Coudair, who made an unsuccessful play for Rusty's grandmother years ago. Coudair introduces Rusty to Broadway producer Noel Wheaton who makes her into a star. Danny feels slighted when Rusty starts showing up late for rehearsals at the nightclub and decides to close the club down and go on the road entertaining the troops along with his sidekick, Genius. At the last minute, with Rusty at the altar with Noel, she realizes the error of her ways and runs back to Danny. They live happily ever after.<br /><br />Gene Kelly has the [[least]] [[developed]] part in the movie. All we find out about him is that he owns a nightclub and is madly in love with Rusty. Coudair and Wheaton act like besotted teenagers toward Rusty and Phil Silvers delivers some thoroughly goofy but [[unfunny]] shtick. The most interesting aspect of Rita Hayworth's performance is the scene in which she gets drunk. This foreshadows what happened to her in real life. Anyone who has read her biography will learn that she disliked Hollywood, pined away for a normal home life which she could never attain but eventually began drinking and ended up with full-blown Alzheimer's during the last years of her life.<br /><br />Almost all of the songs in Cover Girl are old-fashioned and not very tuneful. Gene Kelly has only one really excellent dance number and that's the scene where he dances with his 'alter ego'. Earlier, the trio has another number which is a pale precursor of 'Make em Laugh' from 'Singin' in the Rain'.<br /><br />The most annoying thing about 'Cover Girl' is the way in which Rita Hayworth is put up on a pedestal. A couple of decades later, Raquel Welch had the same problem. Both actresses later in their careers would always try and find scripts that showcased their acting abilities. They wanted to be known as 'actresses' and not 'pinup girls'. Unfortunately, 'Cover Girl' is an example of how Hollywood used to exploit women for financial gain.\n",
      "\n",
      "Like 'Singin' in the Rain', 'Cover Girl' has a trio of two guys and a girl. In 'Cover Girl', Phil Silvers (Genius) is the comic relief. He corresponds to Donald O'Connor's funny man part in 'Singin in the Rain'. In Cover Girl, Gene Kelly's love interest is Rita Hayworth and in 'Rain', it's Debbie Reynolds. That's where the comparison ends.<br /><br />Whereas \"Singin' in the Rain' is a classic American movie musical, 'Cover Girl' is mediocrity incarnate. The story isn't very complicated. Rusty Parker (Rita Hayworth) is a dancer in Danny MacGuire's low-rent nightclub in Brooklyn. Rusty decides to enter a Cover Girl contest sponsored by a wealthy publisher, John Coudair, who made an unsuccessful play for Rusty's grandmother years ago. Coudair introduces Rusty to Broadway producer Noel Wheaton who makes her into a star. Danny feels slighted when Rusty starts showing up late for rehearsals at the nightclub and decides to close the club down and go on the road entertaining the troops along with his sidekick, Genius. At the last minute, with Rusty at the altar with Noel, she realizes the error of her ways and runs back to Danny. They live happily ever after.<br /><br />Gene Kelly has the [[tiniest]] [[crafted]] part in the movie. All we find out about him is that he owns a nightclub and is madly in love with Rusty. Coudair and Wheaton act like besotted teenagers toward Rusty and Phil Silvers delivers some thoroughly goofy but [[comedic]] shtick. The most interesting aspect of Rita Hayworth's performance is the scene in which she gets drunk. This foreshadows what happened to her in real life. Anyone who has read her biography will learn that she disliked Hollywood, pined away for a normal home life which she could never attain but eventually began drinking and ended up with full-blown Alzheimer's during the last years of her life.<br /><br />Almost all of the songs in Cover Girl are old-fashioned and not very tuneful. Gene Kelly has only one really excellent dance number and that's the scene where he dances with his 'alter ego'. Earlier, the trio has another number which is a pale precursor of 'Make em Laugh' from 'Singin' in the Rain'.<br /><br />The most annoying thing about 'Cover Girl' is the way in which Rita Hayworth is put up on a pedestal. A couple of decades later, Raquel Welch had the same problem. Both actresses later in their careers would always try and find scripts that showcased their acting abilities. They wanted to be known as 'actresses' and not 'pinup girls'. Unfortunately, 'Cover Girl' is an example of how Hollywood used to exploit women for financial gain.\n",
      "\n",
      "\n"
     ]
    },
    {
     "name": "stderr",
     "output_type": "stream",
     "text": [
      "\n",
      "[Succeeded / Failed / Skipped / Total] 90 / 1 / 8 / 99: 100%|██████████| 100/100 [19:21<00:00, 11.61s/it]\u001B[A\n",
      "[Succeeded / Failed / Skipped / Total] 91 / 1 / 8 / 100: 100%|██████████| 100/100 [19:21<00:00, 11.61s/it]\u001B[Atextattack: Saving checkpoint under \"checkpoints\\1682477178124.ta.chkpt\" at 2023-04-25 22:46:18 after 100 attacks.\n"
     ]
    },
    {
     "name": "stdout",
     "output_type": "stream",
     "text": [
      "--------------------------------------------- Result 100 ---------------------------------------------\n",
      "[[Negative (100%)]] --> [[Positive (98%)]]\n",
      "\n",
      "Rita Hayworth plays a Brooklyn nightclub dancer named Rusty who specializes in cheesecake chorus revues; she manages to get herself on the cover of a national fashion magazine, but her impending success as a solo (with romantic offers all around) has smitten boss Gene Kelly [[chomping]] at the bit. [[Terribly]] tired [[piece]] [[of]] Technicolor cotton candy, with unmemorable musical sketches (the two worst of which are irrelevant flashbacks to the 1890s, with [[Hayworth]] portraying her own grandmother). Kelly, as always, [[dances]] well but acts with false sincerity; when he's serious, he's insufferable, and the rest of the time he's flying on adrenaline. The script is a lead weight, [[not]] even giving supporting players Phil Silvers and Eve Arden any good lines. *1/2 from ****\n",
      "\n",
      "Rita Hayworth plays a Brooklyn nightclub dancer named Rusty who specializes in cheesecake chorus revues; she manages to get herself on the cover of a national fashion magazine, but her impending success as a solo (with romantic offers all around) has smitten boss Gene Kelly [[chomp]] at the bit. [[Terrifically]] tired [[part]] [[into]] Technicolor cotton candy, with unmemorable musical sketches (the two worst of which are irrelevant flashbacks to the 1890s, with [[Bacall]] portraying her own grandmother). Kelly, as always, [[ballets]] well but acts with false sincerity; when he's serious, he's insufferable, and the rest of the time he's flying on adrenaline. The script is a lead weight, [[nada]] even giving supporting players Phil Silvers and Eve Arden any good lines. *1/2 from ****\n",
      "\n",
      "\n",
      "\n",
      "\n",
      "=============================================================================================================================\n",
      "=============================================================================================================================\n",
      "\n"
     ]
    },
    {
     "name": "stderr",
     "output_type": "stream",
     "text": [
      "[Succeeded / Failed / Skipped / Total] 91 / 1 / 8 / 100: 100%|██████████| 100/100 [19:21<00:00, 11.61s/it]"
     ]
    },
    {
     "name": "stdout",
     "output_type": "stream",
     "text": [
      "\n",
      "+-------------------------------+--------+\n",
      "| Attack Results                |        |\n",
      "+-------------------------------+--------+\n",
      "| Number of successful attacks: | 91     |\n",
      "| Number of failed attacks:     | 1      |\n",
      "| Number of skipped attacks:    | 8      |\n",
      "| Original accuracy:            | 92.0%  |\n",
      "| Accuracy under attack:        | 1.0%   |\n",
      "| Attack success rate:          | 98.91% |\n",
      "| Average perturbed word %:     | 8.38%  |\n",
      "| Average num. words per input: | 244.84 |\n",
      "| Avg num queries:              | 692.5  |\n",
      "+-------------------------------+--------+\n",
      "============================\n",
      "[<textattack.attack_results.successful_attack_result.SuccessfulAttackResult object at 0x000001CA39612B20>, <textattack.attack_results.successful_attack_result.SuccessfulAttackResult object at 0x000001CA03235880>, <textattack.attack_results.successful_attack_result.SuccessfulAttackResult object at 0x000001CADF41BD30>, <textattack.attack_results.successful_attack_result.SuccessfulAttackResult object at 0x000001CA38BC7160>, <textattack.attack_results.skipped_attack_result.SkippedAttackResult object at 0x000001CA69193AC0>, <textattack.attack_results.successful_attack_result.SuccessfulAttackResult object at 0x000001CA38BA6850>, <textattack.attack_results.successful_attack_result.SuccessfulAttackResult object at 0x000001CA732A63D0>, <textattack.attack_results.successful_attack_result.SuccessfulAttackResult object at 0x000001CA029B74F0>, <textattack.attack_results.successful_attack_result.SuccessfulAttackResult object at 0x000001CA32DCD2B0>, <textattack.attack_results.successful_attack_result.SuccessfulAttackResult object at 0x000001CA0312B0A0>, <textattack.attack_results.successful_attack_result.SuccessfulAttackResult object at 0x000001CA02FA6C40>, <textattack.attack_results.successful_attack_result.SuccessfulAttackResult object at 0x000001CA0309B5B0>, <textattack.attack_results.successful_attack_result.SuccessfulAttackResult object at 0x000001CAE8737DC0>, <textattack.attack_results.successful_attack_result.SuccessfulAttackResult object at 0x000001CA0312B160>, <textattack.attack_results.successful_attack_result.SuccessfulAttackResult object at 0x000001CA32A64A60>, <textattack.attack_results.successful_attack_result.SuccessfulAttackResult object at 0x000001CA37E52970>, <textattack.attack_results.successful_attack_result.SuccessfulAttackResult object at 0x000001CA78370D30>, <textattack.attack_results.successful_attack_result.SuccessfulAttackResult object at 0x000001CAEA5BA9A0>, <textattack.attack_results.skipped_attack_result.SkippedAttackResult object at 0x000001CAEA5BAEE0>, <textattack.attack_results.successful_attack_result.SuccessfulAttackResult object at 0x000001CA029B7F70>, <textattack.attack_results.skipped_attack_result.SkippedAttackResult object at 0x000001CA732A6EB0>, <textattack.attack_results.successful_attack_result.SuccessfulAttackResult object at 0x000001CADF41B5B0>, <textattack.attack_results.successful_attack_result.SuccessfulAttackResult object at 0x000001CA02B23280>, <textattack.attack_results.successful_attack_result.SuccessfulAttackResult object at 0x000001CA67C13550>, <textattack.attack_results.successful_attack_result.SuccessfulAttackResult object at 0x000001CA690AE730>, <textattack.attack_results.successful_attack_result.SuccessfulAttackResult object at 0x000001CA86D4CD30>, <textattack.attack_results.successful_attack_result.SuccessfulAttackResult object at 0x000001CA39AFF130>, <textattack.attack_results.successful_attack_result.SuccessfulAttackResult object at 0x000001CAE03A4100>, <textattack.attack_results.successful_attack_result.SuccessfulAttackResult object at 0x000001CA33F84280>, <textattack.attack_results.successful_attack_result.SuccessfulAttackResult object at 0x000001CAC7E16E50>, <textattack.attack_results.successful_attack_result.SuccessfulAttackResult object at 0x000001CA85FC46A0>, <textattack.attack_results.successful_attack_result.SuccessfulAttackResult object at 0x000001CA75DBED00>, <textattack.attack_results.skipped_attack_result.SkippedAttackResult object at 0x000001CAAA0832E0>, <textattack.attack_results.successful_attack_result.SuccessfulAttackResult object at 0x000001CA32D8D2B0>, <textattack.attack_results.successful_attack_result.SuccessfulAttackResult object at 0x000001CAAD9436D0>, <textattack.attack_results.successful_attack_result.SuccessfulAttackResult object at 0x000001CA7524F700>, <textattack.attack_results.successful_attack_result.SuccessfulAttackResult object at 0x000001CA738B4EE0>, <textattack.attack_results.skipped_attack_result.SkippedAttackResult object at 0x000001CAC8C05850>, <textattack.attack_results.successful_attack_result.SuccessfulAttackResult object at 0x000001CA76376AF0>, <textattack.attack_results.successful_attack_result.SuccessfulAttackResult object at 0x000001CA03D66C40>, <textattack.attack_results.successful_attack_result.SuccessfulAttackResult object at 0x000001CA93EC2910>, <textattack.attack_results.successful_attack_result.SuccessfulAttackResult object at 0x000001CAC8C05910>, <textattack.attack_results.successful_attack_result.SuccessfulAttackResult object at 0x000001CA8ACD4A30>, <textattack.attack_results.successful_attack_result.SuccessfulAttackResult object at 0x000001CAC5E5DE50>, <textattack.attack_results.successful_attack_result.SuccessfulAttackResult object at 0x000001CA87CEE400>, <textattack.attack_results.successful_attack_result.SuccessfulAttackResult object at 0x000001CA77DBDD90>, <textattack.attack_results.skipped_attack_result.SkippedAttackResult object at 0x000001CAA040FBB0>, <textattack.attack_results.successful_attack_result.SuccessfulAttackResult object at 0x000001CA864B2190>, <textattack.attack_results.successful_attack_result.SuccessfulAttackResult object at 0x000001CA00038400>, <textattack.attack_results.successful_attack_result.SuccessfulAttackResult object at 0x000001CAA040FE50>, <textattack.attack_results.successful_attack_result.SuccessfulAttackResult object at 0x000001CAA040FDF0>, <textattack.attack_results.skipped_attack_result.SkippedAttackResult object at 0x000001CA7524F6A0>, <textattack.attack_results.successful_attack_result.SuccessfulAttackResult object at 0x000001CA73A551F0>, <textattack.attack_results.successful_attack_result.SuccessfulAttackResult object at 0x000001CA39F07F70>, <textattack.attack_results.successful_attack_result.SuccessfulAttackResult object at 0x000001CA38F72B80>, <textattack.attack_results.successful_attack_result.SuccessfulAttackResult object at 0x000001CAE03A4160>, <textattack.attack_results.successful_attack_result.SuccessfulAttackResult object at 0x000001CAAA7992B0>, <textattack.attack_results.successful_attack_result.SuccessfulAttackResult object at 0x000001CA32D8DF40>, <textattack.attack_results.successful_attack_result.SuccessfulAttackResult object at 0x000001CAA95C5940>, <textattack.attack_results.successful_attack_result.SuccessfulAttackResult object at 0x000001CA93EC23D0>, <textattack.attack_results.successful_attack_result.SuccessfulAttackResult object at 0x000001CAAA799AC0>, <textattack.attack_results.successful_attack_result.SuccessfulAttackResult object at 0x000001CA0312B460>, <textattack.attack_results.successful_attack_result.SuccessfulAttackResult object at 0x000001CAD9C1DEB0>, <textattack.attack_results.successful_attack_result.SuccessfulAttackResult object at 0x000001CA39C7A730>, <textattack.attack_results.successful_attack_result.SuccessfulAttackResult object at 0x000001CA32D8D970>, <textattack.attack_results.successful_attack_result.SuccessfulAttackResult object at 0x000001CA029ADBE0>, <textattack.attack_results.successful_attack_result.SuccessfulAttackResult object at 0x000001CAC7E16280>, <textattack.attack_results.successful_attack_result.SuccessfulAttackResult object at 0x000001CA864B2A90>, <textattack.attack_results.successful_attack_result.SuccessfulAttackResult object at 0x000001CA90265520>, <textattack.attack_results.successful_attack_result.SuccessfulAttackResult object at 0x000001CA32A64BE0>, <textattack.attack_results.successful_attack_result.SuccessfulAttackResult object at 0x000001CAE8CAB160>, <textattack.attack_results.successful_attack_result.SuccessfulAttackResult object at 0x000001CA03033820>, <textattack.attack_results.successful_attack_result.SuccessfulAttackResult object at 0x000001CABC72E2E0>, <textattack.attack_results.successful_attack_result.SuccessfulAttackResult object at 0x000001CA0366BD60>, <textattack.attack_results.successful_attack_result.SuccessfulAttackResult object at 0x000001CA453E5E80>, <textattack.attack_results.successful_attack_result.SuccessfulAttackResult object at 0x000001CA72DE0DF0>, <textattack.attack_results.successful_attack_result.SuccessfulAttackResult object at 0x000001CA7781C6D0>, <textattack.attack_results.successful_attack_result.SuccessfulAttackResult object at 0x000001CA88BFD850>, <textattack.attack_results.successful_attack_result.SuccessfulAttackResult object at 0x000001CAEA2F4FA0>, <textattack.attack_results.skipped_attack_result.SkippedAttackResult object at 0x000001CAEA2F44C0>, <textattack.attack_results.successful_attack_result.SuccessfulAttackResult object at 0x000001CAEA5BA250>, <textattack.attack_results.successful_attack_result.SuccessfulAttackResult object at 0x000001CA029B7EB0>, <textattack.attack_results.successful_attack_result.SuccessfulAttackResult object at 0x000001CA00038310>, <textattack.attack_results.successful_attack_result.SuccessfulAttackResult object at 0x000001CAC8C058B0>, <textattack.attack_results.successful_attack_result.SuccessfulAttackResult object at 0x000001CA32D8D6A0>, <textattack.attack_results.successful_attack_result.SuccessfulAttackResult object at 0x000001CA029B7CD0>, <textattack.attack_results.successful_attack_result.SuccessfulAttackResult object at 0x000001CA03A559D0>, <textattack.attack_results.successful_attack_result.SuccessfulAttackResult object at 0x000001CAEAA19130>, <textattack.attack_results.successful_attack_result.SuccessfulAttackResult object at 0x000001CA02188E80>, <textattack.attack_results.successful_attack_result.SuccessfulAttackResult object at 0x000001CAE0BB5820>, <textattack.attack_results.failed_attack_result.FailedAttackResult object at 0x000001CABC72E3A0>, <textattack.attack_results.successful_attack_result.SuccessfulAttackResult object at 0x000001CA38F729A0>, <textattack.attack_results.successful_attack_result.SuccessfulAttackResult object at 0x000001CA1E59AA00>, <textattack.attack_results.successful_attack_result.SuccessfulAttackResult object at 0x000001CADF41B970>, <textattack.attack_results.successful_attack_result.SuccessfulAttackResult object at 0x000001CA738B46A0>, <textattack.attack_results.successful_attack_result.SuccessfulAttackResult object at 0x000001CAE0BB57F0>, <textattack.attack_results.successful_attack_result.SuccessfulAttackResult object at 0x000001CA03548EB0>, <textattack.attack_results.successful_attack_result.SuccessfulAttackResult object at 0x000001CA88FCC070>, <textattack.attack_results.successful_attack_result.SuccessfulAttackResult object at 0x000001CAC806DEE0>, <textattack.attack_results.successful_attack_result.SuccessfulAttackResult object at 0x000001CA32D8DAF0>]\n"
     ]
    },
    {
     "name": "stderr",
     "output_type": "stream",
     "text": [
      "\n"
     ]
    }
   ],
   "source": [
    "import textattack\n",
    "import transformers\n",
    "from textattack import Attacker\n",
    "from textattack.datasets import HuggingFaceDataset\n",
    "from textattack.constraints.pre_transformation.max_modification_rate import MaxModificationRate\n",
    "dataset = HuggingFaceDataset(\"imdb\", split=\"test\")\n",
    "from textattack.constraints.semantics.sentence_encoders import UniversalSentenceEncoder\n",
    "\n",
    "from textattack import Attack\n",
    "from textattack.constraints.grammaticality import PartOfSpeech\n",
    "from textattack.constraints.pre_transformation import (\n",
    "    InputColumnModification,\n",
    "    RepeatModification,\n",
    "    StopwordModification,\n",
    "    MaxModificationRate\n",
    ")\n",
    "from textattack.constraints.semantics import WordEmbeddingDistance\n",
    "from textattack.constraints.semantics.sentence_encoders import BERT\n",
    "from textattack.goal_functions import UntargetedClassification\n",
    "from textattack.search_methods import GreedyWordSwapWIR\n",
    "from textattack.transformations import WordSwapEmbedding, WordSwapMaskedLM\n",
    "\n",
    "\n",
    "def build_A2T(model_wrapper, mlm=False):\n",
    "    constraints = [RepeatModification(), StopwordModification()]\n",
    "    input_column_modification = InputColumnModification(\n",
    "        [\"premise\", \"hypothesis\"], {\"premise\"}\n",
    "    )\n",
    "    constraints.append(input_column_modification)\n",
    "    constraints.append(PartOfSpeech(allow_verb_noun_swap=False))\n",
    "    constraints.append(MaxModificationRate(max_rate=0.1, min_threshold=4))\n",
    "    sent_encoder = BERT(\n",
    "        model_name=\"stsb-distilbert-base\", threshold=0.9, metric=\"cosine\"\n",
    "    )\n",
    "    constraints.append(sent_encoder)\n",
    "\n",
    "    if mlm:\n",
    "        transformation = transformation = WordSwapMaskedLM(\n",
    "            method=\"bae\", max_candidates=20, min_confidence=0.0, batch_size=16\n",
    "        )\n",
    "    else:\n",
    "        transformation = WordSwapEmbedding(max_candidates=20)\n",
    "        constraints.append(WordEmbeddingDistance(min_cos_sim=0.8))\n",
    "\n",
    "    #\n",
    "    # Goal is untargeted classification\n",
    "    #\n",
    "    goal_function = UntargetedClassification(model_wrapper, target_max_score=0.8, model_batch_size=32)\n",
    "    #\n",
    "    # Greedily swap words with \"Word Importance Ranking\".\n",
    "    #\n",
    "    search_method = GreedyWordSwapWIR(wir_method=\"gradient\")\n",
    "\n",
    "    return Attack(goal_function, constraints, transformation, search_method)\n",
    "\n",
    "\n",
    "def build_textFooler(model_wrapper):\n",
    "    #\n",
    "    # Swap words with their 50 closest embedding nearest-neighbors.\n",
    "    # Embedding: Counter-fitted PARAGRAM-SL999 vectors.\n",
    "    #\n",
    "    transformation = WordSwapEmbedding(max_candidates=50)\n",
    "    #\n",
    "    # Don't modify the same word twice or the stopwords defined\n",
    "    # in the TextFooler public implementation.\n",
    "    #\n",
    "    # fmt: off\n",
    "    stopwords = set(\n",
    "        [\"a\", \"about\", \"above\", \"across\", \"after\", \"afterwards\", \"again\", \"against\", \"ain\", \"all\", \"almost\", \"alone\",\n",
    "         \"along\", \"already\", \"also\", \"although\", \"am\", \"among\", \"amongst\", \"an\", \"and\", \"another\", \"any\", \"anyhow\",\n",
    "         \"anyone\", \"anything\", \"anyway\", \"anywhere\", \"are\", \"aren\", \"aren't\", \"around\", \"as\", \"at\", \"back\", \"been\",\n",
    "         \"before\", \"beforehand\", \"behind\", \"being\", \"below\", \"beside\", \"besides\", \"between\", \"beyond\", \"both\", \"but\",\n",
    "         \"by\", \"can\", \"cannot\", \"could\", \"couldn\", \"couldn't\", \"d\", \"didn\", \"didn't\", \"doesn\", \"doesn't\", \"don\",\n",
    "         \"don't\", \"down\", \"due\", \"during\", \"either\", \"else\", \"elsewhere\", \"empty\", \"enough\", \"even\", \"ever\", \"everyone\",\n",
    "         \"everything\", \"everywhere\", \"except\", \"first\", \"for\", \"former\", \"formerly\", \"from\", \"hadn\", \"hadn't\", \"hasn\",\n",
    "         \"hasn't\", \"haven\", \"haven't\", \"he\", \"hence\", \"her\", \"here\", \"hereafter\", \"hereby\", \"herein\", \"hereupon\",\n",
    "         \"hers\", \"herself\", \"him\", \"himself\", \"his\", \"how\", \"however\", \"hundred\", \"i\", \"if\", \"in\", \"indeed\", \"into\",\n",
    "         \"is\", \"isn\", \"isn't\", \"it\", \"it's\", \"its\", \"itself\", \"just\", \"latter\", \"latterly\", \"least\", \"ll\", \"may\", \"me\",\n",
    "         \"meanwhile\", \"mightn\", \"mightn't\", \"mine\", \"more\", \"moreover\", \"most\", \"mostly\", \"must\", \"mustn\", \"mustn't\",\n",
    "         \"my\", \"myself\", \"namely\", \"needn\", \"needn't\", \"neither\", \"never\", \"nevertheless\", \"next\", \"no\", \"nobody\",\n",
    "         \"none\", \"noone\", \"nor\", \"not\", \"nothing\", \"now\", \"nowhere\", \"o\", \"of\", \"off\", \"on\", \"once\", \"one\", \"only\",\n",
    "         \"onto\", \"or\", \"other\", \"others\", \"otherwise\", \"our\", \"ours\", \"ourselves\", \"out\", \"over\", \"per\", \"please\", \"s\",\n",
    "         \"same\", \"shan\", \"shan't\", \"she\", \"she's\", \"should've\", \"shouldn\", \"shouldn't\", \"somehow\", \"something\",\n",
    "         \"sometime\", \"somewhere\", \"such\", \"t\", \"than\", \"that\", \"that'll\", \"the\", \"their\", \"theirs\", \"them\",\n",
    "         \"themselves\", \"then\", \"thence\", \"there\", \"thereafter\", \"thereby\", \"therefore\", \"therein\", \"thereupon\", \"these\",\n",
    "         \"they\", \"this\", \"those\", \"through\", \"throughout\", \"thru\", \"thus\", \"to\", \"too\", \"toward\", \"towards\", \"under\",\n",
    "         \"unless\", \"until\", \"up\", \"upon\", \"used\", \"ve\", \"was\", \"wasn\", \"wasn't\", \"we\", \"were\", \"weren\", \"weren't\",\n",
    "         \"what\", \"whatever\", \"when\", \"whence\", \"whenever\", \"where\", \"whereafter\", \"whereas\", \"whereby\", \"wherein\",\n",
    "         \"whereupon\", \"wherever\", \"whether\", \"which\", \"while\", \"whither\", \"who\", \"whoever\", \"whole\", \"whom\", \"whose\",\n",
    "         \"why\", \"with\", \"within\", \"without\", \"won\", \"won't\", \"would\", \"wouldn\", \"wouldn't\", \"y\", \"yet\", \"you\", \"you'd\",\n",
    "         \"you'll\", \"you're\", \"you've\", \"your\", \"yours\", \"yourself\", \"yourselves\"]\n",
    "    )\n",
    "    # fmt: on\n",
    "    constraints = [RepeatModification()\n",
    "                   # StopwordModification(stopwords=stopwords)\n",
    "        , MaxModificationRate(max_rate=0.5, min_threshold= 10)]\n",
    "    #\n",
    "    # During entailment, we should only edit the hypothesis - keep the premise\n",
    "    # the same.\n",
    "    #\n",
    "    input_column_modification = InputColumnModification(\n",
    "        [\"premise\", \"hypothesis\"], {\"premise\"}\n",
    "    )\n",
    "    constraints.append(input_column_modification)\n",
    "    # Minimum word embedding cosine similarity of 0.5.\n",
    "    # (The paper claims 0.7, but analysis of the released code and some empirical\n",
    "    # results show that it's 0.5.)\n",
    "    #\n",
    "    constraints.append(WordEmbeddingDistance(min_cos_sim=0.5))\n",
    "    #\n",
    "    # Only replace words with the same part of speech (or nouns with verbs)\n",
    "    #\n",
    "    constraints.append(PartOfSpeech(allow_verb_noun_swap=True))\n",
    "    #\n",
    "    # Universal Sentence Encoder with a minimum angular similarity of ε = 0.5.\n",
    "    #\n",
    "    # In the TextFooler code, they forget to divide the angle between the two\n",
    "    # embeddings by pi. So if the original threshold was that 1 - sim >= 0.5, the\n",
    "    # new threshold is 1 - (0.5) / pi = 0.840845057\n",
    "    #\n",
    "    use_constraint = UniversalSentenceEncoder(\n",
    "        threshold=0.840845057,\n",
    "        metric=\"angular\",\n",
    "        compare_against_original=False,\n",
    "        window_size=15,\n",
    "        skip_text_shorter_than_window=True,\n",
    "    )\n",
    "    constraints.append(use_constraint)\n",
    "    #\n",
    "    # Goal is untargeted classification\n",
    "    #\n",
    "    goal_function = UntargetedClassification(model_wrapper, target_max_score=0.7)\n",
    "    #\n",
    "    # Greedily swap words with \"Word Importance Ranking\".\n",
    "    #\n",
    "    search_method = GreedyWordSwapWIR(wir_method=\"delete\")\n",
    "\n",
    "    return Attack(goal_function, constraints, transformation, search_method)\n",
    "\n",
    "\n",
    "# Load target model, tokenizer, and model_wrapper\n",
    "model = transformers.AutoModelForSequenceClassification.from_pretrained(\"textattack/bert-base-uncased-imdb\").to(device)\n",
    "tokenizer = transformers.AutoTokenizer.from_pretrained(\"textattack/bert-base-uncased-imdb\")\n",
    "model_wrapper = textattack.models.wrappers.HuggingFaceModelWrapper(model, tokenizer)\n",
    "\n",
    "attack_type = 'combined'\n",
    "attack_args = textattack.AttackArgs(\n",
    "    num_examples=100,\n",
    "    log_to_csv=f\"log_{attack_type}.csv\",\n",
    "    checkpoint_interval=5,\n",
    "    checkpoint_dir=\"checkpoints\",\n",
    "    disable_stdout=False\n",
    ")\n",
    "dataset = HuggingFaceDataset(\"imdb\", split=\"test\")\n",
    "\n",
    "# Now, let's make the attack from the 4 components:\n",
    "attack = build_textFooler(model_wrapper)\n",
    "# attack = TextFoolerJin2019.build(model_wrapper)\n",
    "# attack = Attack(goal_function, constraints, transformation, search_method)\n",
    "attacker = Attacker(attack, dataset, attack_args)\n",
    "res = attacker.attack_dataset()\n",
    "\n",
    "print('============================')\n",
    "print(res)"
   ]
  },
  {
   "cell_type": "code",
   "execution_count": 88,
   "outputs": [],
   "source": [
    "import pandas as pd\n",
    "\n",
    "df = pd.read_csv('attack-log/imdb/bert/textfooler_min_10/textfooler_min_10.csv')"
   ],
   "metadata": {
    "collapsed": false
   }
  },
  {
   "cell_type": "code",
   "execution_count": 77,
   "outputs": [],
   "source": [
    "df.loc[(df.result_type == 'Successful') &  (df.original_output == df.perturbed_output), 'result_type'] = 'Failed'"
   ],
   "metadata": {
    "collapsed": false
   }
  },
  {
   "cell_type": "code",
   "execution_count": 89,
   "outputs": [
    {
     "data": {
      "text/plain": "    Unnamed: 0                                      original_text  \\\n0            0  [[I]] [[love]] sci-fi and [[am]] [[willing]] t...   \n1            1  Worth the entertainment value of a rental, esp...   \n2            2  its a totally average film with a few semi-alr...   \n3            3  [[STAR]] [[RATING]]: ***** Saturday Night ****...   \n4            5  [[I]] had high [[hopes]] for this one until th...   \n..         ...                                                ...   \n86          95  This film [[seems]] well made, and more effort...   \n87          96  It hurt to watch this movie, it really did... ...   \n88          97  Rita Hayworth is just stunning at [[times]] an...   \n89          98  Like 'Singin' in the Rain', 'Cover Girl' has a...   \n90          99  Rita Hayworth plays a Brooklyn nightclub dance...   \n\n                                       perturbed_text  original_score  \\\n0   [[me]] [[enjoyed]] sci-fi and [[feel]] [[wish]...        0.000173   \n1   Worth the entertainment value of a rental, esp...        0.003665   \n2   its a totally average film with a few semi-alr...        0.003767   \n3   [[STARLIGHT]] [[SYMBOL]]: ***** Saturday Night...        0.000160   \n4   [[me]] had high [[prospects]] for this one unt...        0.000208   \n..                                                ...             ...   \n86  This film [[emerges]] well made, and more effo...        0.000218   \n87  It hurt to watch this movie, it really did... ...        0.000333   \n88  Rita Hayworth is just stunning at [[length]] a...        0.000176   \n89  Like 'Singin' in the Rain', 'Cover Girl' has a...        0.000291   \n90  Rita Hayworth plays a Brooklyn nightclub dance...        0.000235   \n\n    perturbed_score  original_output  perturbed_output  ground_truth_output  \\\n0          0.563655                0                 1                    0   \n1          0.573658                0                 1                    0   \n2          0.536536                0                 1                    0   \n3          0.540451                0                 1                    0   \n4          0.903948                0                 1                    0   \n..              ...              ...               ...                  ...   \n86         0.929699                0                 1                    0   \n87         0.888271                0                 1                    0   \n88         0.570742                0                 1                    0   \n89         0.998933                0                 1                    0   \n90         0.983720                0                 1                    0   \n\n    num_queries result_type  \n0          1006  Successful  \n1           246  Successful  \n2           154  Successful  \n3           958  Successful  \n4           372  Successful  \n..          ...         ...  \n86          338  Successful  \n87          186  Successful  \n88          437  Successful  \n89          544  Successful  \n90          287  Successful  \n\n[91 rows x 10 columns]",
      "text/html": "<div>\n<style scoped>\n    .dataframe tbody tr th:only-of-type {\n        vertical-align: middle;\n    }\n\n    .dataframe tbody tr th {\n        vertical-align: top;\n    }\n\n    .dataframe thead th {\n        text-align: right;\n    }\n</style>\n<table border=\"1\" class=\"dataframe\">\n  <thead>\n    <tr style=\"text-align: right;\">\n      <th></th>\n      <th>Unnamed: 0</th>\n      <th>original_text</th>\n      <th>perturbed_text</th>\n      <th>original_score</th>\n      <th>perturbed_score</th>\n      <th>original_output</th>\n      <th>perturbed_output</th>\n      <th>ground_truth_output</th>\n      <th>num_queries</th>\n      <th>result_type</th>\n    </tr>\n  </thead>\n  <tbody>\n    <tr>\n      <th>0</th>\n      <td>0</td>\n      <td>[[I]] [[love]] sci-fi and [[am]] [[willing]] t...</td>\n      <td>[[me]] [[enjoyed]] sci-fi and [[feel]] [[wish]...</td>\n      <td>0.000173</td>\n      <td>0.563655</td>\n      <td>0</td>\n      <td>1</td>\n      <td>0</td>\n      <td>1006</td>\n      <td>Successful</td>\n    </tr>\n    <tr>\n      <th>1</th>\n      <td>1</td>\n      <td>Worth the entertainment value of a rental, esp...</td>\n      <td>Worth the entertainment value of a rental, esp...</td>\n      <td>0.003665</td>\n      <td>0.573658</td>\n      <td>0</td>\n      <td>1</td>\n      <td>0</td>\n      <td>246</td>\n      <td>Successful</td>\n    </tr>\n    <tr>\n      <th>2</th>\n      <td>2</td>\n      <td>its a totally average film with a few semi-alr...</td>\n      <td>its a totally average film with a few semi-alr...</td>\n      <td>0.003767</td>\n      <td>0.536536</td>\n      <td>0</td>\n      <td>1</td>\n      <td>0</td>\n      <td>154</td>\n      <td>Successful</td>\n    </tr>\n    <tr>\n      <th>3</th>\n      <td>3</td>\n      <td>[[STAR]] [[RATING]]: ***** Saturday Night ****...</td>\n      <td>[[STARLIGHT]] [[SYMBOL]]: ***** Saturday Night...</td>\n      <td>0.000160</td>\n      <td>0.540451</td>\n      <td>0</td>\n      <td>1</td>\n      <td>0</td>\n      <td>958</td>\n      <td>Successful</td>\n    </tr>\n    <tr>\n      <th>4</th>\n      <td>5</td>\n      <td>[[I]] had high [[hopes]] for this one until th...</td>\n      <td>[[me]] had high [[prospects]] for this one unt...</td>\n      <td>0.000208</td>\n      <td>0.903948</td>\n      <td>0</td>\n      <td>1</td>\n      <td>0</td>\n      <td>372</td>\n      <td>Successful</td>\n    </tr>\n    <tr>\n      <th>...</th>\n      <td>...</td>\n      <td>...</td>\n      <td>...</td>\n      <td>...</td>\n      <td>...</td>\n      <td>...</td>\n      <td>...</td>\n      <td>...</td>\n      <td>...</td>\n      <td>...</td>\n    </tr>\n    <tr>\n      <th>86</th>\n      <td>95</td>\n      <td>This film [[seems]] well made, and more effort...</td>\n      <td>This film [[emerges]] well made, and more effo...</td>\n      <td>0.000218</td>\n      <td>0.929699</td>\n      <td>0</td>\n      <td>1</td>\n      <td>0</td>\n      <td>338</td>\n      <td>Successful</td>\n    </tr>\n    <tr>\n      <th>87</th>\n      <td>96</td>\n      <td>It hurt to watch this movie, it really did... ...</td>\n      <td>It hurt to watch this movie, it really did... ...</td>\n      <td>0.000333</td>\n      <td>0.888271</td>\n      <td>0</td>\n      <td>1</td>\n      <td>0</td>\n      <td>186</td>\n      <td>Successful</td>\n    </tr>\n    <tr>\n      <th>88</th>\n      <td>97</td>\n      <td>Rita Hayworth is just stunning at [[times]] an...</td>\n      <td>Rita Hayworth is just stunning at [[length]] a...</td>\n      <td>0.000176</td>\n      <td>0.570742</td>\n      <td>0</td>\n      <td>1</td>\n      <td>0</td>\n      <td>437</td>\n      <td>Successful</td>\n    </tr>\n    <tr>\n      <th>89</th>\n      <td>98</td>\n      <td>Like 'Singin' in the Rain', 'Cover Girl' has a...</td>\n      <td>Like 'Singin' in the Rain', 'Cover Girl' has a...</td>\n      <td>0.000291</td>\n      <td>0.998933</td>\n      <td>0</td>\n      <td>1</td>\n      <td>0</td>\n      <td>544</td>\n      <td>Successful</td>\n    </tr>\n    <tr>\n      <th>90</th>\n      <td>99</td>\n      <td>Rita Hayworth plays a Brooklyn nightclub dance...</td>\n      <td>Rita Hayworth plays a Brooklyn nightclub dance...</td>\n      <td>0.000235</td>\n      <td>0.983720</td>\n      <td>0</td>\n      <td>1</td>\n      <td>0</td>\n      <td>287</td>\n      <td>Successful</td>\n    </tr>\n  </tbody>\n</table>\n<p>91 rows × 10 columns</p>\n</div>"
     },
     "execution_count": 89,
     "metadata": {},
     "output_type": "execute_result"
    }
   ],
   "source": [
    "df"
   ],
   "metadata": {
    "collapsed": false
   }
  },
  {
   "cell_type": "code",
   "execution_count": 92,
   "outputs": [
    {
     "data": {
      "text/plain": "'[[me]] [[enjoyed]] sci-fi and [[feel]] [[wish]] to put [[upstairs]] [[into]] [[another]] lot. Sci-fi [[musicals]]/TV are usually underfunded, under-appreciated and misunderstood. I [[judged]] to like this, I [[indeed]] did, but it [[provides]] to [[nice]] TV sci-fi as Babylon 5 [[ai]] to Star Trek (the original). [[Punchy]] [[surgeon]], cheap cardboard sets, stilted dialogues, [[MC]] that doesn\\'t match the background, [[nor]] [[terrifically]] one-dimensional characters [[pronounced]] be overcome [[of]] a \\'sci-fi\\' setting. (I\\'m sure there are those of you [[outside]] there [[whoever]] think Babylon 5 is good sci-fi TV. It\\'s not. It\\'s clichéd and uninspiring.) [[During]] US viewers might like emotion and character development, sci-fi is a [[sorting]] that does [[never]] [[assuming]] itself seriously (cf. Star Trek). It may treat important issues, yet not as a serious philosophy. It\\'s really difficult to care about the characters here as they are not simply foolish, just missing a spark of life. Their actions and [[reply]] are wooden and [[foretold]], [[generally]] [[poignant]] to watch. The [[setters]] of Earth [[APPRECIATE]] it\\'s rubbish as they have to always say \"Gene Roddenberry\\'s Earth...\" otherwise people would not continue watching. Roddenberry\\'s ashes must [[have]] turning in their [[orbiting]] [[oj]] this dull, cheap, poorly edited (watching it without advert breaks really brings this home) trudging Trabant of a show lumbers into space. Spoiler. So, kill off a main character. And then bring him back as another actor. Jeeez! Dallas all over again.'"
     },
     "execution_count": 92,
     "metadata": {},
     "output_type": "execute_result"
    }
   ],
   "source": [
    "df.perturbed_text[0]"
   ],
   "metadata": {
    "collapsed": false
   }
  },
  {
   "cell_type": "code",
   "execution_count": 80,
   "outputs": [],
   "source": [
    "df.to_csv(\"attack-log/imdb/bert/textfooler/log_sub.csv\")"
   ],
   "metadata": {
    "collapsed": false
   }
  }
 ],
 "metadata": {
  "kernelspec": {
   "display_name": "Python 3",
   "language": "python",
   "name": "python3"
  },
  "language_info": {
   "codemirror_mode": {
    "name": "ipython",
    "version": 2
   },
   "file_extension": ".py",
   "mimetype": "text/x-python",
   "name": "python",
   "nbconvert_exporter": "python",
   "pygments_lexer": "ipython2",
   "version": "2.7.6"
  }
 },
 "nbformat": 4,
 "nbformat_minor": 0
}
